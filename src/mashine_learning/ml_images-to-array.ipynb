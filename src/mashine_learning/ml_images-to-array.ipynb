{
 "cells": [
  {
   "cell_type": "code",
   "execution_count": null,
   "metadata": {},
   "outputs": [],
   "source": [
    "import os\n",
    "\n",
    "import numpy as np\n",
    "import pandas as pd\n",
    "\n",
    "from tqdm.notebook import tqdm\n",
    "\n",
    "from skimage.io import imread\n",
    "from skimage.transform import resize\n",
    "\n",
    "from sklearn.utils import shuffle\n",
    "\n",
    "from catboost import CatBoostClassifier\n",
    "from sklearn.ensemble import RandomForestClassifier\n",
    "from sklearn.tree import DecisionTreeClassifier\n",
    "from sklearn.neighbors import KNeighborsClassifier\n",
    "\n",
    "from sklearn.model_selection import GridSearchCV\n",
    "\n",
    "import seaborn as sns\n",
    "import matplotlib.pyplot as plt\n",
    "from sklearn import metrics"
   ]
  },
  {
   "attachments": {},
   "cell_type": "markdown",
   "metadata": {},
   "source": [
    "# Сreating an array with information about each pixel of each image"
   ]
  },
  {
   "cell_type": "code",
   "execution_count": null,
   "metadata": {},
   "outputs": [],
   "source": [
    "input_path_train = '../data/data_base/train/'\n",
    "input_path_test = '../data/data_base/test/'\n",
    "\n",
    "categories = ['0_water', '5_alcohol', '12.5_alcohol', '25_alcohol', '50_alcohol', '75_alcohol', '96_alcohol']"
   ]
  },
  {
   "attachments": {},
   "cell_type": "markdown",
   "metadata": {},
   "source": [
    "### Train dataset"
   ]
  },
  {
   "cell_type": "code",
   "execution_count": null,
   "metadata": {},
   "outputs": [],
   "source": [
    "data_train = []\n",
    "labels_train = []\n",
    "\n",
    "for category_idx, category in tqdm(enumerate(categories)):\n",
    "    print(category)\n",
    "    for file in os.listdir(os.path.join(input_path_train, category)):\n",
    "        img_path = os.path.join(input_path_train, category, file)\n",
    "        img = imread(img_path)\n",
    "        img = resize(img, (64, 64))\n",
    "        data_train.append(img.flatten())\n",
    "        labels_train.append(category_idx)\n",
    "\n",
    "data_train = np.asarray(data_train)\n",
    "labels_train = np.asarray(labels_train)"
   ]
  },
  {
   "attachments": {},
   "cell_type": "markdown",
   "metadata": {},
   "source": [
    "### Test dataset"
   ]
  },
  {
   "cell_type": "code",
   "execution_count": null,
   "metadata": {},
   "outputs": [],
   "source": [
    "data_test = []\n",
    "labels_test = []\n",
    "\n",
    "for category_idx, category in tqdm(enumerate(categories)):\n",
    "    print(category)\n",
    "    for file in os.listdir(os.path.join(input_path_test, category)):\n",
    "        img_path = os.path.join(input_path_test, category, file)\n",
    "        img = imread(img_path)\n",
    "        img = resize(img, (64, 64))\n",
    "        data_test.append(img.flatten())\n",
    "        labels_test.append(category_idx)\n",
    "\n",
    "data_test = np.asarray(data_test)\n",
    "labels_test = np.asarray(labels_test)"
   ]
  },
  {
   "attachments": {},
   "cell_type": "markdown",
   "metadata": {},
   "source": [
    "# Creating a dataframe by concatenating two arrays"
   ]
  },
  {
   "attachments": {},
   "cell_type": "markdown",
   "metadata": {},
   "source": [
    "### Train dataset"
   ]
  },
  {
   "cell_type": "code",
   "execution_count": null,
   "metadata": {},
   "outputs": [],
   "source": [
    "df1 = pd.DataFrame(data_train)\n",
    "\n",
    "df2 = pd.DataFrame(labels_train)\n",
    "df2.rename(columns={df2.columns[0]: 'Concentration Index'}, inplace=True)\n",
    "\n",
    "df = pd.concat([df1, df2], axis=1)\n",
    "\n",
    "df.to_csv('../../data/tables/pixels_table_train.csv')"
   ]
  },
  {
   "attachments": {},
   "cell_type": "markdown",
   "metadata": {},
   "source": [
    "### Test dataset"
   ]
  },
  {
   "cell_type": "code",
   "execution_count": null,
   "metadata": {},
   "outputs": [],
   "source": [
    "df1 = pd.DataFrame(data_test)\n",
    "\n",
    "df2 = pd.DataFrame(labels_test)\n",
    "df2.rename(columns={df2.columns[0]: 'Concentration Index'}, inplace=True)\n",
    "\n",
    "df = pd.concat([df1, df2], axis=1)\n",
    "\n",
    "df.to_csv('../../data/tables/pixels_table_test.csv')"
   ]
  },
  {
   "attachments": {},
   "cell_type": "markdown",
   "metadata": {},
   "source": [
    "# Getting Started with Machine Learning Models"
   ]
  },
  {
   "cell_type": "code",
   "execution_count": null,
   "metadata": {},
   "outputs": [],
   "source": [
    "df_train = pd.read_csv('image_pixels_table_train.csv')\n",
    "df_train = shuffle(df_train)\n",
    "\n",
    "df_test = pd.read_csv('image_pixels_table_test.csv')\n",
    "df_test = shuffle(df_test)"
   ]
  },
  {
   "cell_type": "code",
   "execution_count": null,
   "metadata": {},
   "outputs": [],
   "source": [
    "X_train = df_train.drop(['Concentration Index', 'Unnamed: 0'], axis=1)\n",
    "y_train = df_train[df_train.columns[-1]].astype('int')\n",
    "\n",
    "X_test = df_test.drop(['Concentration Index', 'Unnamed: 0'], axis=1)\n",
    "y_test = df_test[df_test.columns[-1]].astype('int')"
   ]
  },
  {
   "attachments": {},
   "cell_type": "markdown",
   "metadata": {},
   "source": [
    "* ### Scikit-Learn"
   ]
  },
  {
   "attachments": {},
   "cell_type": "markdown",
   "metadata": {},
   "source": [
    "- - RandomForestClassifier"
   ]
  },
  {
   "cell_type": "code",
   "execution_count": null,
   "metadata": {},
   "outputs": [],
   "source": [
    "RandomForestClassifier_cls = RandomForestClassifier()\n",
    "\n",
    "parameters_random_forest_classifier = {'bootstrap': [True, False],\n",
    "                                        'max_depth': [None, 5, 10],\n",
    "                                        'max_features': ['sqrt'],\n",
    "                                        'criterion' :['gini', 'entropy'],\n",
    "                                        'min_samples_leaf': [1, 2, 4],\n",
    "                                        'min_samples_split': [2, 5, 10],\n",
    "                                        'n_estimators': [100, 200, 500]}\n",
    "\n",
    "RandomForestClassifier_model = GridSearchCV(estimator = RandomForestClassifier_cls, param_grid = parameters_random_forest_classifier, \n",
    "                            cv=2, n_jobs=-1, verbose = 2)\n",
    "RandomForestClassifier_model.fit(X_train, y_train)\n",
    "\n",
    "RandomForestClassifier_great_params = RandomForestClassifier_model.best_params_"
   ]
  },
  {
   "cell_type": "code",
   "execution_count": null,
   "metadata": {},
   "outputs": [],
   "source": [
    "pred_RandomForestClassifier_model = RandomForestClassifier_model.predict(X_test)\n",
    "print(metrics.classification_report(y_test, pred_RandomForestClassifier_model))"
   ]
  },
  {
   "cell_type": "code",
   "execution_count": null,
   "metadata": {},
   "outputs": [],
   "source": [
    "cm_RandomForestClassifier = metrics.confusion_matrix(pred_RandomForestClassifier_model,y_test)\n",
    "cm_normalizes_RandomForestClassifier = np.round(cm_RandomForestClassifier/np.sum(cm_RandomForestClassifier,axis=1).reshape(-1, 1), 2)\n",
    "\n",
    "cm_plot_RandomForestClassifier = sns.heatmap(cm_normalizes_RandomForestClassifier, cmap=\"OrRd_r\", annot=True)\n",
    "cm_plot_RandomForestClassifier.yaxis.set_ticklabels([\"0%\", \"5%\", \"12.5%\", \"25%\", \"50%\", \"75%\", \"96%\"])\n",
    "cm_plot_RandomForestClassifier.xaxis.set_ticklabels([\"0%\", \"5%\", \"12.5%\", \"25%\", \"50%\", \"75%\", \"96%\"])\n",
    "\n",
    "plt.xlabel(\"Predicted\")\n",
    "plt.ylabel(\"Actual\")\n",
    "plt.title(\"RandomForestClassifier Confusion Matrix\")\n",
    "plt.savefig('../../data/graphs/RandomForestClassifier_cm_pixels.png')\n",
    "plt.show()"
   ]
  },
  {
   "attachments": {},
   "cell_type": "markdown",
   "metadata": {},
   "source": [
    "* * DesicionTreeClassifier"
   ]
  },
  {
   "cell_type": "code",
   "execution_count": null,
   "metadata": {},
   "outputs": [],
   "source": [
    "DecisionTreeClassifier_cls = DecisionTreeClassifier()\n",
    "\n",
    "parameters_decision_tree_classifier = {'max_depth': [None,5,10],\n",
    "                                        'min_samples_split': [2,5,10],\n",
    "                                        'min_samples_leaf': [1,2,4]}\n",
    "\n",
    "DecisionTreeClassifier_model = GridSearchCV(estimator = DecisionTreeClassifier_cls, param_grid = parameters_decision_tree_classifier, \n",
    "                            cv=2, n_jobs=-1, verbose = 2)\n",
    "DecisionTreeClassifier_model.fit(X_train, y_train)\n",
    "\n",
    "DecisionTreeClassifier_great_params = DecisionTreeClassifier_model.best_params_"
   ]
  },
  {
   "cell_type": "code",
   "execution_count": null,
   "metadata": {},
   "outputs": [],
   "source": [
    "pred_DecisionTreeClassifier_model = DecisionTreeClassifier_model.predict(X_test)\n",
    "print(metrics.classification_report(y_test, pred_DecisionTreeClassifier_model))"
   ]
  },
  {
   "cell_type": "code",
   "execution_count": null,
   "metadata": {},
   "outputs": [],
   "source": [
    "cm_DecisionTreeClassifier = metrics.confusion_matrix(pred_DecisionTreeClassifier_model,y_test)\n",
    "cm_normalizes_DecisionTreeClassifier = np.round(cm_DecisionTreeClassifier/np.sum(cm_DecisionTreeClassifier,axis=1).reshape(-1, 1), 2)\n",
    "\n",
    "cm_plot_DecisionTreeClassifier = sns.heatmap(cm_normalizes_DecisionTreeClassifier, cmap=\"OrRd_r\", annot=True)\n",
    "cm_plot_DecisionTreeClassifier.yaxis.set_ticklabels([\"0%\", \"5%\", \"12.5%\", \"25%\", \"50%\", \"75%\", \"96%\"])\n",
    "cm_plot_DecisionTreeClassifier.xaxis.set_ticklabels([\"0%\", \"5%\", \"12.5%\", \"25%\", \"50%\", \"75%\", \"96%\"])\n",
    "\n",
    "plt.xlabel(\"Predicted\")\n",
    "plt.ylabel(\"Actual\")\n",
    "plt.title(\"DecisionTreeClassifier Confusion Matrix\")\n",
    "plt.savefig('../../data/graphs/DecisionTreeClassifier_cm_pixels.png')\n",
    "plt.show()"
   ]
  },
  {
   "attachments": {},
   "cell_type": "markdown",
   "metadata": {},
   "source": [
    "* * KNeighborsClassifier"
   ]
  },
  {
   "cell_type": "code",
   "execution_count": null,
   "metadata": {},
   "outputs": [],
   "source": [
    "KNeighborsClassifier_cls = KNeighborsClassifier()\n",
    "\n",
    "parameters_kneighbors_classifier = {'n_neighbors': [3, 5, 7],\n",
    "                                    'weights': ['uniform', 'distance'],\n",
    "                                    'p': [1, 2]}\n",
    "\n",
    "KNeighborsClassifier_model = GridSearchCV(estimator = KNeighborsClassifier_cls, param_grid = parameters_kneighbors_classifier, \n",
    "                            cv=2, n_jobs=-1, verbose = 2)\n",
    "KNeighborsClassifier_model.fit(X_train, y_train)\n",
    "\n",
    "KNeighborsClassifier_great_params = KNeighborsClassifier_model.best_params_"
   ]
  },
  {
   "cell_type": "code",
   "execution_count": null,
   "metadata": {},
   "outputs": [],
   "source": [
    "pred_KNeighborsClassifier_model = KNeighborsClassifier_model.predict(X_test)\n",
    "print(metrics.classification_report(y_test, pred_KNeighborsClassifier_model))"
   ]
  },
  {
   "cell_type": "code",
   "execution_count": null,
   "metadata": {},
   "outputs": [],
   "source": [
    "cm_KNeighborsClassifier = metrics.confusion_matrix(pred_KNeighborsClassifier_model,y_test)\n",
    "cm_normalizes_KNeighborsClassifier = np.round(cm_KNeighborsClassifier/np.sum(cm_KNeighborsClassifier,axis=1).reshape(-1, 1), 2)\n",
    "\n",
    "cm_plot_KNeighborsClassifier = sns.heatmap(cm_normalizes_KNeighborsClassifier, cmap=\"OrRd_r\", annot=True)\n",
    "cm_plot_KNeighborsClassifier.yaxis.set_ticklabels([\"0%\", \"5%\", \"12.5%\", \"25%\", \"50%\", \"75%\", \"96%\"])\n",
    "cm_plot_KNeighborsClassifier.xaxis.set_ticklabels([\"0%\", \"5%\", \"12.5%\", \"25%\", \"50%\", \"75%\", \"96%\"])\n",
    "\n",
    "plt.xlabel(\"Predicted\")\n",
    "plt.ylabel(\"Actual\")\n",
    "plt.title(\"KNeighborsClassifier Confusion Matrix\")\n",
    "plt.savefig('../../data/graphs/KNeighborsClassifier_cm_pixels.png')\n",
    "plt.show()"
   ]
  },
  {
   "attachments": {},
   "cell_type": "markdown",
   "metadata": {},
   "source": [
    "* ### CatBoost"
   ]
  },
  {
   "cell_type": "code",
   "execution_count": null,
   "metadata": {},
   "outputs": [],
   "source": [
    "CatBoostClassifier_cls = CatBoostClassifier(task_type='GPU')\n",
    "\n",
    "parameters_catboost_classifier = {'iterations': [300, 500, 750],\n",
    "                                    'learning_rate': [0.01, 0.1, 0.5],\n",
    "                                    'depth': [3, 5, 7],\n",
    "                                    'l2_leaf_reg': [1, 3, 5],\n",
    "                                    'border_count': [32, 64, 128]}\n",
    "\n",
    "CatBoostClassifier_model = GridSearchCV(estimator = CatBoostClassifier_cls, param_grid = parameters_catboost_classifier, \n",
    "                            cv=2, n_jobs=-1, verbose = 2)\n",
    "CatBoostClassifier_model.fit(X_train, y_train)\n",
    "\n",
    "CatBoostClassifier_great_params = CatBoostClassifier_model.best_params_"
   ]
  },
  {
   "cell_type": "code",
   "execution_count": null,
   "metadata": {},
   "outputs": [],
   "source": [
    "pred_CatBoostClassifier_model = CatBoostClassifier_model.predict(X_test)\n",
    "print(metrics.classification_report(y_test, pred_CatBoostClassifier_model))"
   ]
  },
  {
   "cell_type": "code",
   "execution_count": null,
   "metadata": {},
   "outputs": [],
   "source": [
    "cm_CatBoostClassifier = metrics.confusion_matrix(pred_CatBoostClassifier_model,y_test)\n",
    "cm_normalizes_CatBoostClassifier = np.round(cm_CatBoostClassifier/np.sum(cm_CatBoostClassifier,axis=1).reshape(-1, 1), 2)\n",
    "\n",
    "cm_plot_CatBoostClassifier = sns.heatmap(cm_normalizes_CatBoostClassifier, cmap=\"OrRd_r\", annot=True)\n",
    "cm_plot_CatBoostClassifier.yaxis.set_ticklabels([\"0%\", \"5%\", \"12.5%\", \"25%\", \"50%\", \"75%\", \"96%\"])\n",
    "cm_plot_CatBoostClassifier.xaxis.set_ticklabels([\"0%\", \"5%\", \"12.5%\", \"25%\", \"50%\", \"75%\", \"96%\"])\n",
    "\n",
    "plt.xlabel(\"Predicted\")\n",
    "plt.ylabel(\"Actual\")\n",
    "plt.title(\"CatBoostClassifier Confusion Matrix\")\n",
    "plt.savefig('../../data/graphs/CatBoostClassifier_cm_pixels.png')\n",
    "plt.show()"
   ]
  }
 ],
 "metadata": {
  "kernelspec": {
   "display_name": "ml",
   "language": "python",
   "name": "python3"
  },
  "language_info": {
   "codemirror_mode": {
    "name": "ipython",
    "version": 3
   },
   "file_extension": ".py",
   "mimetype": "text/x-python",
   "name": "python",
   "nbconvert_exporter": "python",
   "pygments_lexer": "ipython3",
   "version": "3.9.7"
  },
  "orig_nbformat": 4
 },
 "nbformat": 4,
 "nbformat_minor": 2
}
