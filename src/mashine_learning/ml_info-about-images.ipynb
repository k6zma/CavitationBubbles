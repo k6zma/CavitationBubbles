{
 "cells": [
  {
   "cell_type": "code",
   "execution_count": null,
   "metadata": {},
   "outputs": [],
   "source": [
    "import numpy as np\n",
    "import pandas as pd\n",
    "\n",
    "from sklearn.utils import shuffle\n",
    "\n",
    "import seaborn as sns\n",
    "import matplotlib.pyplot as plt\n",
    "from sklearn import metrics\n",
    "\n",
    "from sklearn.model_selection import GridSearchCV\n",
    "\n",
    "from sklearn.ensemble import RandomForestClassifier\n",
    "from sklearn.ensemble import GradientBoostingClassifier\n",
    "from sklearn.neighbors import KNeighborsClassifier\n",
    "\n",
    "from catboost import CatBoostClassifier\n",
    "\n",
    "from sklearn.metrics import classification_report"
   ]
  },
  {
   "attachments": {},
   "cell_type": "markdown",
   "metadata": {},
   "source": [
    "# Loading and preparing dataframes for fiiting in model"
   ]
  },
  {
   "cell_type": "code",
   "execution_count": null,
   "metadata": {},
   "outputs": [],
   "source": [
    "train_df = pd.read_csv('../../data/ResultTrain.csv')\n",
    "train_df = shuffle(train_df)\n",
    "\n",
    "test_df = pd.read_csv('../../data/ResultTest.csv')\n",
    "test_df = shuffle(test_df)\n",
    "\n",
    "X_train = train_df.drop(['Concentration','Photo Name'], axis=1)\n",
    "y_train = train_df[train_df.columns[1]].astype('int')\n",
    "\n",
    "X_test = test_df.drop(['Concentration', 'Photo Name'], axis=1)\n",
    "y_test = test_df[test_df.columns[1]].astype('int')"
   ]
  },
  {
   "attachments": {},
   "cell_type": "markdown",
   "metadata": {},
   "source": [
    "# Training Classification Machine Learning Models"
   ]
  },
  {
   "attachments": {},
   "cell_type": "markdown",
   "metadata": {},
   "source": [
    "* ### Scikit-Learn"
   ]
  },
  {
   "attachments": {},
   "cell_type": "markdown",
   "metadata": {},
   "source": [
    "* * RandomForestClassifier"
   ]
  },
  {
   "cell_type": "code",
   "execution_count": null,
   "metadata": {},
   "outputs": [],
   "source": [
    "RandomForestClassifier_classifier = RandomForestClassifier()\n",
    "\n",
    "param_grid_RandomForest_classifier = {'bootstrap': [True, False],\n",
    "                                    'max_depth': [10, 20, 30, 40, 50, 60, 70, 80, 90, None],\n",
    "                                    'min_samples_leaf': [1, 2, 4],\n",
    "                                    'min_samples_split': [2, 5, 10],\n",
    "                                    'n_estimators': [200, 400, 600, 800, 1000, 1200]}\n",
    "\n",
    "RandomForestClassifier_model = GridSearchCV(estimator = RandomForestClassifier_classifier, \n",
    "                                            param_grid = param_grid_RandomForest_classifier, \n",
    "                                            cv = 3,\n",
    "                                            scoring = \"accuracy\", \n",
    "                                            n_jobs = -1, \n",
    "                                            verbose = 2)\n",
    "\n",
    "RandomForestClassifier_model.fit(X_train, y_train)"
   ]
  },
  {
   "cell_type": "code",
   "execution_count": null,
   "metadata": {},
   "outputs": [],
   "source": [
    "RandomForestClassifier_great_params = RandomForestClassifier_model.best_params_\n",
    "RandomForestClassifier_great_params"
   ]
  },
  {
   "cell_type": "code",
   "execution_count": null,
   "metadata": {},
   "outputs": [],
   "source": [
    "pred_test_RandomForestClassifier = RandomForestClassifier_model.predict(X_test)\n",
    "print(classification_report(y_test.values, pred_test_RandomForestClassifier))"
   ]
  },
  {
   "cell_type": "code",
   "execution_count": null,
   "metadata": {},
   "outputs": [],
   "source": [
    "cm_RandomForestClassifier = metrics.confusion_matrix(pred_test_RandomForestClassifier,y_test)\n",
    "cm_normalizes_RandomForestClassifier = np.round(cm_RandomForestClassifier/np.sum(cm_RandomForestClassifier,axis=1).reshape(-1, 1), 2)\n",
    "\n",
    "cm_plot_GradientBoosting = sns.heatmap(cm_normalizes_RandomForestClassifier, cmap=\"OrRd_r\", annot=True)\n",
    "cm_plot_GradientBoosting.yaxis.set_ticklabels([\"0%\", \"5%\", \"12.5%\", \"25%\", \"50%\", \"75%\", \"96%\"])\n",
    "cm_plot_GradientBoosting.xaxis.set_ticklabels([\"0%\", \"5%\", \"12.5%\", \"25%\", \"50%\", \"75%\", \"96%\"])\n",
    "\n",
    "plt.xlabel(\"Predicted\")\n",
    "plt.ylabel(\"Actual\")\n",
    "plt.title(\"RandomForestClassifier Confusion Matrix\")\n",
    "plt.savefig('../../data/graphs/RandomForestClassifier_cm')\n",
    "plt.show()"
   ]
  },
  {
   "attachments": {},
   "cell_type": "markdown",
   "metadata": {},
   "source": [
    "* * GradientBoostingClassifier"
   ]
  },
  {
   "cell_type": "code",
   "execution_count": null,
   "metadata": {},
   "outputs": [],
   "source": [
    "GradientBoostingClassifier_classifier = GradientBoostingClassifier()\n",
    "\n",
    "parameters_gradient_boosting_classifier = {\"learning_rate\": [0.01, 0.025, 0.05, 0.075, 0.1, 0.15, 0.2, 0.25],\n",
    "                                           \"min_samples_split\": np.linspace(0.1, 0.5, 12),\n",
    "                                           \"min_samples_leaf\": np.linspace(0.1, 0.5, 12),\n",
    "                                           \"max_depth\":[3,5,8],\n",
    "                                           \"max_features\":[\"log2\",\"sqrt\"],\n",
    "                                           \"subsample\":[0.5, 0.618, 0.8, 0.85, 0.9, 0.95, 1.0],\n",
    "                                           \"n_estimators\":[1, 5, 10]\n",
    "                                          }\n",
    "\n",
    "GradientBoostingClassifier_model = GridSearchCV(GradientBoostingClassifier_classifier, \n",
    "                                                parameters_gradient_boosting_classifier,\n",
    "                                                scoring = \"accuracy\", \n",
    "                                                cv=3, \n",
    "                                                verbose=2, \n",
    "                                                n_jobs=-1)\n",
    "\n",
    "GradientBoostingClassifier_model.fit(X_train, y_train)"
   ]
  },
  {
   "cell_type": "code",
   "execution_count": null,
   "metadata": {},
   "outputs": [],
   "source": [
    "GradientBoostingClassifier_great_params = GradientBoostingClassifier_model.best_params_\n",
    "GradientBoostingClassifier_great_params"
   ]
  },
  {
   "cell_type": "code",
   "execution_count": null,
   "metadata": {},
   "outputs": [],
   "source": [
    "pred_GradientBoostingClassifier_model = GradientBoostingClassifier_model.predict(X_test)\n",
    "print(classification_report(y_test.values, pred_GradientBoostingClassifier_model))"
   ]
  },
  {
   "cell_type": "code",
   "execution_count": null,
   "metadata": {},
   "outputs": [],
   "source": [
    "cm_GradientBoostingClassifier = metrics.confusion_matrix(pred_GradientBoostingClassifier_model,y_test)\n",
    "cm_normalizes_GradientBoostingClassifier = np.round(cm_GradientBoostingClassifier/np.sum(cm_GradientBoostingClassifier,axis=1).reshape(-1, 1), 2)\n",
    "\n",
    "cm_plot_GradientBoosting = sns.heatmap(cm_normalizes_GradientBoostingClassifier, cmap=\"OrRd_r\", annot=True)\n",
    "cm_plot_GradientBoosting.yaxis.set_ticklabels([\"0%\", \"5%\", \"12.5%\", \"25%\", \"50%\", \"75%\", \"96%\"])\n",
    "cm_plot_GradientBoosting.xaxis.set_ticklabels([\"0%\", \"5%\", \"12.5%\", \"25%\", \"50%\", \"75%\", \"96%\"])\n",
    "\n",
    "plt.xlabel(\"Predicted\")\n",
    "plt.ylabel(\"Actual\")\n",
    "plt.title(\"GradientBoostingClassifier Confusion Matrix\")\n",
    "plt.savefig('../../data/graphs/GradientBoostingClassifier_cm')\n",
    "plt.show()"
   ]
  },
  {
   "attachments": {},
   "cell_type": "markdown",
   "metadata": {},
   "source": [
    "* * KNeighborsClassifier"
   ]
  },
  {
   "cell_type": "code",
   "execution_count": null,
   "metadata": {},
   "outputs": [],
   "source": [
    "KNeighbors_classifier = KNeighborsClassifier()\n",
    "\n",
    "weight_options_kneighbors = ['uniform', 'distance']\n",
    "k_range = list(range(1, 100))\n",
    "metric_options_kneighbors = ['euclidean', 'manhattan', 'cityblock', 'cosine', 'l1', 'l2', 'nan_euclidean']\n",
    "\n",
    "parameters_kneighbors_classifier = dict(n_neighbors = k_range, weights = weight_options_kneighbors, metric = metric_options_kneighbors)\n",
    "\n",
    "KNeighbors_model = GridSearchCV(estimator = KNeighbors_classifier, \n",
    "                                param_grid = parameters_kneighbors_classifier,\n",
    "                                scoring = \"accuracy\",\n",
    "                                cv=3, \n",
    "                                verbose=2, \n",
    "                                n_jobs=-1)\n",
    "\n",
    "KNeighbors_model.fit(X_train, y_train)"
   ]
  },
  {
   "cell_type": "code",
   "execution_count": null,
   "metadata": {},
   "outputs": [],
   "source": [
    "KNeighbors_model_great_params = KNeighbors_model.best_params_\n",
    "KNeighbors_model_great_params"
   ]
  },
  {
   "cell_type": "code",
   "execution_count": null,
   "metadata": {},
   "outputs": [],
   "source": [
    "pred_KNeighbors_model = KNeighbors_model.predict(X_test)\n",
    "print(classification_report(y_test.values, pred_KNeighbors_model))"
   ]
  },
  {
   "cell_type": "code",
   "execution_count": null,
   "metadata": {},
   "outputs": [],
   "source": [
    "cm_KNeighbors = metrics.confusion_matrix(pred_KNeighbors_model,y_test)\n",
    "cm_normalizes_KNeighbors = np.round(cm_KNeighbors/np.sum(cm_KNeighbors,axis=1).reshape(-1, 1), 2)\n",
    "\n",
    "cm_plot_KNeighbors=sns.heatmap(cm_normalizes_KNeighbors, cmap=\"OrRd_r\", annot=True)\n",
    "cm_plot_KNeighbors.yaxis.set_ticklabels([\"0%\", \"5%\",\"12.5%\", \"25%\", \"50%\", \"75%\", \"96%\"])\n",
    "cm_plot_KNeighbors.xaxis.set_ticklabels([\"0%\", \"5%\", \"12.5%\", \"25%\", \"50%\", \"75%\", \"96%\"])\n",
    "\n",
    "plt.xlabel(\"Predicted\")\n",
    "plt.ylabel(\"Actual\")\n",
    "plt.title(\"KNeighborsClassifier Confusion Matrix\")\n",
    "plt.savefig('../../data/graphs/KNeighborsClassifier_cm')\n",
    "plt.show()"
   ]
  },
  {
   "attachments": {},
   "cell_type": "markdown",
   "metadata": {},
   "source": [
    "* ### CatBoost"
   ]
  },
  {
   "attachments": {},
   "cell_type": "markdown",
   "metadata": {},
   "source": [
    "* * CatBoostClassifier"
   ]
  },
  {
   "cell_type": "code",
   "execution_count": null,
   "metadata": {},
   "outputs": [],
   "source": [
    "CatBoostClassifier_classifier = CatBoostClassifier()\n",
    "\n",
    "catboost_params = {\"max_depth\": [1,2,3,5,7,9],\n",
    "                    \"learning_rate\": [0.001, 0.01, 0.05, 0.1, 0.3],\n",
    "                    \"iterations\": [10, 50, 100, 200, 300, 400, 500, 700, 1000, 1500],\n",
    "                    \"border_count\":[5, 10, 20, 50, 100, 200, 250],\n",
    "                    \"l2_leaf_reg\": [1,3,5,10,50,100,150],}\n",
    "\n",
    "CatBoostClassifier_model = GridSearchCV(estimator=CatBoostClassifier_classifier,\n",
    "                           param_grid=catboost_params, \n",
    "                           n_jobs= -1,\n",
    "                           cv=3,\n",
    "                           scoring='accuracy',\n",
    "                           error_score=0)\n",
    "\n",
    "CatBoostClassifier_model.fit(X_train, y_train)"
   ]
  },
  {
   "cell_type": "code",
   "execution_count": null,
   "metadata": {},
   "outputs": [],
   "source": [
    "pred_CatBoostClassifier_model = CatBoostClassifier_model.predict(X_test)\n",
    "print(classification_report(y_test.values, pred_CatBoostClassifier_model))"
   ]
  },
  {
   "cell_type": "code",
   "execution_count": null,
   "metadata": {},
   "outputs": [],
   "source": [
    "cm_CatBoostClassifier = metrics.confusion_matrix(pred_CatBoostClassifier_model,y_test)\n",
    "cm_normalizes_CatBoostClassifier = np.round(cm_CatBoostClassifier/np.sum(cm_CatBoostClassifier,axis=1).reshape(-1, 1), 2)\n",
    "\n",
    "cm_plot_CatBoostClassifier=sns.heatmap(cm_normalizes_CatBoostClassifier, cmap=\"OrRd_r\", annot=True)\n",
    "cm_plot_CatBoostClassifier.yaxis.set_ticklabels([\"0%\", \"5%\",\"12.5%\", \"25%\", \"50%\", \"75%\", \"96%\"])\n",
    "cm_plot_CatBoostClassifier.xaxis.set_ticklabels([\"0%\", \"5%\", \"12.5%\", \"25%\", \"50%\", \"75%\", \"96%\"])\n",
    "\n",
    "plt.xlabel(\"Predicted\")\n",
    "plt.ylabel(\"Actual\")\n",
    "plt.title(\"CatBoostClassifierClassifier Confusion Matrix\")\n",
    "plt.savefig('../../data/graphs/CatBoostClassifierClassifier_cm')\n",
    "plt.show()"
   ]
  }
 ],
 "metadata": {
  "kernelspec": {
   "display_name": "ml",
   "language": "python",
   "name": "python3"
  },
  "language_info": {
   "codemirror_mode": {
    "name": "ipython",
    "version": 3
   },
   "file_extension": ".py",
   "mimetype": "text/x-python",
   "name": "python",
   "nbconvert_exporter": "python",
   "pygments_lexer": "ipython3",
   "version": "3.9.7"
  },
  "orig_nbformat": 4
 },
 "nbformat": 4,
 "nbformat_minor": 2
}
