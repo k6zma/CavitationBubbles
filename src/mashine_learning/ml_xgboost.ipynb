{
 "cells": [
  {
   "cell_type": "code",
   "execution_count": 1,
   "metadata": {},
   "outputs": [],
   "source": [
    "import pandas as pd\n",
    "import numpy as np\n",
    "from sklearn.model_selection import GridSearchCV"
   ]
  },
  {
   "cell_type": "code",
   "execution_count": 2,
   "metadata": {},
   "outputs": [],
   "source": [
    "train_df = pd.read_csv('../../data/data_base/ResultTrain_NonFixedData.csv')\n",
    "test_df = pd.read_csv('../../data/data_base/ResultTest_NonFixedData.csv')"
   ]
  },
  {
   "cell_type": "code",
   "execution_count": 3,
   "metadata": {},
   "outputs": [],
   "source": [
    "X_train = train_df.drop(['Concentration','Photo Name'], axis=1)\n",
    "y_train = train_df[train_df.columns[1]].astype('int')"
   ]
  },
  {
   "cell_type": "code",
   "execution_count": 4,
   "metadata": {},
   "outputs": [],
   "source": [
    "X_test = test_df.drop(['Concentration', 'Photo Name'], axis=1)\n",
    "y_test = test_df[test_df.columns[1]].astype('int')"
   ]
  },
  {
   "cell_type": "code",
   "execution_count": 11,
   "metadata": {},
   "outputs": [],
   "source": [
    "import xgboost as xgb\n",
    "\n",
    "seed = 0"
   ]
  },
  {
   "cell_type": "code",
   "execution_count": 14,
   "metadata": {},
   "outputs": [],
   "source": [
    "xgbc = xgb.XGBClassifier(\n",
    "    seed = seed,\n",
    "    use_label_encodeer = False,\n",
    "    eval_metric = \"merror\"\n",
    ")"
   ]
  },
  {
   "cell_type": "code",
   "execution_count": 19,
   "metadata": {},
   "outputs": [],
   "source": [
    "xgboost_params = {\n",
    "    \"learning_rate\": [0.001, 0.01, 0.05, 0.1, 0.3],\n",
    "    \"max_depth\": [1,2,3,5,7,9, 12],\n",
    "    \"n_estimators\": [10, 20, 50, 100, 150, 180, 300],\n",
    "    \"gamma\": [1, 2, 4, 7, 9],\n",
    "    \"reg_alpha\": [40, 60, 80, 120, 160, 180],\n",
    "    \"reg_lamda\": [0.0001, 0.001, 0.01, 0.1, 0.3, 0.5, 0.7, 0.9],\n",
    "    \"colsample_bytree\": [0.6, 0.7, 0.8, 0.9],\n",
    "    \"min_child_weight\": [0.001, 0.01, 0.1, 1, 3, 5, 7, 9]\n",
    "}"
   ]
  },
  {
   "cell_type": "code",
   "execution_count": 16,
   "metadata": {},
   "outputs": [
    {
     "name": "stdout",
     "output_type": "stream",
     "text": [
      "[17:14:51] WARNING: ../src/learner.cc:767: \n",
      "Parameters: { \"use_label_encodeer\" } are not used.\n",
      "\n"
     ]
    },
    {
     "data": {
      "text/plain": [
       "XGBClassifier(base_score=None, booster=None, callbacks=None,\n",
       "              colsample_bylevel=None, colsample_bynode=None,\n",
       "              colsample_bytree=None, early_stopping_rounds=None,\n",
       "              enable_categorical=False, eval_metric='merror',\n",
       "              feature_types=None, gamma=None, gpu_id=None, grow_policy=None,\n",
       "              importance_type=None, interaction_constraints=None,\n",
       "              learning_rate=None, max_bin=None, max_cat_threshold=None,\n",
       "              max_cat_to_onehot=None, max_delta_step=None, max_depth=None,\n",
       "              max_leaves=None, min_child_weight=None, missing=nan,\n",
       "              monotone_constraints=None, n_estimators=100, n_jobs=None,\n",
       "              num_parallel_tree=None, objective='multi:softprob',\n",
       "              predictor=None, ...)"
      ]
     },
     "execution_count": 16,
     "metadata": {},
     "output_type": "execute_result"
    }
   ],
   "source": [
    "xgbc.fit(X_train, y_train)"
   ]
  },
  {
   "cell_type": "code",
   "execution_count": 17,
   "metadata": {},
   "outputs": [
    {
     "name": "stdout",
     "output_type": "stream",
     "text": [
      "[[382  15   6  16  55  18   8]\n",
      " [131 333  22   3   4   3   4]\n",
      " [  8  27 431   3  13  16   2]\n",
      " [ 11 230   7 140   7  45  60]\n",
      " [ 18  18  75  27 218  86  58]\n",
      " [  5  10  12   8  15 267 183]\n",
      " [ 11   2  96  32 130 149  80]]\n"
     ]
    },
    {
     "data": {
      "text/plain": [
       "0.5288571428571428"
      ]
     },
     "execution_count": 17,
     "metadata": {},
     "output_type": "execute_result"
    }
   ],
   "source": [
    "from sklearn.metrics import confusion_matrix, accuracy_score\n",
    "y_pred = xgbc.predict(X_test)\n",
    "cm = confusion_matrix(y_test, y_pred)\n",
    "print(cm)\n",
    "accuracy_score(y_test, y_pred)"
   ]
  }
 ],
 "metadata": {
  "kernelspec": {
   "display_name": "itmo_venv",
   "language": "python",
   "name": "python3"
  },
  "language_info": {
   "codemirror_mode": {
    "name": "ipython",
    "version": 3
   },
   "file_extension": ".py",
   "mimetype": "text/x-python",
   "name": "python",
   "nbconvert_exporter": "python",
   "pygments_lexer": "ipython3",
   "version": "3.9.7"
  },
  "orig_nbformat": 4
 },
 "nbformat": 4,
 "nbformat_minor": 2
}
