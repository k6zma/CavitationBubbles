{
 "cells": [
  {
   "attachments": {},
   "cell_type": "markdown",
   "metadata": {},
   "source": [
    "Подготовка датафреймов и заполнение данных"
   ]
  },
  {
   "attachments": {},
   "cell_type": "markdown",
   "metadata": {},
   "source": [
    "Импорт библиотек для заполнения данных"
   ]
  },
  {
   "cell_type": "code",
   "execution_count": 34,
   "metadata": {},
   "outputs": [],
   "source": [
    "import numpy as np\n",
    "import pandas as pd"
   ]
  },
  {
   "attachments": {},
   "cell_type": "markdown",
   "metadata": {},
   "source": [
    "Создание тренировочного датафрейма из файла csv"
   ]
  },
  {
   "cell_type": "code",
   "execution_count": 35,
   "metadata": {},
   "outputs": [
    {
     "data": {
      "text/html": [
       "<div>\n",
       "<style scoped>\n",
       "    .dataframe tbody tr th:only-of-type {\n",
       "        vertical-align: middle;\n",
       "    }\n",
       "\n",
       "    .dataframe tbody tr th {\n",
       "        vertical-align: top;\n",
       "    }\n",
       "\n",
       "    .dataframe thead th {\n",
       "        text-align: right;\n",
       "    }\n",
       "</style>\n",
       "<table border=\"1\" class=\"dataframe\">\n",
       "  <thead>\n",
       "    <tr style=\"text-align: right;\">\n",
       "      <th></th>\n",
       "      <th>Photo Name</th>\n",
       "      <th>Concentration</th>\n",
       "      <th>Area</th>\n",
       "      <th>Min distance</th>\n",
       "      <th>Mean distance</th>\n",
       "      <th>Max distance</th>\n",
       "      <th>Standart deviation</th>\n",
       "    </tr>\n",
       "  </thead>\n",
       "  <tbody>\n",
       "    <tr>\n",
       "      <th>0</th>\n",
       "      <td>30104</td>\n",
       "      <td>12.5</td>\n",
       "      <td>459595.808626</td>\n",
       "      <td>0</td>\n",
       "      <td>18.851519</td>\n",
       "      <td>39</td>\n",
       "      <td>9.531099</td>\n",
       "    </tr>\n",
       "    <tr>\n",
       "      <th>1</th>\n",
       "      <td>31248</td>\n",
       "      <td>12.5</td>\n",
       "      <td>387228.811245</td>\n",
       "      <td>0</td>\n",
       "      <td>60.957377</td>\n",
       "      <td>95</td>\n",
       "      <td>22.078680</td>\n",
       "    </tr>\n",
       "    <tr>\n",
       "      <th>2</th>\n",
       "      <td>30924</td>\n",
       "      <td>12.5</td>\n",
       "      <td>424319.520705</td>\n",
       "      <td>0</td>\n",
       "      <td>52.869520</td>\n",
       "      <td>83</td>\n",
       "      <td>17.748318</td>\n",
       "    </tr>\n",
       "    <tr>\n",
       "      <th>3</th>\n",
       "      <td>50159</td>\n",
       "      <td>12.5</td>\n",
       "      <td>411692.058862</td>\n",
       "      <td>0</td>\n",
       "      <td>9.624227</td>\n",
       "      <td>21</td>\n",
       "      <td>4.230352</td>\n",
       "    </tr>\n",
       "    <tr>\n",
       "      <th>4</th>\n",
       "      <td>50126</td>\n",
       "      <td>12.5</td>\n",
       "      <td>434205.382150</td>\n",
       "      <td>0</td>\n",
       "      <td>21.305216</td>\n",
       "      <td>36</td>\n",
       "      <td>7.126810</td>\n",
       "    </tr>\n",
       "    <tr>\n",
       "      <th>...</th>\n",
       "      <td>...</td>\n",
       "      <td>...</td>\n",
       "      <td>...</td>\n",
       "      <td>...</td>\n",
       "      <td>...</td>\n",
       "      <td>...</td>\n",
       "      <td>...</td>\n",
       "    </tr>\n",
       "    <tr>\n",
       "      <th>7234</th>\n",
       "      <td>30501</td>\n",
       "      <td>50.0</td>\n",
       "      <td>362070.133534</td>\n",
       "      <td>0</td>\n",
       "      <td>3.032832</td>\n",
       "      <td>19</td>\n",
       "      <td>3.219556</td>\n",
       "    </tr>\n",
       "    <tr>\n",
       "      <th>7235</th>\n",
       "      <td>30366</td>\n",
       "      <td>50.0</td>\n",
       "      <td>418539.450006</td>\n",
       "      <td>0</td>\n",
       "      <td>43.237500</td>\n",
       "      <td>80</td>\n",
       "      <td>18.886183</td>\n",
       "    </tr>\n",
       "    <tr>\n",
       "      <th>7236</th>\n",
       "      <td>20180</td>\n",
       "      <td>50.0</td>\n",
       "      <td>348555.470605</td>\n",
       "      <td>0</td>\n",
       "      <td>21.665083</td>\n",
       "      <td>37</td>\n",
       "      <td>8.419914</td>\n",
       "    </tr>\n",
       "    <tr>\n",
       "      <th>7237</th>\n",
       "      <td>30151</td>\n",
       "      <td>50.0</td>\n",
       "      <td>439799.078196</td>\n",
       "      <td>0</td>\n",
       "      <td>55.356151</td>\n",
       "      <td>78</td>\n",
       "      <td>19.496467</td>\n",
       "    </tr>\n",
       "    <tr>\n",
       "      <th>7238</th>\n",
       "      <td>40942</td>\n",
       "      <td>50.0</td>\n",
       "      <td>534180.684486</td>\n",
       "      <td>0</td>\n",
       "      <td>66.465181</td>\n",
       "      <td>101</td>\n",
       "      <td>27.793140</td>\n",
       "    </tr>\n",
       "  </tbody>\n",
       "</table>\n",
       "<p>7239 rows × 7 columns</p>\n",
       "</div>"
      ],
      "text/plain": [
       "      Photo Name  Concentration           Area  Min distance  Mean distance  \\\n",
       "0          30104           12.5  459595.808626             0      18.851519   \n",
       "1          31248           12.5  387228.811245             0      60.957377   \n",
       "2          30924           12.5  424319.520705             0      52.869520   \n",
       "3          50159           12.5  411692.058862             0       9.624227   \n",
       "4          50126           12.5  434205.382150             0      21.305216   \n",
       "...          ...            ...            ...           ...            ...   \n",
       "7234       30501           50.0  362070.133534             0       3.032832   \n",
       "7235       30366           50.0  418539.450006             0      43.237500   \n",
       "7236       20180           50.0  348555.470605             0      21.665083   \n",
       "7237       30151           50.0  439799.078196             0      55.356151   \n",
       "7238       40942           50.0  534180.684486             0      66.465181   \n",
       "\n",
       "      Max distance  Standart deviation  \n",
       "0               39            9.531099  \n",
       "1               95           22.078680  \n",
       "2               83           17.748318  \n",
       "3               21            4.230352  \n",
       "4               36            7.126810  \n",
       "...            ...                 ...  \n",
       "7234            19            3.219556  \n",
       "7235            80           18.886183  \n",
       "7236            37            8.419914  \n",
       "7237            78           19.496467  \n",
       "7238           101           27.793140  \n",
       "\n",
       "[7239 rows x 7 columns]"
      ]
     },
     "execution_count": 35,
     "metadata": {},
     "output_type": "execute_result"
    }
   ],
   "source": [
    "train_df = pd.read_csv('../../data/fixed_data/ResultTrain_FixedData.csv')\n",
    "train_df"
   ]
  },
  {
   "attachments": {},
   "cell_type": "markdown",
   "metadata": {},
   "source": [
    "Перемешивание строк в датафрейме"
   ]
  },
  {
   "cell_type": "code",
   "execution_count": 36,
   "metadata": {},
   "outputs": [
    {
     "data": {
      "text/html": [
       "<div>\n",
       "<style scoped>\n",
       "    .dataframe tbody tr th:only-of-type {\n",
       "        vertical-align: middle;\n",
       "    }\n",
       "\n",
       "    .dataframe tbody tr th {\n",
       "        vertical-align: top;\n",
       "    }\n",
       "\n",
       "    .dataframe thead th {\n",
       "        text-align: right;\n",
       "    }\n",
       "</style>\n",
       "<table border=\"1\" class=\"dataframe\">\n",
       "  <thead>\n",
       "    <tr style=\"text-align: right;\">\n",
       "      <th></th>\n",
       "      <th>Photo Name</th>\n",
       "      <th>Concentration</th>\n",
       "      <th>Area</th>\n",
       "      <th>Min distance</th>\n",
       "      <th>Mean distance</th>\n",
       "      <th>Max distance</th>\n",
       "      <th>Standart deviation</th>\n",
       "    </tr>\n",
       "  </thead>\n",
       "  <tbody>\n",
       "    <tr>\n",
       "      <th>1911</th>\n",
       "      <td>10281</td>\n",
       "      <td>25.0</td>\n",
       "      <td>617181.527322</td>\n",
       "      <td>0</td>\n",
       "      <td>33.002788</td>\n",
       "      <td>70</td>\n",
       "      <td>13.527852</td>\n",
       "    </tr>\n",
       "    <tr>\n",
       "      <th>3691</th>\n",
       "      <td>10986</td>\n",
       "      <td>0.0</td>\n",
       "      <td>937936.348231</td>\n",
       "      <td>0</td>\n",
       "      <td>12.808439</td>\n",
       "      <td>24</td>\n",
       "      <td>5.785586</td>\n",
       "    </tr>\n",
       "    <tr>\n",
       "      <th>5533</th>\n",
       "      <td>20533</td>\n",
       "      <td>75.0</td>\n",
       "      <td>162076.425715</td>\n",
       "      <td>0</td>\n",
       "      <td>3.420290</td>\n",
       "      <td>8</td>\n",
       "      <td>2.455265</td>\n",
       "    </tr>\n",
       "    <tr>\n",
       "      <th>5807</th>\n",
       "      <td>30531</td>\n",
       "      <td>75.0</td>\n",
       "      <td>208599.686797</td>\n",
       "      <td>0</td>\n",
       "      <td>3.012821</td>\n",
       "      <td>7</td>\n",
       "      <td>2.033110</td>\n",
       "    </tr>\n",
       "    <tr>\n",
       "      <th>6506</th>\n",
       "      <td>40097</td>\n",
       "      <td>50.0</td>\n",
       "      <td>593555.033711</td>\n",
       "      <td>0</td>\n",
       "      <td>142.823453</td>\n",
       "      <td>208</td>\n",
       "      <td>60.777809</td>\n",
       "    </tr>\n",
       "    <tr>\n",
       "      <th>...</th>\n",
       "      <td>...</td>\n",
       "      <td>...</td>\n",
       "      <td>...</td>\n",
       "      <td>...</td>\n",
       "      <td>...</td>\n",
       "      <td>...</td>\n",
       "      <td>...</td>\n",
       "    </tr>\n",
       "    <tr>\n",
       "      <th>38</th>\n",
       "      <td>31074</td>\n",
       "      <td>12.5</td>\n",
       "      <td>384037.833262</td>\n",
       "      <td>0</td>\n",
       "      <td>78.532441</td>\n",
       "      <td>114</td>\n",
       "      <td>28.493260</td>\n",
       "    </tr>\n",
       "    <tr>\n",
       "      <th>5868</th>\n",
       "      <td>30999</td>\n",
       "      <td>75.0</td>\n",
       "      <td>213834.970576</td>\n",
       "      <td>0</td>\n",
       "      <td>4.314748</td>\n",
       "      <td>10</td>\n",
       "      <td>2.693557</td>\n",
       "    </tr>\n",
       "    <tr>\n",
       "      <th>5471</th>\n",
       "      <td>10368</td>\n",
       "      <td>75.0</td>\n",
       "      <td>589923.184146</td>\n",
       "      <td>0</td>\n",
       "      <td>48.432355</td>\n",
       "      <td>125</td>\n",
       "      <td>28.600159</td>\n",
       "    </tr>\n",
       "    <tr>\n",
       "      <th>3953</th>\n",
       "      <td>10911</td>\n",
       "      <td>96.0</td>\n",
       "      <td>187786.030511</td>\n",
       "      <td>0</td>\n",
       "      <td>15.447368</td>\n",
       "      <td>28</td>\n",
       "      <td>6.606339</td>\n",
       "    </tr>\n",
       "    <tr>\n",
       "      <th>330</th>\n",
       "      <td>30986</td>\n",
       "      <td>12.5</td>\n",
       "      <td>449475.495418</td>\n",
       "      <td>0</td>\n",
       "      <td>78.601878</td>\n",
       "      <td>112</td>\n",
       "      <td>23.162930</td>\n",
       "    </tr>\n",
       "  </tbody>\n",
       "</table>\n",
       "<p>7239 rows × 7 columns</p>\n",
       "</div>"
      ],
      "text/plain": [
       "      Photo Name  Concentration           Area  Min distance  Mean distance  \\\n",
       "1911       10281           25.0  617181.527322             0      33.002788   \n",
       "3691       10986            0.0  937936.348231             0      12.808439   \n",
       "5533       20533           75.0  162076.425715             0       3.420290   \n",
       "5807       30531           75.0  208599.686797             0       3.012821   \n",
       "6506       40097           50.0  593555.033711             0     142.823453   \n",
       "...          ...            ...            ...           ...            ...   \n",
       "38         31074           12.5  384037.833262             0      78.532441   \n",
       "5868       30999           75.0  213834.970576             0       4.314748   \n",
       "5471       10368           75.0  589923.184146             0      48.432355   \n",
       "3953       10911           96.0  187786.030511             0      15.447368   \n",
       "330        30986           12.5  449475.495418             0      78.601878   \n",
       "\n",
       "      Max distance  Standart deviation  \n",
       "1911            70           13.527852  \n",
       "3691            24            5.785586  \n",
       "5533             8            2.455265  \n",
       "5807             7            2.033110  \n",
       "6506           208           60.777809  \n",
       "...            ...                 ...  \n",
       "38             114           28.493260  \n",
       "5868            10            2.693557  \n",
       "5471           125           28.600159  \n",
       "3953            28            6.606339  \n",
       "330            112           23.162930  \n",
       "\n",
       "[7239 rows x 7 columns]"
      ]
     },
     "execution_count": 36,
     "metadata": {},
     "output_type": "execute_result"
    }
   ],
   "source": [
    "from sklearn.utils import shuffle\n",
    "train_df = shuffle(train_df)\n",
    "train_df"
   ]
  },
  {
   "attachments": {},
   "cell_type": "markdown",
   "metadata": {},
   "source": [
    "Зполнение данных в переменные для обучения"
   ]
  },
  {
   "cell_type": "code",
   "execution_count": 37,
   "metadata": {},
   "outputs": [
    {
     "data": {
      "text/html": [
       "<div>\n",
       "<style scoped>\n",
       "    .dataframe tbody tr th:only-of-type {\n",
       "        vertical-align: middle;\n",
       "    }\n",
       "\n",
       "    .dataframe tbody tr th {\n",
       "        vertical-align: top;\n",
       "    }\n",
       "\n",
       "    .dataframe thead th {\n",
       "        text-align: right;\n",
       "    }\n",
       "</style>\n",
       "<table border=\"1\" class=\"dataframe\">\n",
       "  <thead>\n",
       "    <tr style=\"text-align: right;\">\n",
       "      <th></th>\n",
       "      <th>Area</th>\n",
       "      <th>Min distance</th>\n",
       "      <th>Mean distance</th>\n",
       "      <th>Max distance</th>\n",
       "      <th>Standart deviation</th>\n",
       "    </tr>\n",
       "  </thead>\n",
       "  <tbody>\n",
       "    <tr>\n",
       "      <th>1911</th>\n",
       "      <td>617181.527322</td>\n",
       "      <td>0</td>\n",
       "      <td>33.002788</td>\n",
       "      <td>70</td>\n",
       "      <td>13.527852</td>\n",
       "    </tr>\n",
       "    <tr>\n",
       "      <th>3691</th>\n",
       "      <td>937936.348231</td>\n",
       "      <td>0</td>\n",
       "      <td>12.808439</td>\n",
       "      <td>24</td>\n",
       "      <td>5.785586</td>\n",
       "    </tr>\n",
       "    <tr>\n",
       "      <th>5533</th>\n",
       "      <td>162076.425715</td>\n",
       "      <td>0</td>\n",
       "      <td>3.420290</td>\n",
       "      <td>8</td>\n",
       "      <td>2.455265</td>\n",
       "    </tr>\n",
       "    <tr>\n",
       "      <th>5807</th>\n",
       "      <td>208599.686797</td>\n",
       "      <td>0</td>\n",
       "      <td>3.012821</td>\n",
       "      <td>7</td>\n",
       "      <td>2.033110</td>\n",
       "    </tr>\n",
       "    <tr>\n",
       "      <th>6506</th>\n",
       "      <td>593555.033711</td>\n",
       "      <td>0</td>\n",
       "      <td>142.823453</td>\n",
       "      <td>208</td>\n",
       "      <td>60.777809</td>\n",
       "    </tr>\n",
       "    <tr>\n",
       "      <th>...</th>\n",
       "      <td>...</td>\n",
       "      <td>...</td>\n",
       "      <td>...</td>\n",
       "      <td>...</td>\n",
       "      <td>...</td>\n",
       "    </tr>\n",
       "    <tr>\n",
       "      <th>38</th>\n",
       "      <td>384037.833262</td>\n",
       "      <td>0</td>\n",
       "      <td>78.532441</td>\n",
       "      <td>114</td>\n",
       "      <td>28.493260</td>\n",
       "    </tr>\n",
       "    <tr>\n",
       "      <th>5868</th>\n",
       "      <td>213834.970576</td>\n",
       "      <td>0</td>\n",
       "      <td>4.314748</td>\n",
       "      <td>10</td>\n",
       "      <td>2.693557</td>\n",
       "    </tr>\n",
       "    <tr>\n",
       "      <th>5471</th>\n",
       "      <td>589923.184146</td>\n",
       "      <td>0</td>\n",
       "      <td>48.432355</td>\n",
       "      <td>125</td>\n",
       "      <td>28.600159</td>\n",
       "    </tr>\n",
       "    <tr>\n",
       "      <th>3953</th>\n",
       "      <td>187786.030511</td>\n",
       "      <td>0</td>\n",
       "      <td>15.447368</td>\n",
       "      <td>28</td>\n",
       "      <td>6.606339</td>\n",
       "    </tr>\n",
       "    <tr>\n",
       "      <th>330</th>\n",
       "      <td>449475.495418</td>\n",
       "      <td>0</td>\n",
       "      <td>78.601878</td>\n",
       "      <td>112</td>\n",
       "      <td>23.162930</td>\n",
       "    </tr>\n",
       "  </tbody>\n",
       "</table>\n",
       "<p>7239 rows × 5 columns</p>\n",
       "</div>"
      ],
      "text/plain": [
       "               Area  Min distance  Mean distance  Max distance  \\\n",
       "1911  617181.527322             0      33.002788            70   \n",
       "3691  937936.348231             0      12.808439            24   \n",
       "5533  162076.425715             0       3.420290             8   \n",
       "5807  208599.686797             0       3.012821             7   \n",
       "6506  593555.033711             0     142.823453           208   \n",
       "...             ...           ...            ...           ...   \n",
       "38    384037.833262             0      78.532441           114   \n",
       "5868  213834.970576             0       4.314748            10   \n",
       "5471  589923.184146             0      48.432355           125   \n",
       "3953  187786.030511             0      15.447368            28   \n",
       "330   449475.495418             0      78.601878           112   \n",
       "\n",
       "      Standart deviation  \n",
       "1911           13.527852  \n",
       "3691            5.785586  \n",
       "5533            2.455265  \n",
       "5807            2.033110  \n",
       "6506           60.777809  \n",
       "...                  ...  \n",
       "38             28.493260  \n",
       "5868            2.693557  \n",
       "5471           28.600159  \n",
       "3953            6.606339  \n",
       "330            23.162930  \n",
       "\n",
       "[7239 rows x 5 columns]"
      ]
     },
     "execution_count": 37,
     "metadata": {},
     "output_type": "execute_result"
    }
   ],
   "source": [
    "X_train = train_df.drop(['Concentration','Photo Name'], axis=1)\n",
    "X_train"
   ]
  },
  {
   "cell_type": "code",
   "execution_count": 38,
   "metadata": {},
   "outputs": [
    {
     "data": {
      "text/plain": [
       "1911    25.0\n",
       "3691     0.0\n",
       "5533    75.0\n",
       "5807    75.0\n",
       "6506    50.0\n",
       "        ... \n",
       "38      12.5\n",
       "5868    75.0\n",
       "5471    75.0\n",
       "3953    96.0\n",
       "330     12.5\n",
       "Name: Concentration, Length: 7239, dtype: float64"
      ]
     },
     "execution_count": 38,
     "metadata": {},
     "output_type": "execute_result"
    }
   ],
   "source": [
    "y_train = train_df[train_df.columns[1]]\n",
    "y_train"
   ]
  },
  {
   "cell_type": "markdown",
   "metadata": {},
   "source": [
    "Создание тестового датафрейма из файла csv"
   ]
  },
  {
   "cell_type": "code",
   "execution_count": 39,
   "metadata": {},
   "outputs": [
    {
     "data": {
      "text/html": [
       "<div>\n",
       "<style scoped>\n",
       "    .dataframe tbody tr th:only-of-type {\n",
       "        vertical-align: middle;\n",
       "    }\n",
       "\n",
       "    .dataframe tbody tr th {\n",
       "        vertical-align: top;\n",
       "    }\n",
       "\n",
       "    .dataframe thead th {\n",
       "        text-align: right;\n",
       "    }\n",
       "</style>\n",
       "<table border=\"1\" class=\"dataframe\">\n",
       "  <thead>\n",
       "    <tr style=\"text-align: right;\">\n",
       "      <th></th>\n",
       "      <th>Photo Name</th>\n",
       "      <th>Concentration</th>\n",
       "      <th>Area</th>\n",
       "      <th>Min distance</th>\n",
       "      <th>Mean distance</th>\n",
       "      <th>Max distance</th>\n",
       "      <th>Standart deviation</th>\n",
       "    </tr>\n",
       "  </thead>\n",
       "  <tbody>\n",
       "    <tr>\n",
       "      <th>0</th>\n",
       "      <td>20864</td>\n",
       "      <td>12.5</td>\n",
       "      <td>91621.680685</td>\n",
       "      <td>0</td>\n",
       "      <td>9.046512</td>\n",
       "      <td>17</td>\n",
       "      <td>3.204955</td>\n",
       "    </tr>\n",
       "    <tr>\n",
       "      <th>1</th>\n",
       "      <td>20778</td>\n",
       "      <td>12.5</td>\n",
       "      <td>110081.220131</td>\n",
       "      <td>0</td>\n",
       "      <td>6.319149</td>\n",
       "      <td>15</td>\n",
       "      <td>3.309816</td>\n",
       "    </tr>\n",
       "    <tr>\n",
       "      <th>2</th>\n",
       "      <td>20552</td>\n",
       "      <td>12.5</td>\n",
       "      <td>478240.730579</td>\n",
       "      <td>0</td>\n",
       "      <td>20.760296</td>\n",
       "      <td>38</td>\n",
       "      <td>6.440581</td>\n",
       "    </tr>\n",
       "    <tr>\n",
       "      <th>3</th>\n",
       "      <td>20913</td>\n",
       "      <td>12.5</td>\n",
       "      <td>83725.082797</td>\n",
       "      <td>0</td>\n",
       "      <td>22.042155</td>\n",
       "      <td>30</td>\n",
       "      <td>5.241976</td>\n",
       "    </tr>\n",
       "    <tr>\n",
       "      <th>4</th>\n",
       "      <td>20707</td>\n",
       "      <td>12.5</td>\n",
       "      <td>19678.020928</td>\n",
       "      <td>0</td>\n",
       "      <td>2.907514</td>\n",
       "      <td>6</td>\n",
       "      <td>1.304772</td>\n",
       "    </tr>\n",
       "    <tr>\n",
       "      <th>...</th>\n",
       "      <td>...</td>\n",
       "      <td>...</td>\n",
       "      <td>...</td>\n",
       "      <td>...</td>\n",
       "      <td>...</td>\n",
       "      <td>...</td>\n",
       "      <td>...</td>\n",
       "    </tr>\n",
       "    <tr>\n",
       "      <th>2994</th>\n",
       "      <td>50164</td>\n",
       "      <td>50.0</td>\n",
       "      <td>4145.556647</td>\n",
       "      <td>0</td>\n",
       "      <td>3.483516</td>\n",
       "      <td>9</td>\n",
       "      <td>2.160396</td>\n",
       "    </tr>\n",
       "    <tr>\n",
       "      <th>2995</th>\n",
       "      <td>50152</td>\n",
       "      <td>50.0</td>\n",
       "      <td>11773.917141</td>\n",
       "      <td>0</td>\n",
       "      <td>4.617021</td>\n",
       "      <td>9</td>\n",
       "      <td>2.236574</td>\n",
       "    </tr>\n",
       "    <tr>\n",
       "      <th>2996</th>\n",
       "      <td>50105</td>\n",
       "      <td>50.0</td>\n",
       "      <td>460895.602467</td>\n",
       "      <td>0</td>\n",
       "      <td>37.492291</td>\n",
       "      <td>63</td>\n",
       "      <td>15.561550</td>\n",
       "    </tr>\n",
       "    <tr>\n",
       "      <th>2997</th>\n",
       "      <td>50445</td>\n",
       "      <td>50.0</td>\n",
       "      <td>310270.142216</td>\n",
       "      <td>0</td>\n",
       "      <td>5.394030</td>\n",
       "      <td>10</td>\n",
       "      <td>2.480364</td>\n",
       "    </tr>\n",
       "    <tr>\n",
       "      <th>2998</th>\n",
       "      <td>50111</td>\n",
       "      <td>50.0</td>\n",
       "      <td>475633.712495</td>\n",
       "      <td>0</td>\n",
       "      <td>44.111575</td>\n",
       "      <td>70</td>\n",
       "      <td>15.097219</td>\n",
       "    </tr>\n",
       "  </tbody>\n",
       "</table>\n",
       "<p>2999 rows × 7 columns</p>\n",
       "</div>"
      ],
      "text/plain": [
       "      Photo Name  Concentration           Area  Min distance  Mean distance  \\\n",
       "0          20864           12.5   91621.680685             0       9.046512   \n",
       "1          20778           12.5  110081.220131             0       6.319149   \n",
       "2          20552           12.5  478240.730579             0      20.760296   \n",
       "3          20913           12.5   83725.082797             0      22.042155   \n",
       "4          20707           12.5   19678.020928             0       2.907514   \n",
       "...          ...            ...            ...           ...            ...   \n",
       "2994       50164           50.0    4145.556647             0       3.483516   \n",
       "2995       50152           50.0   11773.917141             0       4.617021   \n",
       "2996       50105           50.0  460895.602467             0      37.492291   \n",
       "2997       50445           50.0  310270.142216             0       5.394030   \n",
       "2998       50111           50.0  475633.712495             0      44.111575   \n",
       "\n",
       "      Max distance  Standart deviation  \n",
       "0               17            3.204955  \n",
       "1               15            3.309816  \n",
       "2               38            6.440581  \n",
       "3               30            5.241976  \n",
       "4                6            1.304772  \n",
       "...            ...                 ...  \n",
       "2994             9            2.160396  \n",
       "2995             9            2.236574  \n",
       "2996            63           15.561550  \n",
       "2997            10            2.480364  \n",
       "2998            70           15.097219  \n",
       "\n",
       "[2999 rows x 7 columns]"
      ]
     },
     "execution_count": 39,
     "metadata": {},
     "output_type": "execute_result"
    }
   ],
   "source": [
    "test_df = pd.read_csv('../../data/fixed_data/ResultTest_FixedData.csv')\n",
    "test_df"
   ]
  },
  {
   "cell_type": "markdown",
   "metadata": {},
   "source": [
    "Перемешивание строк в датафрейме"
   ]
  },
  {
   "cell_type": "code",
   "execution_count": 40,
   "metadata": {},
   "outputs": [
    {
     "data": {
      "text/html": [
       "<div>\n",
       "<style scoped>\n",
       "    .dataframe tbody tr th:only-of-type {\n",
       "        vertical-align: middle;\n",
       "    }\n",
       "\n",
       "    .dataframe tbody tr th {\n",
       "        vertical-align: top;\n",
       "    }\n",
       "\n",
       "    .dataframe thead th {\n",
       "        text-align: right;\n",
       "    }\n",
       "</style>\n",
       "<table border=\"1\" class=\"dataframe\">\n",
       "  <thead>\n",
       "    <tr style=\"text-align: right;\">\n",
       "      <th></th>\n",
       "      <th>Photo Name</th>\n",
       "      <th>Concentration</th>\n",
       "      <th>Area</th>\n",
       "      <th>Min distance</th>\n",
       "      <th>Mean distance</th>\n",
       "      <th>Max distance</th>\n",
       "      <th>Standart deviation</th>\n",
       "    </tr>\n",
       "  </thead>\n",
       "  <tbody>\n",
       "    <tr>\n",
       "      <th>2939</th>\n",
       "      <td>50043</td>\n",
       "      <td>50.0</td>\n",
       "      <td>32976.283377</td>\n",
       "      <td>0</td>\n",
       "      <td>6.951220</td>\n",
       "      <td>21</td>\n",
       "      <td>4.609735</td>\n",
       "    </tr>\n",
       "    <tr>\n",
       "      <th>2701</th>\n",
       "      <td>50135</td>\n",
       "      <td>50.0</td>\n",
       "      <td>12132.147054</td>\n",
       "      <td>0</td>\n",
       "      <td>8.316129</td>\n",
       "      <td>15</td>\n",
       "      <td>3.885050</td>\n",
       "    </tr>\n",
       "    <tr>\n",
       "      <th>1424</th>\n",
       "      <td>20029</td>\n",
       "      <td>0.0</td>\n",
       "      <td>64517.145717</td>\n",
       "      <td>0</td>\n",
       "      <td>27.916865</td>\n",
       "      <td>42</td>\n",
       "      <td>8.381646</td>\n",
       "    </tr>\n",
       "    <tr>\n",
       "      <th>492</th>\n",
       "      <td>20889</td>\n",
       "      <td>12.5</td>\n",
       "      <td>83987.245862</td>\n",
       "      <td>0</td>\n",
       "      <td>6.690860</td>\n",
       "      <td>14</td>\n",
       "      <td>3.216828</td>\n",
       "    </tr>\n",
       "    <tr>\n",
       "      <th>1702</th>\n",
       "      <td>60031</td>\n",
       "      <td>96.0</td>\n",
       "      <td>17450.238791</td>\n",
       "      <td>0</td>\n",
       "      <td>22.396226</td>\n",
       "      <td>45</td>\n",
       "      <td>13.065639</td>\n",
       "    </tr>\n",
       "    <tr>\n",
       "      <th>...</th>\n",
       "      <td>...</td>\n",
       "      <td>...</td>\n",
       "      <td>...</td>\n",
       "      <td>...</td>\n",
       "      <td>...</td>\n",
       "      <td>...</td>\n",
       "      <td>...</td>\n",
       "    </tr>\n",
       "    <tr>\n",
       "      <th>2323</th>\n",
       "      <td>31796</td>\n",
       "      <td>75.0</td>\n",
       "      <td>5548.123244</td>\n",
       "      <td>0</td>\n",
       "      <td>1.663043</td>\n",
       "      <td>5</td>\n",
       "      <td>1.125564</td>\n",
       "    </tr>\n",
       "    <tr>\n",
       "      <th>893</th>\n",
       "      <td>41939</td>\n",
       "      <td>25.0</td>\n",
       "      <td>165526.521368</td>\n",
       "      <td>0</td>\n",
       "      <td>9.270677</td>\n",
       "      <td>16</td>\n",
       "      <td>3.798749</td>\n",
       "    </tr>\n",
       "    <tr>\n",
       "      <th>2216</th>\n",
       "      <td>31411</td>\n",
       "      <td>75.0</td>\n",
       "      <td>197281.532045</td>\n",
       "      <td>0</td>\n",
       "      <td>5.992701</td>\n",
       "      <td>12</td>\n",
       "      <td>2.894738</td>\n",
       "    </tr>\n",
       "    <tr>\n",
       "      <th>320</th>\n",
       "      <td>20532</td>\n",
       "      <td>12.5</td>\n",
       "      <td>396217.594812</td>\n",
       "      <td>0</td>\n",
       "      <td>35.193584</td>\n",
       "      <td>57</td>\n",
       "      <td>10.189419</td>\n",
       "    </tr>\n",
       "    <tr>\n",
       "      <th>1577</th>\n",
       "      <td>50414</td>\n",
       "      <td>96.0</td>\n",
       "      <td>442764.099826</td>\n",
       "      <td>0</td>\n",
       "      <td>115.536719</td>\n",
       "      <td>154</td>\n",
       "      <td>40.224781</td>\n",
       "    </tr>\n",
       "  </tbody>\n",
       "</table>\n",
       "<p>2999 rows × 7 columns</p>\n",
       "</div>"
      ],
      "text/plain": [
       "      Photo Name  Concentration           Area  Min distance  Mean distance  \\\n",
       "2939       50043           50.0   32976.283377             0       6.951220   \n",
       "2701       50135           50.0   12132.147054             0       8.316129   \n",
       "1424       20029            0.0   64517.145717             0      27.916865   \n",
       "492        20889           12.5   83987.245862             0       6.690860   \n",
       "1702       60031           96.0   17450.238791             0      22.396226   \n",
       "...          ...            ...            ...           ...            ...   \n",
       "2323       31796           75.0    5548.123244             0       1.663043   \n",
       "893        41939           25.0  165526.521368             0       9.270677   \n",
       "2216       31411           75.0  197281.532045             0       5.992701   \n",
       "320        20532           12.5  396217.594812             0      35.193584   \n",
       "1577       50414           96.0  442764.099826             0     115.536719   \n",
       "\n",
       "      Max distance  Standart deviation  \n",
       "2939            21            4.609735  \n",
       "2701            15            3.885050  \n",
       "1424            42            8.381646  \n",
       "492             14            3.216828  \n",
       "1702            45           13.065639  \n",
       "...            ...                 ...  \n",
       "2323             5            1.125564  \n",
       "893             16            3.798749  \n",
       "2216            12            2.894738  \n",
       "320             57           10.189419  \n",
       "1577           154           40.224781  \n",
       "\n",
       "[2999 rows x 7 columns]"
      ]
     },
     "execution_count": 40,
     "metadata": {},
     "output_type": "execute_result"
    }
   ],
   "source": [
    "from sklearn.utils import shuffle\n",
    "test_df = shuffle(test_df)\n",
    "test_df"
   ]
  },
  {
   "cell_type": "markdown",
   "metadata": {},
   "source": [
    "Зполнение данных в переменные для обучения"
   ]
  },
  {
   "cell_type": "code",
   "execution_count": 41,
   "metadata": {},
   "outputs": [
    {
     "data": {
      "text/html": [
       "<div>\n",
       "<style scoped>\n",
       "    .dataframe tbody tr th:only-of-type {\n",
       "        vertical-align: middle;\n",
       "    }\n",
       "\n",
       "    .dataframe tbody tr th {\n",
       "        vertical-align: top;\n",
       "    }\n",
       "\n",
       "    .dataframe thead th {\n",
       "        text-align: right;\n",
       "    }\n",
       "</style>\n",
       "<table border=\"1\" class=\"dataframe\">\n",
       "  <thead>\n",
       "    <tr style=\"text-align: right;\">\n",
       "      <th></th>\n",
       "      <th>Area</th>\n",
       "      <th>Min distance</th>\n",
       "      <th>Mean distance</th>\n",
       "      <th>Max distance</th>\n",
       "      <th>Standart deviation</th>\n",
       "    </tr>\n",
       "  </thead>\n",
       "  <tbody>\n",
       "    <tr>\n",
       "      <th>2939</th>\n",
       "      <td>32976.283377</td>\n",
       "      <td>0</td>\n",
       "      <td>6.951220</td>\n",
       "      <td>21</td>\n",
       "      <td>4.609735</td>\n",
       "    </tr>\n",
       "    <tr>\n",
       "      <th>2701</th>\n",
       "      <td>12132.147054</td>\n",
       "      <td>0</td>\n",
       "      <td>8.316129</td>\n",
       "      <td>15</td>\n",
       "      <td>3.885050</td>\n",
       "    </tr>\n",
       "    <tr>\n",
       "      <th>1424</th>\n",
       "      <td>64517.145717</td>\n",
       "      <td>0</td>\n",
       "      <td>27.916865</td>\n",
       "      <td>42</td>\n",
       "      <td>8.381646</td>\n",
       "    </tr>\n",
       "    <tr>\n",
       "      <th>492</th>\n",
       "      <td>83987.245862</td>\n",
       "      <td>0</td>\n",
       "      <td>6.690860</td>\n",
       "      <td>14</td>\n",
       "      <td>3.216828</td>\n",
       "    </tr>\n",
       "    <tr>\n",
       "      <th>1702</th>\n",
       "      <td>17450.238791</td>\n",
       "      <td>0</td>\n",
       "      <td>22.396226</td>\n",
       "      <td>45</td>\n",
       "      <td>13.065639</td>\n",
       "    </tr>\n",
       "    <tr>\n",
       "      <th>...</th>\n",
       "      <td>...</td>\n",
       "      <td>...</td>\n",
       "      <td>...</td>\n",
       "      <td>...</td>\n",
       "      <td>...</td>\n",
       "    </tr>\n",
       "    <tr>\n",
       "      <th>2323</th>\n",
       "      <td>5548.123244</td>\n",
       "      <td>0</td>\n",
       "      <td>1.663043</td>\n",
       "      <td>5</td>\n",
       "      <td>1.125564</td>\n",
       "    </tr>\n",
       "    <tr>\n",
       "      <th>893</th>\n",
       "      <td>165526.521368</td>\n",
       "      <td>0</td>\n",
       "      <td>9.270677</td>\n",
       "      <td>16</td>\n",
       "      <td>3.798749</td>\n",
       "    </tr>\n",
       "    <tr>\n",
       "      <th>2216</th>\n",
       "      <td>197281.532045</td>\n",
       "      <td>0</td>\n",
       "      <td>5.992701</td>\n",
       "      <td>12</td>\n",
       "      <td>2.894738</td>\n",
       "    </tr>\n",
       "    <tr>\n",
       "      <th>320</th>\n",
       "      <td>396217.594812</td>\n",
       "      <td>0</td>\n",
       "      <td>35.193584</td>\n",
       "      <td>57</td>\n",
       "      <td>10.189419</td>\n",
       "    </tr>\n",
       "    <tr>\n",
       "      <th>1577</th>\n",
       "      <td>442764.099826</td>\n",
       "      <td>0</td>\n",
       "      <td>115.536719</td>\n",
       "      <td>154</td>\n",
       "      <td>40.224781</td>\n",
       "    </tr>\n",
       "  </tbody>\n",
       "</table>\n",
       "<p>2999 rows × 5 columns</p>\n",
       "</div>"
      ],
      "text/plain": [
       "               Area  Min distance  Mean distance  Max distance  \\\n",
       "2939   32976.283377             0       6.951220            21   \n",
       "2701   12132.147054             0       8.316129            15   \n",
       "1424   64517.145717             0      27.916865            42   \n",
       "492    83987.245862             0       6.690860            14   \n",
       "1702   17450.238791             0      22.396226            45   \n",
       "...             ...           ...            ...           ...   \n",
       "2323    5548.123244             0       1.663043             5   \n",
       "893   165526.521368             0       9.270677            16   \n",
       "2216  197281.532045             0       5.992701            12   \n",
       "320   396217.594812             0      35.193584            57   \n",
       "1577  442764.099826             0     115.536719           154   \n",
       "\n",
       "      Standart deviation  \n",
       "2939            4.609735  \n",
       "2701            3.885050  \n",
       "1424            8.381646  \n",
       "492             3.216828  \n",
       "1702           13.065639  \n",
       "...                  ...  \n",
       "2323            1.125564  \n",
       "893             3.798749  \n",
       "2216            2.894738  \n",
       "320            10.189419  \n",
       "1577           40.224781  \n",
       "\n",
       "[2999 rows x 5 columns]"
      ]
     },
     "execution_count": 41,
     "metadata": {},
     "output_type": "execute_result"
    }
   ],
   "source": [
    "X_test = test_df.drop(['Concentration', 'Photo Name'], axis=1)\n",
    "X_test"
   ]
  },
  {
   "cell_type": "code",
   "execution_count": 42,
   "metadata": {},
   "outputs": [
    {
     "data": {
      "text/plain": [
       "2939    50.0\n",
       "2701    50.0\n",
       "1424     0.0\n",
       "492     12.5\n",
       "1702    96.0\n",
       "        ... \n",
       "2323    75.0\n",
       "893     25.0\n",
       "2216    75.0\n",
       "320     12.5\n",
       "1577    96.0\n",
       "Name: Concentration, Length: 2999, dtype: float64"
      ]
     },
     "execution_count": 42,
     "metadata": {},
     "output_type": "execute_result"
    }
   ],
   "source": [
    "y_test = test_df[test_df.columns[1]]\n",
    "y_test"
   ]
  },
  {
   "attachments": {},
   "cell_type": "markdown",
   "metadata": {},
   "source": [
    "KNeighborsRegressor"
   ]
  },
  {
   "attachments": {},
   "cell_type": "markdown",
   "metadata": {},
   "source": [
    "Импорт библиотек\n"
   ]
  },
  {
   "cell_type": "code",
   "execution_count": 43,
   "metadata": {},
   "outputs": [],
   "source": [
    "from sklearn.model_selection import GridSearchCV\n",
    "from sklearn.neighbors import KNeighborsClassifier\n",
    "from sklearn.pipeline import Pipeline\n",
    "from sklearn.preprocessing import MinMaxScaler"
   ]
  },
  {
   "attachments": {},
   "cell_type": "markdown",
   "metadata": {},
   "source": [
    "Заполнение моедли"
   ]
  },
  {
   "cell_type": "code",
   "execution_count": 44,
   "metadata": {},
   "outputs": [
    {
     "data": {
      "text/plain": [
       "KNeighborsRegressor()"
      ]
     },
     "execution_count": 44,
     "metadata": {},
     "output_type": "execute_result"
    }
   ],
   "source": [
    "KNeighborsRegressor_model = KNeighborsRegressor()\n",
    "KNeighborsRegressor_model.fit(X_train, y_train)"
   ]
  },
  {
   "attachments": {},
   "cell_type": "markdown",
   "metadata": {},
   "source": [
    "Делаем предикт для тренировочных данных"
   ]
  },
  {
   "cell_type": "code",
   "execution_count": 82,
   "metadata": {},
   "outputs": [
    {
     "name": "stdout",
     "output_type": "stream",
     "text": [
      "[87.6 66.7 75.  ... 96.  45.  37.5]\n"
     ]
    }
   ],
   "source": [
    "KNeighborsRegressor_model_train_pred = KNeighborsRegressor_model.predict(X_test)\n",
    "print(KNeighborsRegressor_model_train_pred)"
   ]
  },
  {
   "attachments": {},
   "cell_type": "markdown",
   "metadata": {},
   "source": [
    "Импорт библиотек"
   ]
  },
  {
   "cell_type": "code",
   "execution_count": 46,
   "metadata": {},
   "outputs": [],
   "source": [
    "from sklearn.metrics import *"
   ]
  },
  {
   "attachments": {},
   "cell_type": "markdown",
   "metadata": {},
   "source": [
    "Выводим результаты для тренировочного предсказания"
   ]
  },
  {
   "cell_type": "code",
   "execution_count": 47,
   "metadata": {},
   "outputs": [
    {
     "name": "stdout",
     "output_type": "stream",
     "text": [
      "29.53471157052351\n",
      "2.1487688016882664\n",
      "-0.23059398141359178\n"
     ]
    }
   ],
   "source": [
    "print(mean_absolute_error(y_test.values, KNeighborsRegressor_model_train_pred))\n",
    "print(mean_squared_log_error(y_test.values, KNeighborsRegressor_model_train_pred))\n",
    "print(r2_score(y_test, KNeighborsRegressor_model_train_pred))"
   ]
  },
  {
   "attachments": {},
   "cell_type": "markdown",
   "metadata": {},
   "source": [
    "Делаем предикт для тестировочных данных"
   ]
  },
  {
   "cell_type": "code",
   "execution_count": 48,
   "metadata": {},
   "outputs": [
    {
     "data": {
      "text/html": [
       "<div>\n",
       "<style scoped>\n",
       "    .dataframe tbody tr th:only-of-type {\n",
       "        vertical-align: middle;\n",
       "    }\n",
       "\n",
       "    .dataframe tbody tr th {\n",
       "        vertical-align: top;\n",
       "    }\n",
       "\n",
       "    .dataframe thead th {\n",
       "        text-align: right;\n",
       "    }\n",
       "</style>\n",
       "<table border=\"1\" class=\"dataframe\">\n",
       "  <thead>\n",
       "    <tr style=\"text-align: right;\">\n",
       "      <th></th>\n",
       "      <th>Area</th>\n",
       "      <th>Min distance</th>\n",
       "      <th>Mean distance</th>\n",
       "      <th>Max distance</th>\n",
       "      <th>Standart deviation</th>\n",
       "    </tr>\n",
       "  </thead>\n",
       "  <tbody>\n",
       "    <tr>\n",
       "      <th>2939</th>\n",
       "      <td>32976.283377</td>\n",
       "      <td>0</td>\n",
       "      <td>6.951220</td>\n",
       "      <td>21</td>\n",
       "      <td>4.609735</td>\n",
       "    </tr>\n",
       "    <tr>\n",
       "      <th>2701</th>\n",
       "      <td>12132.147054</td>\n",
       "      <td>0</td>\n",
       "      <td>8.316129</td>\n",
       "      <td>15</td>\n",
       "      <td>3.885050</td>\n",
       "    </tr>\n",
       "    <tr>\n",
       "      <th>1424</th>\n",
       "      <td>64517.145717</td>\n",
       "      <td>0</td>\n",
       "      <td>27.916865</td>\n",
       "      <td>42</td>\n",
       "      <td>8.381646</td>\n",
       "    </tr>\n",
       "    <tr>\n",
       "      <th>492</th>\n",
       "      <td>83987.245862</td>\n",
       "      <td>0</td>\n",
       "      <td>6.690860</td>\n",
       "      <td>14</td>\n",
       "      <td>3.216828</td>\n",
       "    </tr>\n",
       "    <tr>\n",
       "      <th>1702</th>\n",
       "      <td>17450.238791</td>\n",
       "      <td>0</td>\n",
       "      <td>22.396226</td>\n",
       "      <td>45</td>\n",
       "      <td>13.065639</td>\n",
       "    </tr>\n",
       "    <tr>\n",
       "      <th>...</th>\n",
       "      <td>...</td>\n",
       "      <td>...</td>\n",
       "      <td>...</td>\n",
       "      <td>...</td>\n",
       "      <td>...</td>\n",
       "    </tr>\n",
       "    <tr>\n",
       "      <th>2323</th>\n",
       "      <td>5548.123244</td>\n",
       "      <td>0</td>\n",
       "      <td>1.663043</td>\n",
       "      <td>5</td>\n",
       "      <td>1.125564</td>\n",
       "    </tr>\n",
       "    <tr>\n",
       "      <th>893</th>\n",
       "      <td>165526.521368</td>\n",
       "      <td>0</td>\n",
       "      <td>9.270677</td>\n",
       "      <td>16</td>\n",
       "      <td>3.798749</td>\n",
       "    </tr>\n",
       "    <tr>\n",
       "      <th>2216</th>\n",
       "      <td>197281.532045</td>\n",
       "      <td>0</td>\n",
       "      <td>5.992701</td>\n",
       "      <td>12</td>\n",
       "      <td>2.894738</td>\n",
       "    </tr>\n",
       "    <tr>\n",
       "      <th>320</th>\n",
       "      <td>396217.594812</td>\n",
       "      <td>0</td>\n",
       "      <td>35.193584</td>\n",
       "      <td>57</td>\n",
       "      <td>10.189419</td>\n",
       "    </tr>\n",
       "    <tr>\n",
       "      <th>1577</th>\n",
       "      <td>442764.099826</td>\n",
       "      <td>0</td>\n",
       "      <td>115.536719</td>\n",
       "      <td>154</td>\n",
       "      <td>40.224781</td>\n",
       "    </tr>\n",
       "  </tbody>\n",
       "</table>\n",
       "<p>2999 rows × 5 columns</p>\n",
       "</div>"
      ],
      "text/plain": [
       "               Area  Min distance  Mean distance  Max distance  \\\n",
       "2939   32976.283377             0       6.951220            21   \n",
       "2701   12132.147054             0       8.316129            15   \n",
       "1424   64517.145717             0      27.916865            42   \n",
       "492    83987.245862             0       6.690860            14   \n",
       "1702   17450.238791             0      22.396226            45   \n",
       "...             ...           ...            ...           ...   \n",
       "2323    5548.123244             0       1.663043             5   \n",
       "893   165526.521368             0       9.270677            16   \n",
       "2216  197281.532045             0       5.992701            12   \n",
       "320   396217.594812             0      35.193584            57   \n",
       "1577  442764.099826             0     115.536719           154   \n",
       "\n",
       "      Standart deviation  \n",
       "2939            4.609735  \n",
       "2701            3.885050  \n",
       "1424            8.381646  \n",
       "492             3.216828  \n",
       "1702           13.065639  \n",
       "...                  ...  \n",
       "2323            1.125564  \n",
       "893             3.798749  \n",
       "2216            2.894738  \n",
       "320            10.189419  \n",
       "1577           40.224781  \n",
       "\n",
       "[2999 rows x 5 columns]"
      ]
     },
     "execution_count": 48,
     "metadata": {},
     "output_type": "execute_result"
    }
   ],
   "source": [
    "X_test\n",
    "#KNeighborsRegressor_model_test_pred = KNeighborsRegressor_model.predict(X_test)"
   ]
  },
  {
   "attachments": {},
   "cell_type": "markdown",
   "metadata": {},
   "source": [
    "Выводим результаты для тестового предсказания"
   ]
  },
  {
   "cell_type": "code",
   "execution_count": null,
   "metadata": {},
   "outputs": [],
   "source": []
  },
  {
   "attachments": {},
   "cell_type": "markdown",
   "metadata": {},
   "source": [
    "GradientBoostingRegressor"
   ]
  },
  {
   "cell_type": "markdown",
   "metadata": {},
   "source": [
    "Импорт библиотек\n"
   ]
  },
  {
   "cell_type": "code",
   "execution_count": 49,
   "metadata": {},
   "outputs": [],
   "source": [
    "from sklearn.ensemble import GradientBoostingRegressor"
   ]
  },
  {
   "cell_type": "markdown",
   "metadata": {},
   "source": [
    "Заполнение моедли"
   ]
  },
  {
   "cell_type": "code",
   "execution_count": 50,
   "metadata": {},
   "outputs": [
    {
     "data": {
      "text/plain": [
       "GradientBoostingRegressor()"
      ]
     },
     "execution_count": 50,
     "metadata": {},
     "output_type": "execute_result"
    }
   ],
   "source": [
    "GradientBoostingRegressor_model = GradientBoostingRegressor()\n",
    "GradientBoostingRegressor_model.fit(X_train, y_train)"
   ]
  },
  {
   "cell_type": "markdown",
   "metadata": {},
   "source": [
    "Делаем предикт для тренировочных данных"
   ]
  },
  {
   "cell_type": "code",
   "execution_count": 51,
   "metadata": {},
   "outputs": [],
   "source": [
    "GradientBoostingRegressor_model_train_pred = GradientBoostingRegressor_model.predict(X_train)"
   ]
  },
  {
   "cell_type": "markdown",
   "metadata": {},
   "source": [
    "Импорт библиотек"
   ]
  },
  {
   "cell_type": "code",
   "execution_count": 52,
   "metadata": {},
   "outputs": [],
   "source": [
    "from sklearn.metrics import *"
   ]
  },
  {
   "cell_type": "markdown",
   "metadata": {},
   "source": [
    "Выводим результаты для тренировочного предсказания"
   ]
  },
  {
   "cell_type": "code",
   "execution_count": 53,
   "metadata": {},
   "outputs": [
    {
     "name": "stdout",
     "output_type": "stream",
     "text": [
      "11.896246188221124\n",
      "0.7791118191718983\n"
     ]
    }
   ],
   "source": [
    "print(mean_absolute_error(y_train.values, GradientBoostingRegressor_model_train_pred))\n",
    "print(r2_score(y_train, GradientBoostingRegressor_model_train_pred))"
   ]
  },
  {
   "cell_type": "markdown",
   "metadata": {},
   "source": [
    "Делаем предикт для тестировочных данных"
   ]
  },
  {
   "cell_type": "code",
   "execution_count": 54,
   "metadata": {},
   "outputs": [],
   "source": [
    "GradientBoostingRegressor_model_test_pred = GradientBoostingRegressor_model.predict(X_test)"
   ]
  },
  {
   "attachments": {},
   "cell_type": "markdown",
   "metadata": {},
   "source": [
    "Выводим результаты для тестового предсказания"
   ]
  },
  {
   "cell_type": "code",
   "execution_count": 55,
   "metadata": {},
   "outputs": [
    {
     "name": "stdout",
     "output_type": "stream",
     "text": [
      "27.629183972944123\n",
      "-0.10047933198098824\n"
     ]
    }
   ],
   "source": [
    "print(mean_absolute_error(y_test.values, GradientBoostingRegressor_model_test_pred))\n",
    "print(r2_score(y_test, GradientBoostingRegressor_model_test_pred))"
   ]
  },
  {
   "attachments": {},
   "cell_type": "markdown",
   "metadata": {},
   "source": [
    "RandomForestRegressor"
   ]
  },
  {
   "cell_type": "markdown",
   "metadata": {},
   "source": [
    "Импорт библиотек"
   ]
  },
  {
   "cell_type": "code",
   "execution_count": 56,
   "metadata": {},
   "outputs": [],
   "source": [
    "from sklearn.ensemble import RandomForestRegressor"
   ]
  },
  {
   "cell_type": "markdown",
   "metadata": {},
   "source": [
    "Заполнение моедли"
   ]
  },
  {
   "cell_type": "code",
   "execution_count": 57,
   "metadata": {},
   "outputs": [
    {
     "data": {
      "text/plain": [
       "RandomForestRegressor()"
      ]
     },
     "execution_count": 57,
     "metadata": {},
     "output_type": "execute_result"
    }
   ],
   "source": [
    "RandomForestRegressor_model = RandomForestRegressor()\n",
    "RandomForestRegressor_model.fit(X_train, y_train)"
   ]
  },
  {
   "cell_type": "markdown",
   "metadata": {},
   "source": [
    "Делаем предикт для тренировочных данных"
   ]
  },
  {
   "cell_type": "code",
   "execution_count": 58,
   "metadata": {},
   "outputs": [],
   "source": [
    "RandomForestRegressor_model_train_pred = RandomForestRegressor_model.predict(X_train)"
   ]
  },
  {
   "cell_type": "markdown",
   "metadata": {},
   "source": [
    "Импорт библиотек"
   ]
  },
  {
   "cell_type": "code",
   "execution_count": 59,
   "metadata": {},
   "outputs": [],
   "source": [
    "from sklearn.metrics import *"
   ]
  },
  {
   "cell_type": "markdown",
   "metadata": {},
   "source": [
    "Выводим результаты для тестового предсказания"
   ]
  },
  {
   "cell_type": "code",
   "execution_count": 60,
   "metadata": {},
   "outputs": [
    {
     "name": "stdout",
     "output_type": "stream",
     "text": [
      "3.520626467744164\n",
      "0.10737479918109219\n",
      "0.9700105211217833\n"
     ]
    }
   ],
   "source": [
    "print(mean_absolute_error(y_train.values, RandomForestRegressor_model_train_pred))\n",
    "print(mean_squared_log_error(y_train.values, RandomForestRegressor_model_train_pred))\n",
    "print(r2_score(y_train, RandomForestRegressor_model_train_pred))"
   ]
  },
  {
   "cell_type": "markdown",
   "metadata": {},
   "source": [
    "Делаем предикт для тестировочных данных"
   ]
  },
  {
   "cell_type": "code",
   "execution_count": 61,
   "metadata": {},
   "outputs": [],
   "source": [
    "RandomForestRegressor_model_test_pred = RandomForestRegressor_model.predict(X_test)"
   ]
  },
  {
   "cell_type": "markdown",
   "metadata": {},
   "source": [
    "Выводим результаты для тестового предсказания"
   ]
  },
  {
   "cell_type": "code",
   "execution_count": 62,
   "metadata": {},
   "outputs": [
    {
     "name": "stdout",
     "output_type": "stream",
     "text": [
      "25.864221407135712\n",
      "2.0276162888383555\n",
      "-0.09819302119782214\n"
     ]
    }
   ],
   "source": [
    "print(mean_absolute_error(y_test.values, RandomForestRegressor_model_test_pred))\n",
    "print(mean_squared_log_error(y_test.values, RandomForestRegressor_model_test_pred))\n",
    "print(r2_score(y_test, RandomForestRegressor_model_test_pred))"
   ]
  },
  {
   "attachments": {},
   "cell_type": "markdown",
   "metadata": {},
   "source": [
    "DecisionTreeRegressor"
   ]
  },
  {
   "cell_type": "markdown",
   "metadata": {},
   "source": [
    "Импорт библиотек"
   ]
  },
  {
   "cell_type": "code",
   "execution_count": 63,
   "metadata": {},
   "outputs": [],
   "source": [
    "from sklearn.tree import DecisionTreeRegressor"
   ]
  },
  {
   "cell_type": "markdown",
   "metadata": {},
   "source": [
    "Заполнение моедли"
   ]
  },
  {
   "cell_type": "code",
   "execution_count": 64,
   "metadata": {},
   "outputs": [
    {
     "data": {
      "text/plain": [
       "DecisionTreeRegressor()"
      ]
     },
     "execution_count": 64,
     "metadata": {},
     "output_type": "execute_result"
    }
   ],
   "source": [
    "DecisionTreeRegressor_model = DecisionTreeRegressor()\n",
    "DecisionTreeRegressor_model.fit(X_train, y_train)"
   ]
  },
  {
   "cell_type": "markdown",
   "metadata": {},
   "source": [
    "Делаем предикт для тренировочных данных"
   ]
  },
  {
   "cell_type": "code",
   "execution_count": 65,
   "metadata": {},
   "outputs": [],
   "source": [
    "DecisionTreeRegressor_model_train_pred = DecisionTreeRegressor_model.predict(X_train)"
   ]
  },
  {
   "cell_type": "markdown",
   "metadata": {},
   "source": [
    "Импорт библиотек"
   ]
  },
  {
   "cell_type": "code",
   "execution_count": 66,
   "metadata": {},
   "outputs": [],
   "source": [
    "from sklearn.metrics import *"
   ]
  },
  {
   "cell_type": "markdown",
   "metadata": {},
   "source": [
    "Выводим результаты для тестового предсказания"
   ]
  },
  {
   "cell_type": "code",
   "execution_count": 67,
   "metadata": {},
   "outputs": [
    {
     "name": "stdout",
     "output_type": "stream",
     "text": [
      "0.0\n",
      "0.0\n",
      "1.0\n"
     ]
    }
   ],
   "source": [
    "print(mean_absolute_error(y_train.values, DecisionTreeRegressor_model_train_pred))\n",
    "print(mean_squared_log_error(y_train.values, DecisionTreeRegressor_model_train_pred))\n",
    "print(r2_score(y_train, DecisionTreeRegressor_model_train_pred))"
   ]
  },
  {
   "cell_type": "markdown",
   "metadata": {},
   "source": [
    "Делаем предикт для тестировочных данных"
   ]
  },
  {
   "cell_type": "code",
   "execution_count": 68,
   "metadata": {},
   "outputs": [],
   "source": [
    "DecisionTreeRegressor_model_test_pred = DecisionTreeRegressor_model.predict(X_test)"
   ]
  },
  {
   "cell_type": "markdown",
   "metadata": {},
   "source": [
    "Выводим результаты для тестового предсказания"
   ]
  },
  {
   "cell_type": "code",
   "execution_count": 69,
   "metadata": {},
   "outputs": [
    {
     "name": "stdout",
     "output_type": "stream",
     "text": [
      "26.453817939313105\n",
      "2.14584809749204\n",
      "-0.3759317861277547\n"
     ]
    }
   ],
   "source": [
    "print(mean_absolute_error(y_test.values, DecisionTreeRegressor_model_test_pred))\n",
    "print(mean_squared_log_error(y_test.values, DecisionTreeRegressor_model_test_pred))\n",
    "print(r2_score(y_test, DecisionTreeRegressor_model_test_pred))"
   ]
  },
  {
   "attachments": {},
   "cell_type": "markdown",
   "metadata": {},
   "source": [
    "MLPRegressor"
   ]
  },
  {
   "cell_type": "markdown",
   "metadata": {},
   "source": [
    "Импорт библиотек"
   ]
  },
  {
   "cell_type": "code",
   "execution_count": 70,
   "metadata": {},
   "outputs": [],
   "source": [
    "from sklearn.neural_network import MLPRegressor"
   ]
  },
  {
   "cell_type": "markdown",
   "metadata": {},
   "source": [
    "Заполнение моедли"
   ]
  },
  {
   "cell_type": "code",
   "execution_count": 71,
   "metadata": {},
   "outputs": [
    {
     "data": {
      "text/plain": [
       "MLPRegressor()"
      ]
     },
     "execution_count": 71,
     "metadata": {},
     "output_type": "execute_result"
    }
   ],
   "source": [
    "MLPRegressor_model = MLPRegressor()\n",
    "MLPRegressor_model.fit(X_train, y_train)"
   ]
  },
  {
   "cell_type": "markdown",
   "metadata": {},
   "source": [
    "Делаем предикт для тренировочных данных"
   ]
  },
  {
   "cell_type": "code",
   "execution_count": 72,
   "metadata": {},
   "outputs": [],
   "source": [
    "MLPRegressor_model_train_pred = MLPRegressor_model.predict(X_train)"
   ]
  },
  {
   "cell_type": "markdown",
   "metadata": {},
   "source": [
    "Импорт библиотек"
   ]
  },
  {
   "cell_type": "code",
   "execution_count": 73,
   "metadata": {},
   "outputs": [],
   "source": [
    "from sklearn.metrics import *"
   ]
  },
  {
   "cell_type": "markdown",
   "metadata": {},
   "source": [
    "Выводим результаты для тестового предсказания"
   ]
  },
  {
   "cell_type": "code",
   "execution_count": 74,
   "metadata": {},
   "outputs": [
    {
     "name": "stdout",
     "output_type": "stream",
     "text": [
      "38.69589686868244\n",
      "3.4584813940485035\n",
      "-0.912588206355081\n"
     ]
    }
   ],
   "source": [
    "print(mean_absolute_error(y_train.values, MLPRegressor_model_train_pred))\n",
    "print(mean_squared_log_error(y_train.values, MLPRegressor_model_train_pred))\n",
    "print(r2_score(y_train, MLPRegressor_model_train_pred))"
   ]
  },
  {
   "cell_type": "markdown",
   "metadata": {},
   "source": [
    "Делаем предикт для тестировочных данных"
   ]
  },
  {
   "cell_type": "code",
   "execution_count": 75,
   "metadata": {},
   "outputs": [
    {
     "name": "stdout",
     "output_type": "stream",
     "text": [
      "               Area  Min distance  Mean distance  Max distance  \\\n",
      "2939   32976.283377             0       6.951220            21   \n",
      "2701   12132.147054             0       8.316129            15   \n",
      "1424   64517.145717             0      27.916865            42   \n",
      "492    83987.245862             0       6.690860            14   \n",
      "1702   17450.238791             0      22.396226            45   \n",
      "...             ...           ...            ...           ...   \n",
      "2323    5548.123244             0       1.663043             5   \n",
      "893   165526.521368             0       9.270677            16   \n",
      "2216  197281.532045             0       5.992701            12   \n",
      "320   396217.594812             0      35.193584            57   \n",
      "1577  442764.099826             0     115.536719           154   \n",
      "\n",
      "      Standart deviation  \n",
      "2939            4.609735  \n",
      "2701            3.885050  \n",
      "1424            8.381646  \n",
      "492             3.216828  \n",
      "1702           13.065639  \n",
      "...                  ...  \n",
      "2323            1.125564  \n",
      "893             3.798749  \n",
      "2216            2.894738  \n",
      "320            10.189419  \n",
      "1577           40.224781  \n",
      "\n",
      "[2999 rows x 5 columns]\n"
     ]
    }
   ],
   "source": [
    "MLPRegressor_model_test_pred = MLPRegressor_model.predict(X_test)\n",
    "print(X_test)\n"
   ]
  },
  {
   "cell_type": "code",
   "execution_count": 76,
   "metadata": {},
   "outputs": [
    {
     "name": "stdout",
     "output_type": "stream",
     "text": [
      "2939    50.0\n",
      "2701    50.0\n",
      "1424     0.0\n",
      "492     12.5\n",
      "1702    96.0\n",
      "        ... \n",
      "2323    75.0\n",
      "893     25.0\n",
      "2216    75.0\n",
      "320     12.5\n",
      "1577    96.0\n",
      "Name: Concentration, Length: 2999, dtype: float64\n"
     ]
    }
   ],
   "source": [
    "print(y_test)"
   ]
  },
  {
   "cell_type": "markdown",
   "metadata": {},
   "source": [
    "Выводим результаты для тестового предсказания"
   ]
  },
  {
   "cell_type": "code",
   "execution_count": 77,
   "metadata": {},
   "outputs": [
    {
     "name": "stdout",
     "output_type": "stream",
     "text": [
      "39.302929591142785\n",
      "4.151112308904514\n",
      "-1.0203850222547848\n"
     ]
    }
   ],
   "source": [
    "print(mean_absolute_error(y_test.values, MLPRegressor_model_test_pred))\n",
    "print(mean_squared_log_error(y_test.values, MLPRegressor_model_test_pred))\n",
    "print(r2_score(y_test, MLPRegressor_model_test_pred))"
   ]
  },
  {
   "cell_type": "code",
   "execution_count": 78,
   "metadata": {},
   "outputs": [],
   "source": [
    "import matplotlib.pyplot as plt"
   ]
  },
  {
   "cell_type": "code",
   "execution_count": 79,
   "metadata": {},
   "outputs": [
    {
     "data": {
      "image/png": "[encoded data removed]",
      "text/plain": [
       "<Figure size 640x480 with 1 Axes>"
      ]
     },
     "metadata": {},
     "output_type": "display_data"
    }
   ],
   "source": [
    "plt.scatter(y_test, RandomForestRegressor_model_test_pred)\n",
    "plt.xlabel(\"Actual Concentration\")\n",
    "plt.ylabel(\"Predicted Concentration\")\n",
    "plt.title(\"Actual Concentration vs Predicted Concentration: RandomForest Regression testing_data\")\n",
    "plt.show()"
   ]
  },
  {
   "cell_type": "code",
   "execution_count": 80,
   "metadata": {},
   "outputs": [
    {
     "data": {
      "image/png": "[encoded data removed]",
      "text/plain": [
       "<Figure size 640x480 with 1 Axes>"
      ]
     },
     "metadata": {},
     "output_type": "display_data"
    }
   ],
   "source": [
    "plt.scatter(y_train, RandomForestRegressor_model_train_pred)\n",
    "plt.xlabel(\"Actual Concentration\")\n",
    "plt.ylabel(\"Predicted Concentration\")\n",
    "plt.title(\"Actual Concentration vs Predicted Concentration: RandomForest Regression training_data\")\n",
    "plt.show()"
   ]
  },
  {
   "cell_type": "code",
   "execution_count": 81,
   "metadata": {},
   "outputs": [
    {
     "ename": "ValueError",
     "evalue": "x and y must be the same size",
     "output_type": "error",
     "traceback": [
      "\u001b[0;31m---------------------------------------------------------------------------\u001b[0m",
      "\u001b[0;31mValueError\u001b[0m                                Traceback (most recent call last)",
      "Cell \u001b[0;32mIn[81], line 1\u001b[0m\n\u001b[0;32m----> 1\u001b[0m plt\u001b[39m.\u001b[39;49mscatter(y_train, KNeighborsRegressor_model_train_pred)\n\u001b[1;32m      2\u001b[0m plt\u001b[39m.\u001b[39mxlabel(\u001b[39m\"\u001b[39m\u001b[39mActual Concentration\u001b[39m\u001b[39m\"\u001b[39m)\n\u001b[1;32m      3\u001b[0m plt\u001b[39m.\u001b[39mylabel(\u001b[39m\"\u001b[39m\u001b[39mPredicted Concentration\u001b[39m\u001b[39m\"\u001b[39m)\n",
      "File \u001b[0;32m~/anaconda3/envs/itmo_venv/lib/python3.9/site-packages/matplotlib/pyplot.py:2807\u001b[0m, in \u001b[0;36mscatter\u001b[0;34m(x, y, s, c, marker, cmap, norm, vmin, vmax, alpha, linewidths, edgecolors, plotnonfinite, data, **kwargs)\u001b[0m\n\u001b[1;32m   2802\u001b[0m \u001b[39m@_copy_docstring_and_deprecators\u001b[39m(Axes\u001b[39m.\u001b[39mscatter)\n\u001b[1;32m   2803\u001b[0m \u001b[39mdef\u001b[39;00m \u001b[39mscatter\u001b[39m(\n\u001b[1;32m   2804\u001b[0m         x, y, s\u001b[39m=\u001b[39m\u001b[39mNone\u001b[39;00m, c\u001b[39m=\u001b[39m\u001b[39mNone\u001b[39;00m, marker\u001b[39m=\u001b[39m\u001b[39mNone\u001b[39;00m, cmap\u001b[39m=\u001b[39m\u001b[39mNone\u001b[39;00m, norm\u001b[39m=\u001b[39m\u001b[39mNone\u001b[39;00m,\n\u001b[1;32m   2805\u001b[0m         vmin\u001b[39m=\u001b[39m\u001b[39mNone\u001b[39;00m, vmax\u001b[39m=\u001b[39m\u001b[39mNone\u001b[39;00m, alpha\u001b[39m=\u001b[39m\u001b[39mNone\u001b[39;00m, linewidths\u001b[39m=\u001b[39m\u001b[39mNone\u001b[39;00m, \u001b[39m*\u001b[39m,\n\u001b[1;32m   2806\u001b[0m         edgecolors\u001b[39m=\u001b[39m\u001b[39mNone\u001b[39;00m, plotnonfinite\u001b[39m=\u001b[39m\u001b[39mFalse\u001b[39;00m, data\u001b[39m=\u001b[39m\u001b[39mNone\u001b[39;00m, \u001b[39m*\u001b[39m\u001b[39m*\u001b[39mkwargs):\n\u001b[0;32m-> 2807\u001b[0m     __ret \u001b[39m=\u001b[39m gca()\u001b[39m.\u001b[39;49mscatter(\n\u001b[1;32m   2808\u001b[0m         x, y, s\u001b[39m=\u001b[39;49ms, c\u001b[39m=\u001b[39;49mc, marker\u001b[39m=\u001b[39;49mmarker, cmap\u001b[39m=\u001b[39;49mcmap, norm\u001b[39m=\u001b[39;49mnorm,\n\u001b[1;32m   2809\u001b[0m         vmin\u001b[39m=\u001b[39;49mvmin, vmax\u001b[39m=\u001b[39;49mvmax, alpha\u001b[39m=\u001b[39;49malpha, linewidths\u001b[39m=\u001b[39;49mlinewidths,\n\u001b[1;32m   2810\u001b[0m         edgecolors\u001b[39m=\u001b[39;49medgecolors, plotnonfinite\u001b[39m=\u001b[39;49mplotnonfinite,\n\u001b[1;32m   2811\u001b[0m         \u001b[39m*\u001b[39;49m\u001b[39m*\u001b[39;49m({\u001b[39m\"\u001b[39;49m\u001b[39mdata\u001b[39;49m\u001b[39m\"\u001b[39;49m: data} \u001b[39mif\u001b[39;49;00m data \u001b[39mis\u001b[39;49;00m \u001b[39mnot\u001b[39;49;00m \u001b[39mNone\u001b[39;49;00m \u001b[39melse\u001b[39;49;00m {}), \u001b[39m*\u001b[39;49m\u001b[39m*\u001b[39;49mkwargs)\n\u001b[1;32m   2812\u001b[0m     sci(__ret)\n\u001b[1;32m   2813\u001b[0m     \u001b[39mreturn\u001b[39;00m __ret\n",
      "File \u001b[0;32m~/anaconda3/envs/itmo_venv/lib/python3.9/site-packages/matplotlib/__init__.py:1412\u001b[0m, in \u001b[0;36m_preprocess_data.<locals>.inner\u001b[0;34m(ax, data, *args, **kwargs)\u001b[0m\n\u001b[1;32m   1409\u001b[0m \u001b[39m@functools\u001b[39m\u001b[39m.\u001b[39mwraps(func)\n\u001b[1;32m   1410\u001b[0m \u001b[39mdef\u001b[39;00m \u001b[39minner\u001b[39m(ax, \u001b[39m*\u001b[39margs, data\u001b[39m=\u001b[39m\u001b[39mNone\u001b[39;00m, \u001b[39m*\u001b[39m\u001b[39m*\u001b[39mkwargs):\n\u001b[1;32m   1411\u001b[0m     \u001b[39mif\u001b[39;00m data \u001b[39mis\u001b[39;00m \u001b[39mNone\u001b[39;00m:\n\u001b[0;32m-> 1412\u001b[0m         \u001b[39mreturn\u001b[39;00m func(ax, \u001b[39m*\u001b[39;49m\u001b[39mmap\u001b[39;49m(sanitize_sequence, args), \u001b[39m*\u001b[39;49m\u001b[39m*\u001b[39;49mkwargs)\n\u001b[1;32m   1414\u001b[0m     bound \u001b[39m=\u001b[39m new_sig\u001b[39m.\u001b[39mbind(ax, \u001b[39m*\u001b[39margs, \u001b[39m*\u001b[39m\u001b[39m*\u001b[39mkwargs)\n\u001b[1;32m   1415\u001b[0m     auto_label \u001b[39m=\u001b[39m (bound\u001b[39m.\u001b[39marguments\u001b[39m.\u001b[39mget(label_namer)\n\u001b[1;32m   1416\u001b[0m                   \u001b[39mor\u001b[39;00m bound\u001b[39m.\u001b[39mkwargs\u001b[39m.\u001b[39mget(label_namer))\n",
      "File \u001b[0;32m~/anaconda3/envs/itmo_venv/lib/python3.9/site-packages/matplotlib/axes/_axes.py:4369\u001b[0m, in \u001b[0;36mAxes.scatter\u001b[0;34m(self, x, y, s, c, marker, cmap, norm, vmin, vmax, alpha, linewidths, edgecolors, plotnonfinite, **kwargs)\u001b[0m\n\u001b[1;32m   4367\u001b[0m y \u001b[39m=\u001b[39m np\u001b[39m.\u001b[39mma\u001b[39m.\u001b[39mravel(y)\n\u001b[1;32m   4368\u001b[0m \u001b[39mif\u001b[39;00m x\u001b[39m.\u001b[39msize \u001b[39m!=\u001b[39m y\u001b[39m.\u001b[39msize:\n\u001b[0;32m-> 4369\u001b[0m     \u001b[39mraise\u001b[39;00m \u001b[39mValueError\u001b[39;00m(\u001b[39m\"\u001b[39m\u001b[39mx and y must be the same size\u001b[39m\u001b[39m\"\u001b[39m)\n\u001b[1;32m   4371\u001b[0m \u001b[39mif\u001b[39;00m s \u001b[39mis\u001b[39;00m \u001b[39mNone\u001b[39;00m:\n\u001b[1;32m   4372\u001b[0m     s \u001b[39m=\u001b[39m (\u001b[39m20\u001b[39m \u001b[39mif\u001b[39;00m rcParams[\u001b[39m'\u001b[39m\u001b[39m_internal.classic_mode\u001b[39m\u001b[39m'\u001b[39m] \u001b[39melse\u001b[39;00m\n\u001b[1;32m   4373\u001b[0m          rcParams[\u001b[39m'\u001b[39m\u001b[39mlines.markersize\u001b[39m\u001b[39m'\u001b[39m] \u001b[39m*\u001b[39m\u001b[39m*\u001b[39m \u001b[39m2.0\u001b[39m)\n",
      "\u001b[0;31mValueError\u001b[0m: x and y must be the same size"
     ]
    },
    {
     "data": {
      "image/png": "[encoded data removed]",
      "text/plain": [
       "<Figure size 640x480 with 1 Axes>"
      ]
     },
     "metadata": {},
     "output_type": "display_data"
    }
   ],
   "source": [
    "plt.scatter(y_train, KNeighborsRegressor_model_train_pred)\n",
    "plt.xlabel(\"Actual Concentration\")\n",
    "plt.ylabel(\"Predicted Concentration\")\n",
    "plt.title(\"Actual Concentration vs Predicted Concentration: KNeighbors Regression training_data\")\n",
    "plt.show()"
   ]
  },
  {
   "cell_type": "code",
   "execution_count": null,
   "metadata": {},
   "outputs": [
    {
     "data": {
      "image/png": "[encoded data removed]",
      "text/plain": [
       "<Figure size 640x480 with 1 Axes>"
      ]
     },
     "metadata": {},
     "output_type": "display_data"
    }
   ],
   "source": [
    "plt.scatter(y_test, KNeighborsRegressor_model_test_pred)\n",
    "plt.xlabel(\"Actual Concentration\")\n",
    "plt.ylabel(\"Predicted Concentration\")\n",
    "plt.title(\"Actual Concentration vs Predicted Concentration: KNeighbors Regression testing_data\")\n",
    "plt.show()"
   ]
  },
  {
   "cell_type": "code",
   "execution_count": null,
   "metadata": {},
   "outputs": [
    {
     "data": {
      "image/png": "[encoded data removed]",
      "text/plain": [
       "<Figure size 640x480 with 1 Axes>"
      ]
     },
     "metadata": {},
     "output_type": "display_data"
    }
   ],
   "source": [
    "plt.scatter(y_train, GradientBoostingRegressor_model_train_pred)\n",
    "plt.xlabel(\"Actual Concentration\")\n",
    "plt.ylabel(\"Predicted Concentration\")\n",
    "plt.title(\"Actual Concentration vs Predicted Concentration: GradientBoosting Regression training_data\")\n",
    "plt.show()"
   ]
  },
  {
   "cell_type": "code",
   "execution_count": null,
   "metadata": {},
   "outputs": [
    {
     "data": {
      "image/png": "[encoded data removed]",
      "text/plain": [
       "<Figure size 640x480 with 1 Axes>"
      ]
     },
     "metadata": {},
     "output_type": "display_data"
    }
   ],
   "source": [
    "plt.scatter(y_test, GradientBoostingRegressor_model_test_pred)\n",
    "plt.xlabel(\"Actual Concentration\")\n",
    "plt.ylabel(\"Predicted Concentration\")\n",
    "plt.title(\"Actual Concentration vs Predicted Concentration: GradientBoosting Regression testing_data\")\n",
    "plt.show()"
   ]
  }
 ],
 "metadata": {
  "kernelspec": {
   "display_name": "itmo_venv",
   "language": "python",
   "name": "python3"
  },
  "language_info": {
   "codemirror_mode": {
    "name": "ipython",
    "version": 3
   },
   "file_extension": ".py",
   "mimetype": "text/x-python",
   "name": "python",
   "nbconvert_exporter": "python",
   "pygments_lexer": "ipython3",
   "version": "3.9.7"
  },
  "orig_nbformat": 4,
  "vscode": {
   "interpreter": {
    "hash": "e9e089969cca1f64f9c2b1539c1dd684400aa781c362d389229072c8af671812"
   }
  }
 },
 "nbformat": 4,
 "nbformat_minor": 2
}
