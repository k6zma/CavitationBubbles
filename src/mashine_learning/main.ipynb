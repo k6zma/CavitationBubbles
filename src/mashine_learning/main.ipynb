{
 "cells": [
  {
   "attachments": {},
   "cell_type": "markdown",
   "metadata": {},
   "source": [
    "Подготовка датафреймов и заполнение данных"
   ]
  },
  {
   "attachments": {},
   "cell_type": "markdown",
   "metadata": {},
   "source": [
    "Импорт библиотек для заполнения данных"
   ]
  },
  {
   "cell_type": "code",
   "execution_count": 4,
   "metadata": {},
   "outputs": [],
   "source": [
    "import numpy as np\n",
    "import pandas as pd"
   ]
  },
  {
   "attachments": {},
   "cell_type": "markdown",
   "metadata": {},
   "source": [
    "Создание тренировочного датафрейма из файла csv"
   ]
  },
  {
   "cell_type": "code",
   "execution_count": 5,
   "metadata": {},
   "outputs": [
    {
     "data": {
      "text/html": [
       "<div>\n",
       "<style scoped>\n",
       "    .dataframe tbody tr th:only-of-type {\n",
       "        vertical-align: middle;\n",
       "    }\n",
       "\n",
       "    .dataframe tbody tr th {\n",
       "        vertical-align: top;\n",
       "    }\n",
       "\n",
       "    .dataframe thead th {\n",
       "        text-align: right;\n",
       "    }\n",
       "</style>\n",
       "<table border=\"1\" class=\"dataframe\">\n",
       "  <thead>\n",
       "    <tr style=\"text-align: right;\">\n",
       "      <th></th>\n",
       "      <th>Photo Name</th>\n",
       "      <th>Concentration</th>\n",
       "      <th>Area</th>\n",
       "      <th>Min distance</th>\n",
       "      <th>Mean distance</th>\n",
       "      <th>Max distance</th>\n",
       "      <th>Standart deviation</th>\n",
       "    </tr>\n",
       "  </thead>\n",
       "  <tbody>\n",
       "    <tr>\n",
       "      <th>0</th>\n",
       "      <td>30104</td>\n",
       "      <td>12.5</td>\n",
       "      <td>459595.808626</td>\n",
       "      <td>0</td>\n",
       "      <td>18.851519</td>\n",
       "      <td>39</td>\n",
       "      <td>9.531099</td>\n",
       "    </tr>\n",
       "    <tr>\n",
       "      <th>1</th>\n",
       "      <td>31248</td>\n",
       "      <td>12.5</td>\n",
       "      <td>387228.811245</td>\n",
       "      <td>0</td>\n",
       "      <td>60.957377</td>\n",
       "      <td>95</td>\n",
       "      <td>22.078680</td>\n",
       "    </tr>\n",
       "    <tr>\n",
       "      <th>2</th>\n",
       "      <td>30924</td>\n",
       "      <td>12.5</td>\n",
       "      <td>424319.520705</td>\n",
       "      <td>0</td>\n",
       "      <td>52.869520</td>\n",
       "      <td>83</td>\n",
       "      <td>17.748318</td>\n",
       "    </tr>\n",
       "    <tr>\n",
       "      <th>3</th>\n",
       "      <td>50159</td>\n",
       "      <td>12.5</td>\n",
       "      <td>411692.058862</td>\n",
       "      <td>0</td>\n",
       "      <td>9.624227</td>\n",
       "      <td>21</td>\n",
       "      <td>4.230352</td>\n",
       "    </tr>\n",
       "    <tr>\n",
       "      <th>4</th>\n",
       "      <td>50126</td>\n",
       "      <td>12.5</td>\n",
       "      <td>434205.382150</td>\n",
       "      <td>0</td>\n",
       "      <td>21.305216</td>\n",
       "      <td>36</td>\n",
       "      <td>7.126810</td>\n",
       "    </tr>\n",
       "    <tr>\n",
       "      <th>...</th>\n",
       "      <td>...</td>\n",
       "      <td>...</td>\n",
       "      <td>...</td>\n",
       "      <td>...</td>\n",
       "      <td>...</td>\n",
       "      <td>...</td>\n",
       "      <td>...</td>\n",
       "    </tr>\n",
       "    <tr>\n",
       "      <th>7234</th>\n",
       "      <td>30501</td>\n",
       "      <td>50.0</td>\n",
       "      <td>362070.133534</td>\n",
       "      <td>0</td>\n",
       "      <td>3.032832</td>\n",
       "      <td>19</td>\n",
       "      <td>3.219556</td>\n",
       "    </tr>\n",
       "    <tr>\n",
       "      <th>7235</th>\n",
       "      <td>30366</td>\n",
       "      <td>50.0</td>\n",
       "      <td>418539.450006</td>\n",
       "      <td>0</td>\n",
       "      <td>43.237500</td>\n",
       "      <td>80</td>\n",
       "      <td>18.886183</td>\n",
       "    </tr>\n",
       "    <tr>\n",
       "      <th>7236</th>\n",
       "      <td>20180</td>\n",
       "      <td>50.0</td>\n",
       "      <td>348555.470605</td>\n",
       "      <td>0</td>\n",
       "      <td>21.665083</td>\n",
       "      <td>37</td>\n",
       "      <td>8.419914</td>\n",
       "    </tr>\n",
       "    <tr>\n",
       "      <th>7237</th>\n",
       "      <td>30151</td>\n",
       "      <td>50.0</td>\n",
       "      <td>439799.078196</td>\n",
       "      <td>0</td>\n",
       "      <td>55.356151</td>\n",
       "      <td>78</td>\n",
       "      <td>19.496467</td>\n",
       "    </tr>\n",
       "    <tr>\n",
       "      <th>7238</th>\n",
       "      <td>40942</td>\n",
       "      <td>50.0</td>\n",
       "      <td>534180.684486</td>\n",
       "      <td>0</td>\n",
       "      <td>66.465181</td>\n",
       "      <td>101</td>\n",
       "      <td>27.793140</td>\n",
       "    </tr>\n",
       "  </tbody>\n",
       "</table>\n",
       "<p>7239 rows × 7 columns</p>\n",
       "</div>"
      ],
      "text/plain": [
       "      Photo Name  Concentration           Area  Min distance  Mean distance  \\\n",
       "0          30104           12.5  459595.808626             0      18.851519   \n",
       "1          31248           12.5  387228.811245             0      60.957377   \n",
       "2          30924           12.5  424319.520705             0      52.869520   \n",
       "3          50159           12.5  411692.058862             0       9.624227   \n",
       "4          50126           12.5  434205.382150             0      21.305216   \n",
       "...          ...            ...            ...           ...            ...   \n",
       "7234       30501           50.0  362070.133534             0       3.032832   \n",
       "7235       30366           50.0  418539.450006             0      43.237500   \n",
       "7236       20180           50.0  348555.470605             0      21.665083   \n",
       "7237       30151           50.0  439799.078196             0      55.356151   \n",
       "7238       40942           50.0  534180.684486             0      66.465181   \n",
       "\n",
       "      Max distance  Standart deviation  \n",
       "0               39            9.531099  \n",
       "1               95           22.078680  \n",
       "2               83           17.748318  \n",
       "3               21            4.230352  \n",
       "4               36            7.126810  \n",
       "...            ...                 ...  \n",
       "7234            19            3.219556  \n",
       "7235            80           18.886183  \n",
       "7236            37            8.419914  \n",
       "7237            78           19.496467  \n",
       "7238           101           27.793140  \n",
       "\n",
       "[7239 rows x 7 columns]"
      ]
     },
     "execution_count": 5,
     "metadata": {},
     "output_type": "execute_result"
    }
   ],
   "source": [
    "train_df = pd.read_csv('../../data/fixed_data/ResultTrain_FixedData.csv')\n",
    "train_df"
   ]
  },
  {
   "attachments": {},
   "cell_type": "markdown",
   "metadata": {},
   "source": [
    "Перемешивание строк в датафрейме"
   ]
  },
  {
   "cell_type": "code",
   "execution_count": 6,
   "metadata": {},
   "outputs": [
    {
     "data": {
      "text/html": [
       "<div>\n",
       "<style scoped>\n",
       "    .dataframe tbody tr th:only-of-type {\n",
       "        vertical-align: middle;\n",
       "    }\n",
       "\n",
       "    .dataframe tbody tr th {\n",
       "        vertical-align: top;\n",
       "    }\n",
       "\n",
       "    .dataframe thead th {\n",
       "        text-align: right;\n",
       "    }\n",
       "</style>\n",
       "<table border=\"1\" class=\"dataframe\">\n",
       "  <thead>\n",
       "    <tr style=\"text-align: right;\">\n",
       "      <th></th>\n",
       "      <th>Photo Name</th>\n",
       "      <th>Concentration</th>\n",
       "      <th>Area</th>\n",
       "      <th>Min distance</th>\n",
       "      <th>Mean distance</th>\n",
       "      <th>Max distance</th>\n",
       "      <th>Standart deviation</th>\n",
       "    </tr>\n",
       "  </thead>\n",
       "  <tbody>\n",
       "    <tr>\n",
       "      <th>4417</th>\n",
       "      <td>10227</td>\n",
       "      <td>96.0</td>\n",
       "      <td>127888.674174</td>\n",
       "      <td>0</td>\n",
       "      <td>8.484444</td>\n",
       "      <td>16</td>\n",
       "      <td>3.964395</td>\n",
       "    </tr>\n",
       "    <tr>\n",
       "      <th>508</th>\n",
       "      <td>40046</td>\n",
       "      <td>12.5</td>\n",
       "      <td>294784.591452</td>\n",
       "      <td>0</td>\n",
       "      <td>36.627764</td>\n",
       "      <td>60</td>\n",
       "      <td>12.921052</td>\n",
       "    </tr>\n",
       "    <tr>\n",
       "      <th>6496</th>\n",
       "      <td>10529</td>\n",
       "      <td>50.0</td>\n",
       "      <td>338473.728344</td>\n",
       "      <td>0</td>\n",
       "      <td>2.065029</td>\n",
       "      <td>4</td>\n",
       "      <td>1.076599</td>\n",
       "    </tr>\n",
       "    <tr>\n",
       "      <th>3065</th>\n",
       "      <td>11253</td>\n",
       "      <td>0.0</td>\n",
       "      <td>926865.923331</td>\n",
       "      <td>0</td>\n",
       "      <td>10.300505</td>\n",
       "      <td>24</td>\n",
       "      <td>5.725755</td>\n",
       "    </tr>\n",
       "    <tr>\n",
       "      <th>3058</th>\n",
       "      <td>11199</td>\n",
       "      <td>0.0</td>\n",
       "      <td>920977.572766</td>\n",
       "      <td>0</td>\n",
       "      <td>12.097686</td>\n",
       "      <td>23</td>\n",
       "      <td>5.124070</td>\n",
       "    </tr>\n",
       "    <tr>\n",
       "      <th>...</th>\n",
       "      <td>...</td>\n",
       "      <td>...</td>\n",
       "      <td>...</td>\n",
       "      <td>...</td>\n",
       "      <td>...</td>\n",
       "      <td>...</td>\n",
       "      <td>...</td>\n",
       "    </tr>\n",
       "    <tr>\n",
       "      <th>4623</th>\n",
       "      <td>11754</td>\n",
       "      <td>96.0</td>\n",
       "      <td>185984.163233</td>\n",
       "      <td>0</td>\n",
       "      <td>4.861804</td>\n",
       "      <td>10</td>\n",
       "      <td>2.804592</td>\n",
       "    </tr>\n",
       "    <tr>\n",
       "      <th>2716</th>\n",
       "      <td>10992</td>\n",
       "      <td>25.0</td>\n",
       "      <td>668706.098258</td>\n",
       "      <td>0</td>\n",
       "      <td>20.567993</td>\n",
       "      <td>43</td>\n",
       "      <td>10.039112</td>\n",
       "    </tr>\n",
       "    <tr>\n",
       "      <th>6073</th>\n",
       "      <td>31162</td>\n",
       "      <td>75.0</td>\n",
       "      <td>189670.879460</td>\n",
       "      <td>0</td>\n",
       "      <td>3.700952</td>\n",
       "      <td>9</td>\n",
       "      <td>2.572399</td>\n",
       "    </tr>\n",
       "    <tr>\n",
       "      <th>5915</th>\n",
       "      <td>30291</td>\n",
       "      <td>75.0</td>\n",
       "      <td>173554.861873</td>\n",
       "      <td>0</td>\n",
       "      <td>4.781065</td>\n",
       "      <td>10</td>\n",
       "      <td>2.444935</td>\n",
       "    </tr>\n",
       "    <tr>\n",
       "      <th>823</th>\n",
       "      <td>41056</td>\n",
       "      <td>12.5</td>\n",
       "      <td>210937.110892</td>\n",
       "      <td>0</td>\n",
       "      <td>35.841108</td>\n",
       "      <td>57</td>\n",
       "      <td>13.482614</td>\n",
       "    </tr>\n",
       "  </tbody>\n",
       "</table>\n",
       "<p>7239 rows × 7 columns</p>\n",
       "</div>"
      ],
      "text/plain": [
       "      Photo Name  Concentration           Area  Min distance  Mean distance  \\\n",
       "4417       10227           96.0  127888.674174             0       8.484444   \n",
       "508        40046           12.5  294784.591452             0      36.627764   \n",
       "6496       10529           50.0  338473.728344             0       2.065029   \n",
       "3065       11253            0.0  926865.923331             0      10.300505   \n",
       "3058       11199            0.0  920977.572766             0      12.097686   \n",
       "...          ...            ...            ...           ...            ...   \n",
       "4623       11754           96.0  185984.163233             0       4.861804   \n",
       "2716       10992           25.0  668706.098258             0      20.567993   \n",
       "6073       31162           75.0  189670.879460             0       3.700952   \n",
       "5915       30291           75.0  173554.861873             0       4.781065   \n",
       "823        41056           12.5  210937.110892             0      35.841108   \n",
       "\n",
       "      Max distance  Standart deviation  \n",
       "4417            16            3.964395  \n",
       "508             60           12.921052  \n",
       "6496             4            1.076599  \n",
       "3065            24            5.725755  \n",
       "3058            23            5.124070  \n",
       "...            ...                 ...  \n",
       "4623            10            2.804592  \n",
       "2716            43           10.039112  \n",
       "6073             9            2.572399  \n",
       "5915            10            2.444935  \n",
       "823             57           13.482614  \n",
       "\n",
       "[7239 rows x 7 columns]"
      ]
     },
     "execution_count": 6,
     "metadata": {},
     "output_type": "execute_result"
    }
   ],
   "source": [
    "from sklearn.utils import shuffle\n",
    "train_df = shuffle(train_df)\n",
    "train_df"
   ]
  },
  {
   "attachments": {},
   "cell_type": "markdown",
   "metadata": {},
   "source": [
    "Зполнение данных в переменные для обучения"
   ]
  },
  {
   "cell_type": "code",
   "execution_count": 7,
   "metadata": {},
   "outputs": [
    {
     "data": {
      "text/html": [
       "<div>\n",
       "<style scoped>\n",
       "    .dataframe tbody tr th:only-of-type {\n",
       "        vertical-align: middle;\n",
       "    }\n",
       "\n",
       "    .dataframe tbody tr th {\n",
       "        vertical-align: top;\n",
       "    }\n",
       "\n",
       "    .dataframe thead th {\n",
       "        text-align: right;\n",
       "    }\n",
       "</style>\n",
       "<table border=\"1\" class=\"dataframe\">\n",
       "  <thead>\n",
       "    <tr style=\"text-align: right;\">\n",
       "      <th></th>\n",
       "      <th>Area</th>\n",
       "      <th>Min distance</th>\n",
       "      <th>Mean distance</th>\n",
       "      <th>Max distance</th>\n",
       "      <th>Standart deviation</th>\n",
       "    </tr>\n",
       "  </thead>\n",
       "  <tbody>\n",
       "    <tr>\n",
       "      <th>4417</th>\n",
       "      <td>127888.674174</td>\n",
       "      <td>0</td>\n",
       "      <td>8.484444</td>\n",
       "      <td>16</td>\n",
       "      <td>3.964395</td>\n",
       "    </tr>\n",
       "    <tr>\n",
       "      <th>508</th>\n",
       "      <td>294784.591452</td>\n",
       "      <td>0</td>\n",
       "      <td>36.627764</td>\n",
       "      <td>60</td>\n",
       "      <td>12.921052</td>\n",
       "    </tr>\n",
       "    <tr>\n",
       "      <th>6496</th>\n",
       "      <td>338473.728344</td>\n",
       "      <td>0</td>\n",
       "      <td>2.065029</td>\n",
       "      <td>4</td>\n",
       "      <td>1.076599</td>\n",
       "    </tr>\n",
       "    <tr>\n",
       "      <th>3065</th>\n",
       "      <td>926865.923331</td>\n",
       "      <td>0</td>\n",
       "      <td>10.300505</td>\n",
       "      <td>24</td>\n",
       "      <td>5.725755</td>\n",
       "    </tr>\n",
       "    <tr>\n",
       "      <th>3058</th>\n",
       "      <td>920977.572766</td>\n",
       "      <td>0</td>\n",
       "      <td>12.097686</td>\n",
       "      <td>23</td>\n",
       "      <td>5.124070</td>\n",
       "    </tr>\n",
       "    <tr>\n",
       "      <th>...</th>\n",
       "      <td>...</td>\n",
       "      <td>...</td>\n",
       "      <td>...</td>\n",
       "      <td>...</td>\n",
       "      <td>...</td>\n",
       "    </tr>\n",
       "    <tr>\n",
       "      <th>4623</th>\n",
       "      <td>185984.163233</td>\n",
       "      <td>0</td>\n",
       "      <td>4.861804</td>\n",
       "      <td>10</td>\n",
       "      <td>2.804592</td>\n",
       "    </tr>\n",
       "    <tr>\n",
       "      <th>2716</th>\n",
       "      <td>668706.098258</td>\n",
       "      <td>0</td>\n",
       "      <td>20.567993</td>\n",
       "      <td>43</td>\n",
       "      <td>10.039112</td>\n",
       "    </tr>\n",
       "    <tr>\n",
       "      <th>6073</th>\n",
       "      <td>189670.879460</td>\n",
       "      <td>0</td>\n",
       "      <td>3.700952</td>\n",
       "      <td>9</td>\n",
       "      <td>2.572399</td>\n",
       "    </tr>\n",
       "    <tr>\n",
       "      <th>5915</th>\n",
       "      <td>173554.861873</td>\n",
       "      <td>0</td>\n",
       "      <td>4.781065</td>\n",
       "      <td>10</td>\n",
       "      <td>2.444935</td>\n",
       "    </tr>\n",
       "    <tr>\n",
       "      <th>823</th>\n",
       "      <td>210937.110892</td>\n",
       "      <td>0</td>\n",
       "      <td>35.841108</td>\n",
       "      <td>57</td>\n",
       "      <td>13.482614</td>\n",
       "    </tr>\n",
       "  </tbody>\n",
       "</table>\n",
       "<p>7239 rows × 5 columns</p>\n",
       "</div>"
      ],
      "text/plain": [
       "               Area  Min distance  Mean distance  Max distance  \\\n",
       "4417  127888.674174             0       8.484444            16   \n",
       "508   294784.591452             0      36.627764            60   \n",
       "6496  338473.728344             0       2.065029             4   \n",
       "3065  926865.923331             0      10.300505            24   \n",
       "3058  920977.572766             0      12.097686            23   \n",
       "...             ...           ...            ...           ...   \n",
       "4623  185984.163233             0       4.861804            10   \n",
       "2716  668706.098258             0      20.567993            43   \n",
       "6073  189670.879460             0       3.700952             9   \n",
       "5915  173554.861873             0       4.781065            10   \n",
       "823   210937.110892             0      35.841108            57   \n",
       "\n",
       "      Standart deviation  \n",
       "4417            3.964395  \n",
       "508            12.921052  \n",
       "6496            1.076599  \n",
       "3065            5.725755  \n",
       "3058            5.124070  \n",
       "...                  ...  \n",
       "4623            2.804592  \n",
       "2716           10.039112  \n",
       "6073            2.572399  \n",
       "5915            2.444935  \n",
       "823            13.482614  \n",
       "\n",
       "[7239 rows x 5 columns]"
      ]
     },
     "execution_count": 7,
     "metadata": {},
     "output_type": "execute_result"
    }
   ],
   "source": [
    "X_train = train_df.drop(['Concentration','Photo Name'], axis=1)\n",
    "X_train"
   ]
  },
  {
   "cell_type": "code",
   "execution_count": 8,
   "metadata": {},
   "outputs": [
    {
     "data": {
      "text/plain": [
       "4417    96.0\n",
       "508     12.5\n",
       "6496    50.0\n",
       "3065     0.0\n",
       "3058     0.0\n",
       "        ... \n",
       "4623    96.0\n",
       "2716    25.0\n",
       "6073    75.0\n",
       "5915    75.0\n",
       "823     12.5\n",
       "Name: Concentration, Length: 7239, dtype: float64"
      ]
     },
     "execution_count": 8,
     "metadata": {},
     "output_type": "execute_result"
    }
   ],
   "source": [
    "y_train = train_df[train_df.columns[1]]\n",
    "y_train"
   ]
  },
  {
   "cell_type": "markdown",
   "metadata": {},
   "source": [
    "Создание тестового датафрейма из файла csv"
   ]
  },
  {
   "cell_type": "code",
   "execution_count": 9,
   "metadata": {},
   "outputs": [
    {
     "data": {
      "text/html": [
       "<div>\n",
       "<style scoped>\n",
       "    .dataframe tbody tr th:only-of-type {\n",
       "        vertical-align: middle;\n",
       "    }\n",
       "\n",
       "    .dataframe tbody tr th {\n",
       "        vertical-align: top;\n",
       "    }\n",
       "\n",
       "    .dataframe thead th {\n",
       "        text-align: right;\n",
       "    }\n",
       "</style>\n",
       "<table border=\"1\" class=\"dataframe\">\n",
       "  <thead>\n",
       "    <tr style=\"text-align: right;\">\n",
       "      <th></th>\n",
       "      <th>Photo Name</th>\n",
       "      <th>Concentration</th>\n",
       "      <th>Area</th>\n",
       "      <th>Min distance</th>\n",
       "      <th>Mean distance</th>\n",
       "      <th>Max distance</th>\n",
       "      <th>Standart deviation</th>\n",
       "    </tr>\n",
       "  </thead>\n",
       "  <tbody>\n",
       "    <tr>\n",
       "      <th>0</th>\n",
       "      <td>20864</td>\n",
       "      <td>12.5</td>\n",
       "      <td>91621.680685</td>\n",
       "      <td>0</td>\n",
       "      <td>9.046512</td>\n",
       "      <td>17</td>\n",
       "      <td>3.204955</td>\n",
       "    </tr>\n",
       "    <tr>\n",
       "      <th>1</th>\n",
       "      <td>20778</td>\n",
       "      <td>12.5</td>\n",
       "      <td>110081.220131</td>\n",
       "      <td>0</td>\n",
       "      <td>6.319149</td>\n",
       "      <td>15</td>\n",
       "      <td>3.309816</td>\n",
       "    </tr>\n",
       "    <tr>\n",
       "      <th>2</th>\n",
       "      <td>20552</td>\n",
       "      <td>12.5</td>\n",
       "      <td>478240.730579</td>\n",
       "      <td>0</td>\n",
       "      <td>20.760296</td>\n",
       "      <td>38</td>\n",
       "      <td>6.440581</td>\n",
       "    </tr>\n",
       "    <tr>\n",
       "      <th>3</th>\n",
       "      <td>20913</td>\n",
       "      <td>12.5</td>\n",
       "      <td>83725.082797</td>\n",
       "      <td>0</td>\n",
       "      <td>22.042155</td>\n",
       "      <td>30</td>\n",
       "      <td>5.241976</td>\n",
       "    </tr>\n",
       "    <tr>\n",
       "      <th>4</th>\n",
       "      <td>20707</td>\n",
       "      <td>12.5</td>\n",
       "      <td>19678.020928</td>\n",
       "      <td>0</td>\n",
       "      <td>2.907514</td>\n",
       "      <td>6</td>\n",
       "      <td>1.304772</td>\n",
       "    </tr>\n",
       "    <tr>\n",
       "      <th>...</th>\n",
       "      <td>...</td>\n",
       "      <td>...</td>\n",
       "      <td>...</td>\n",
       "      <td>...</td>\n",
       "      <td>...</td>\n",
       "      <td>...</td>\n",
       "      <td>...</td>\n",
       "    </tr>\n",
       "    <tr>\n",
       "      <th>2994</th>\n",
       "      <td>50164</td>\n",
       "      <td>50.0</td>\n",
       "      <td>4145.556647</td>\n",
       "      <td>0</td>\n",
       "      <td>3.483516</td>\n",
       "      <td>9</td>\n",
       "      <td>2.160396</td>\n",
       "    </tr>\n",
       "    <tr>\n",
       "      <th>2995</th>\n",
       "      <td>50152</td>\n",
       "      <td>50.0</td>\n",
       "      <td>11773.917141</td>\n",
       "      <td>0</td>\n",
       "      <td>4.617021</td>\n",
       "      <td>9</td>\n",
       "      <td>2.236574</td>\n",
       "    </tr>\n",
       "    <tr>\n",
       "      <th>2996</th>\n",
       "      <td>50105</td>\n",
       "      <td>50.0</td>\n",
       "      <td>460895.602467</td>\n",
       "      <td>0</td>\n",
       "      <td>37.492291</td>\n",
       "      <td>63</td>\n",
       "      <td>15.561550</td>\n",
       "    </tr>\n",
       "    <tr>\n",
       "      <th>2997</th>\n",
       "      <td>50445</td>\n",
       "      <td>50.0</td>\n",
       "      <td>310270.142216</td>\n",
       "      <td>0</td>\n",
       "      <td>5.394030</td>\n",
       "      <td>10</td>\n",
       "      <td>2.480364</td>\n",
       "    </tr>\n",
       "    <tr>\n",
       "      <th>2998</th>\n",
       "      <td>50111</td>\n",
       "      <td>50.0</td>\n",
       "      <td>475633.712495</td>\n",
       "      <td>0</td>\n",
       "      <td>44.111575</td>\n",
       "      <td>70</td>\n",
       "      <td>15.097219</td>\n",
       "    </tr>\n",
       "  </tbody>\n",
       "</table>\n",
       "<p>2999 rows × 7 columns</p>\n",
       "</div>"
      ],
      "text/plain": [
       "      Photo Name  Concentration           Area  Min distance  Mean distance  \\\n",
       "0          20864           12.5   91621.680685             0       9.046512   \n",
       "1          20778           12.5  110081.220131             0       6.319149   \n",
       "2          20552           12.5  478240.730579             0      20.760296   \n",
       "3          20913           12.5   83725.082797             0      22.042155   \n",
       "4          20707           12.5   19678.020928             0       2.907514   \n",
       "...          ...            ...            ...           ...            ...   \n",
       "2994       50164           50.0    4145.556647             0       3.483516   \n",
       "2995       50152           50.0   11773.917141             0       4.617021   \n",
       "2996       50105           50.0  460895.602467             0      37.492291   \n",
       "2997       50445           50.0  310270.142216             0       5.394030   \n",
       "2998       50111           50.0  475633.712495             0      44.111575   \n",
       "\n",
       "      Max distance  Standart deviation  \n",
       "0               17            3.204955  \n",
       "1               15            3.309816  \n",
       "2               38            6.440581  \n",
       "3               30            5.241976  \n",
       "4                6            1.304772  \n",
       "...            ...                 ...  \n",
       "2994             9            2.160396  \n",
       "2995             9            2.236574  \n",
       "2996            63           15.561550  \n",
       "2997            10            2.480364  \n",
       "2998            70           15.097219  \n",
       "\n",
       "[2999 rows x 7 columns]"
      ]
     },
     "execution_count": 9,
     "metadata": {},
     "output_type": "execute_result"
    }
   ],
   "source": [
    "test_df = pd.read_csv('../../data/fixed_data/ResultTest_FixedData.csv')\n",
    "test_df"
   ]
  },
  {
   "cell_type": "markdown",
   "metadata": {},
   "source": [
    "Перемешивание строк в датафрейме"
   ]
  },
  {
   "cell_type": "code",
   "execution_count": 10,
   "metadata": {},
   "outputs": [
    {
     "data": {
      "text/html": [
       "<div>\n",
       "<style scoped>\n",
       "    .dataframe tbody tr th:only-of-type {\n",
       "        vertical-align: middle;\n",
       "    }\n",
       "\n",
       "    .dataframe tbody tr th {\n",
       "        vertical-align: top;\n",
       "    }\n",
       "\n",
       "    .dataframe thead th {\n",
       "        text-align: right;\n",
       "    }\n",
       "</style>\n",
       "<table border=\"1\" class=\"dataframe\">\n",
       "  <thead>\n",
       "    <tr style=\"text-align: right;\">\n",
       "      <th></th>\n",
       "      <th>Photo Name</th>\n",
       "      <th>Concentration</th>\n",
       "      <th>Area</th>\n",
       "      <th>Min distance</th>\n",
       "      <th>Mean distance</th>\n",
       "      <th>Max distance</th>\n",
       "      <th>Standart deviation</th>\n",
       "    </tr>\n",
       "  </thead>\n",
       "  <tbody>\n",
       "    <tr>\n",
       "      <th>2390</th>\n",
       "      <td>31588</td>\n",
       "      <td>75.0</td>\n",
       "      <td>181061.292003</td>\n",
       "      <td>0</td>\n",
       "      <td>2.925490</td>\n",
       "      <td>6</td>\n",
       "      <td>1.974925</td>\n",
       "    </tr>\n",
       "    <tr>\n",
       "      <th>1079</th>\n",
       "      <td>12186</td>\n",
       "      <td>0.0</td>\n",
       "      <td>950767.186895</td>\n",
       "      <td>0</td>\n",
       "      <td>8.978170</td>\n",
       "      <td>29</td>\n",
       "      <td>5.321994</td>\n",
       "    </tr>\n",
       "    <tr>\n",
       "      <th>975</th>\n",
       "      <td>41833</td>\n",
       "      <td>25.0</td>\n",
       "      <td>122437.429547</td>\n",
       "      <td>0</td>\n",
       "      <td>5.809211</td>\n",
       "      <td>13</td>\n",
       "      <td>2.615072</td>\n",
       "    </tr>\n",
       "    <tr>\n",
       "      <th>1344</th>\n",
       "      <td>12068</td>\n",
       "      <td>0.0</td>\n",
       "      <td>904618.426609</td>\n",
       "      <td>0</td>\n",
       "      <td>20.302269</td>\n",
       "      <td>42</td>\n",
       "      <td>10.608178</td>\n",
       "    </tr>\n",
       "    <tr>\n",
       "      <th>1871</th>\n",
       "      <td>60187</td>\n",
       "      <td>96.0</td>\n",
       "      <td>3846.038706</td>\n",
       "      <td>0</td>\n",
       "      <td>6.547368</td>\n",
       "      <td>16</td>\n",
       "      <td>4.020391</td>\n",
       "    </tr>\n",
       "    <tr>\n",
       "      <th>...</th>\n",
       "      <td>...</td>\n",
       "      <td>...</td>\n",
       "      <td>...</td>\n",
       "      <td>...</td>\n",
       "      <td>...</td>\n",
       "      <td>...</td>\n",
       "      <td>...</td>\n",
       "    </tr>\n",
       "    <tr>\n",
       "      <th>1547</th>\n",
       "      <td>60239</td>\n",
       "      <td>96.0</td>\n",
       "      <td>247715.431588</td>\n",
       "      <td>0</td>\n",
       "      <td>1.532095</td>\n",
       "      <td>3</td>\n",
       "      <td>1.012915</td>\n",
       "    </tr>\n",
       "    <tr>\n",
       "      <th>2117</th>\n",
       "      <td>31734</td>\n",
       "      <td>75.0</td>\n",
       "      <td>186509.702948</td>\n",
       "      <td>0</td>\n",
       "      <td>5.152855</td>\n",
       "      <td>30</td>\n",
       "      <td>5.791706</td>\n",
       "    </tr>\n",
       "    <tr>\n",
       "      <th>1512</th>\n",
       "      <td>50462</td>\n",
       "      <td>96.0</td>\n",
       "      <td>477034.446721</td>\n",
       "      <td>0</td>\n",
       "      <td>73.697950</td>\n",
       "      <td>159</td>\n",
       "      <td>41.323809</td>\n",
       "    </tr>\n",
       "    <tr>\n",
       "      <th>2740</th>\n",
       "      <td>50415</td>\n",
       "      <td>50.0</td>\n",
       "      <td>340626.884553</td>\n",
       "      <td>0</td>\n",
       "      <td>1.726619</td>\n",
       "      <td>5</td>\n",
       "      <td>1.149324</td>\n",
       "    </tr>\n",
       "    <tr>\n",
       "      <th>1000</th>\n",
       "      <td>50335</td>\n",
       "      <td>0.0</td>\n",
       "      <td>34295.189056</td>\n",
       "      <td>0</td>\n",
       "      <td>3.343750</td>\n",
       "      <td>6</td>\n",
       "      <td>1.515590</td>\n",
       "    </tr>\n",
       "  </tbody>\n",
       "</table>\n",
       "<p>2999 rows × 7 columns</p>\n",
       "</div>"
      ],
      "text/plain": [
       "      Photo Name  Concentration           Area  Min distance  Mean distance  \\\n",
       "2390       31588           75.0  181061.292003             0       2.925490   \n",
       "1079       12186            0.0  950767.186895             0       8.978170   \n",
       "975        41833           25.0  122437.429547             0       5.809211   \n",
       "1344       12068            0.0  904618.426609             0      20.302269   \n",
       "1871       60187           96.0    3846.038706             0       6.547368   \n",
       "...          ...            ...            ...           ...            ...   \n",
       "1547       60239           96.0  247715.431588             0       1.532095   \n",
       "2117       31734           75.0  186509.702948             0       5.152855   \n",
       "1512       50462           96.0  477034.446721             0      73.697950   \n",
       "2740       50415           50.0  340626.884553             0       1.726619   \n",
       "1000       50335            0.0   34295.189056             0       3.343750   \n",
       "\n",
       "      Max distance  Standart deviation  \n",
       "2390             6            1.974925  \n",
       "1079            29            5.321994  \n",
       "975             13            2.615072  \n",
       "1344            42           10.608178  \n",
       "1871            16            4.020391  \n",
       "...            ...                 ...  \n",
       "1547             3            1.012915  \n",
       "2117            30            5.791706  \n",
       "1512           159           41.323809  \n",
       "2740             5            1.149324  \n",
       "1000             6            1.515590  \n",
       "\n",
       "[2999 rows x 7 columns]"
      ]
     },
     "execution_count": 10,
     "metadata": {},
     "output_type": "execute_result"
    }
   ],
   "source": [
    "from sklearn.utils import shuffle\n",
    "test_df = shuffle(test_df)\n",
    "test_df"
   ]
  },
  {
   "cell_type": "markdown",
   "metadata": {},
   "source": [
    "Зполнение данных в переменные для обучения"
   ]
  },
  {
   "cell_type": "code",
   "execution_count": 11,
   "metadata": {},
   "outputs": [
    {
     "data": {
      "text/html": [
       "<div>\n",
       "<style scoped>\n",
       "    .dataframe tbody tr th:only-of-type {\n",
       "        vertical-align: middle;\n",
       "    }\n",
       "\n",
       "    .dataframe tbody tr th {\n",
       "        vertical-align: top;\n",
       "    }\n",
       "\n",
       "    .dataframe thead th {\n",
       "        text-align: right;\n",
       "    }\n",
       "</style>\n",
       "<table border=\"1\" class=\"dataframe\">\n",
       "  <thead>\n",
       "    <tr style=\"text-align: right;\">\n",
       "      <th></th>\n",
       "      <th>Area</th>\n",
       "      <th>Min distance</th>\n",
       "      <th>Mean distance</th>\n",
       "      <th>Max distance</th>\n",
       "      <th>Standart deviation</th>\n",
       "    </tr>\n",
       "  </thead>\n",
       "  <tbody>\n",
       "    <tr>\n",
       "      <th>2390</th>\n",
       "      <td>181061.292003</td>\n",
       "      <td>0</td>\n",
       "      <td>2.925490</td>\n",
       "      <td>6</td>\n",
       "      <td>1.974925</td>\n",
       "    </tr>\n",
       "    <tr>\n",
       "      <th>1079</th>\n",
       "      <td>950767.186895</td>\n",
       "      <td>0</td>\n",
       "      <td>8.978170</td>\n",
       "      <td>29</td>\n",
       "      <td>5.321994</td>\n",
       "    </tr>\n",
       "    <tr>\n",
       "      <th>975</th>\n",
       "      <td>122437.429547</td>\n",
       "      <td>0</td>\n",
       "      <td>5.809211</td>\n",
       "      <td>13</td>\n",
       "      <td>2.615072</td>\n",
       "    </tr>\n",
       "    <tr>\n",
       "      <th>1344</th>\n",
       "      <td>904618.426609</td>\n",
       "      <td>0</td>\n",
       "      <td>20.302269</td>\n",
       "      <td>42</td>\n",
       "      <td>10.608178</td>\n",
       "    </tr>\n",
       "    <tr>\n",
       "      <th>1871</th>\n",
       "      <td>3846.038706</td>\n",
       "      <td>0</td>\n",
       "      <td>6.547368</td>\n",
       "      <td>16</td>\n",
       "      <td>4.020391</td>\n",
       "    </tr>\n",
       "    <tr>\n",
       "      <th>...</th>\n",
       "      <td>...</td>\n",
       "      <td>...</td>\n",
       "      <td>...</td>\n",
       "      <td>...</td>\n",
       "      <td>...</td>\n",
       "    </tr>\n",
       "    <tr>\n",
       "      <th>1547</th>\n",
       "      <td>247715.431588</td>\n",
       "      <td>0</td>\n",
       "      <td>1.532095</td>\n",
       "      <td>3</td>\n",
       "      <td>1.012915</td>\n",
       "    </tr>\n",
       "    <tr>\n",
       "      <th>2117</th>\n",
       "      <td>186509.702948</td>\n",
       "      <td>0</td>\n",
       "      <td>5.152855</td>\n",
       "      <td>30</td>\n",
       "      <td>5.791706</td>\n",
       "    </tr>\n",
       "    <tr>\n",
       "      <th>1512</th>\n",
       "      <td>477034.446721</td>\n",
       "      <td>0</td>\n",
       "      <td>73.697950</td>\n",
       "      <td>159</td>\n",
       "      <td>41.323809</td>\n",
       "    </tr>\n",
       "    <tr>\n",
       "      <th>2740</th>\n",
       "      <td>340626.884553</td>\n",
       "      <td>0</td>\n",
       "      <td>1.726619</td>\n",
       "      <td>5</td>\n",
       "      <td>1.149324</td>\n",
       "    </tr>\n",
       "    <tr>\n",
       "      <th>1000</th>\n",
       "      <td>34295.189056</td>\n",
       "      <td>0</td>\n",
       "      <td>3.343750</td>\n",
       "      <td>6</td>\n",
       "      <td>1.515590</td>\n",
       "    </tr>\n",
       "  </tbody>\n",
       "</table>\n",
       "<p>2999 rows × 5 columns</p>\n",
       "</div>"
      ],
      "text/plain": [
       "               Area  Min distance  Mean distance  Max distance  \\\n",
       "2390  181061.292003             0       2.925490             6   \n",
       "1079  950767.186895             0       8.978170            29   \n",
       "975   122437.429547             0       5.809211            13   \n",
       "1344  904618.426609             0      20.302269            42   \n",
       "1871    3846.038706             0       6.547368            16   \n",
       "...             ...           ...            ...           ...   \n",
       "1547  247715.431588             0       1.532095             3   \n",
       "2117  186509.702948             0       5.152855            30   \n",
       "1512  477034.446721             0      73.697950           159   \n",
       "2740  340626.884553             0       1.726619             5   \n",
       "1000   34295.189056             0       3.343750             6   \n",
       "\n",
       "      Standart deviation  \n",
       "2390            1.974925  \n",
       "1079            5.321994  \n",
       "975             2.615072  \n",
       "1344           10.608178  \n",
       "1871            4.020391  \n",
       "...                  ...  \n",
       "1547            1.012915  \n",
       "2117            5.791706  \n",
       "1512           41.323809  \n",
       "2740            1.149324  \n",
       "1000            1.515590  \n",
       "\n",
       "[2999 rows x 5 columns]"
      ]
     },
     "execution_count": 11,
     "metadata": {},
     "output_type": "execute_result"
    }
   ],
   "source": [
    "X_test = test_df.drop(['Concentration', 'Photo Name'], axis=1)\n",
    "X_test"
   ]
  },
  {
   "cell_type": "code",
   "execution_count": 12,
   "metadata": {},
   "outputs": [
    {
     "data": {
      "text/plain": [
       "2390    75.0\n",
       "1079     0.0\n",
       "975     25.0\n",
       "1344     0.0\n",
       "1871    96.0\n",
       "        ... \n",
       "1547    96.0\n",
       "2117    75.0\n",
       "1512    96.0\n",
       "2740    50.0\n",
       "1000     0.0\n",
       "Name: Concentration, Length: 2999, dtype: float64"
      ]
     },
     "execution_count": 12,
     "metadata": {},
     "output_type": "execute_result"
    }
   ],
   "source": [
    "y_test = test_df[test_df.columns[1]]\n",
    "y_test"
   ]
  },
  {
   "attachments": {},
   "cell_type": "markdown",
   "metadata": {},
   "source": [
    "KNeighborsRegressor"
   ]
  },
  {
   "attachments": {},
   "cell_type": "markdown",
   "metadata": {},
   "source": [
    "Импорт библиотек\n"
   ]
  },
  {
   "cell_type": "code",
   "execution_count": 13,
   "metadata": {},
   "outputs": [],
   "source": [
    "from sklearn.neighbors import KNeighborsRegressor\n",
    "from sklearn import decomposition\n",
    "from sklearn.pipeline import Pipeline\n",
    "from sklearn.model_selection import GridSearchCV, cross_val_score\n",
    "from sklearn.preprocessing import StandardScaler"
   ]
  },
  {
   "attachments": {},
   "cell_type": "markdown",
   "metadata": {},
   "source": [
    "Заполнение моедли"
   ]
  },
  {
   "cell_type": "code",
   "execution_count": 14,
   "metadata": {},
   "outputs": [
    {
     "data": {
      "text/plain": [
       "KNeighborsRegressor()"
      ]
     },
     "execution_count": 14,
     "metadata": {},
     "output_type": "execute_result"
    }
   ],
   "source": [
    "KNeighborsRegressor_model = KNeighborsRegressor()\n",
    "KNeighborsRegressor_model.fit(X_train, y_train)"
   ]
  },
  {
   "attachments": {},
   "cell_type": "markdown",
   "metadata": {},
   "source": [
    "Делаем предикт для тренировочных данных"
   ]
  },
  {
   "cell_type": "code",
   "execution_count": 15,
   "metadata": {},
   "outputs": [],
   "source": [
    "KNeighborsRegressor_model_train_pred = KNeighborsRegressor_model.predict(X_test)"
   ]
  },
  {
   "attachments": {},
   "cell_type": "markdown",
   "metadata": {},
   "source": [
    "Импорт библиотек"
   ]
  },
  {
   "cell_type": "code",
   "execution_count": 16,
   "metadata": {},
   "outputs": [],
   "source": [
    "from sklearn.metrics import *"
   ]
  },
  {
   "attachments": {},
   "cell_type": "markdown",
   "metadata": {},
   "source": [
    "Выводим результаты для тренировочного предсказания"
   ]
  },
  {
   "cell_type": "code",
   "execution_count": 17,
   "metadata": {},
   "outputs": [
    {
     "ename": "ValueError",
     "evalue": "Found input variables with inconsistent numbers of samples: [7239, 2999]",
     "output_type": "error",
     "traceback": [
      "\u001b[0;31m---------------------------------------------------------------------------\u001b[0m",
      "\u001b[0;31mValueError\u001b[0m                                Traceback (most recent call last)",
      "Cell \u001b[0;32mIn[17], line 1\u001b[0m\n\u001b[0;32m----> 1\u001b[0m \u001b[39mprint\u001b[39m(mean_absolute_error(y_train\u001b[39m.\u001b[39;49mvalues, KNeighborsRegressor_model_train_pred))\n\u001b[1;32m      2\u001b[0m \u001b[39mprint\u001b[39m(mean_squared_log_error(y_train\u001b[39m.\u001b[39mvalues, KNeighborsRegressor_model_train_pred))\n\u001b[1;32m      3\u001b[0m \u001b[39mprint\u001b[39m(r2_score(y_train, KNeighborsRegressor_model_train_pred))\n",
      "File \u001b[0;32m~/anaconda3/envs/itmo_venv/lib/python3.9/site-packages/sklearn/metrics/_regression.py:191\u001b[0m, in \u001b[0;36mmean_absolute_error\u001b[0;34m(y_true, y_pred, sample_weight, multioutput)\u001b[0m\n\u001b[1;32m    135\u001b[0m \u001b[39mdef\u001b[39;00m \u001b[39mmean_absolute_error\u001b[39m(\n\u001b[1;32m    136\u001b[0m     y_true, y_pred, \u001b[39m*\u001b[39m, sample_weight\u001b[39m=\u001b[39m\u001b[39mNone\u001b[39;00m, multioutput\u001b[39m=\u001b[39m\u001b[39m\"\u001b[39m\u001b[39muniform_average\u001b[39m\u001b[39m\"\u001b[39m\n\u001b[1;32m    137\u001b[0m ):\n\u001b[1;32m    138\u001b[0m     \u001b[39m\"\"\"Mean absolute error regression loss.\u001b[39;00m\n\u001b[1;32m    139\u001b[0m \n\u001b[1;32m    140\u001b[0m \u001b[39m    Read more in the :ref:`User Guide <mean_absolute_error>`.\u001b[39;00m\n\u001b[0;32m   (...)\u001b[0m\n\u001b[1;32m    189\u001b[0m \u001b[39m    0.85...\u001b[39;00m\n\u001b[1;32m    190\u001b[0m \u001b[39m    \"\"\"\u001b[39;00m\n\u001b[0;32m--> 191\u001b[0m     y_type, y_true, y_pred, multioutput \u001b[39m=\u001b[39m _check_reg_targets(\n\u001b[1;32m    192\u001b[0m         y_true, y_pred, multioutput\n\u001b[1;32m    193\u001b[0m     )\n\u001b[1;32m    194\u001b[0m     check_consistent_length(y_true, y_pred, sample_weight)\n\u001b[1;32m    195\u001b[0m     output_errors \u001b[39m=\u001b[39m np\u001b[39m.\u001b[39maverage(np\u001b[39m.\u001b[39mabs(y_pred \u001b[39m-\u001b[39m y_true), weights\u001b[39m=\u001b[39msample_weight, axis\u001b[39m=\u001b[39m\u001b[39m0\u001b[39m)\n",
      "File \u001b[0;32m~/anaconda3/envs/itmo_venv/lib/python3.9/site-packages/sklearn/metrics/_regression.py:94\u001b[0m, in \u001b[0;36m_check_reg_targets\u001b[0;34m(y_true, y_pred, multioutput, dtype)\u001b[0m\n\u001b[1;32m     60\u001b[0m \u001b[39mdef\u001b[39;00m \u001b[39m_check_reg_targets\u001b[39m(y_true, y_pred, multioutput, dtype\u001b[39m=\u001b[39m\u001b[39m\"\u001b[39m\u001b[39mnumeric\u001b[39m\u001b[39m\"\u001b[39m):\n\u001b[1;32m     61\u001b[0m     \u001b[39m\"\"\"Check that y_true and y_pred belong to the same regression task.\u001b[39;00m\n\u001b[1;32m     62\u001b[0m \n\u001b[1;32m     63\u001b[0m \u001b[39m    Parameters\u001b[39;00m\n\u001b[0;32m   (...)\u001b[0m\n\u001b[1;32m     92\u001b[0m \u001b[39m        the dtype argument passed to check_array.\u001b[39;00m\n\u001b[1;32m     93\u001b[0m \u001b[39m    \"\"\"\u001b[39;00m\n\u001b[0;32m---> 94\u001b[0m     check_consistent_length(y_true, y_pred)\n\u001b[1;32m     95\u001b[0m     y_true \u001b[39m=\u001b[39m check_array(y_true, ensure_2d\u001b[39m=\u001b[39m\u001b[39mFalse\u001b[39;00m, dtype\u001b[39m=\u001b[39mdtype)\n\u001b[1;32m     96\u001b[0m     y_pred \u001b[39m=\u001b[39m check_array(y_pred, ensure_2d\u001b[39m=\u001b[39m\u001b[39mFalse\u001b[39;00m, dtype\u001b[39m=\u001b[39mdtype)\n",
      "File \u001b[0;32m~/anaconda3/envs/itmo_venv/lib/python3.9/site-packages/sklearn/utils/validation.py:332\u001b[0m, in \u001b[0;36mcheck_consistent_length\u001b[0;34m(*arrays)\u001b[0m\n\u001b[1;32m    330\u001b[0m uniques \u001b[39m=\u001b[39m np\u001b[39m.\u001b[39munique(lengths)\n\u001b[1;32m    331\u001b[0m \u001b[39mif\u001b[39;00m \u001b[39mlen\u001b[39m(uniques) \u001b[39m>\u001b[39m \u001b[39m1\u001b[39m:\n\u001b[0;32m--> 332\u001b[0m     \u001b[39mraise\u001b[39;00m \u001b[39mValueError\u001b[39;00m(\n\u001b[1;32m    333\u001b[0m         \u001b[39m\"\u001b[39m\u001b[39mFound input variables with inconsistent numbers of samples: \u001b[39m\u001b[39m%r\u001b[39;00m\u001b[39m\"\u001b[39m\n\u001b[1;32m    334\u001b[0m         \u001b[39m%\u001b[39m [\u001b[39mint\u001b[39m(l) \u001b[39mfor\u001b[39;00m l \u001b[39min\u001b[39;00m lengths]\n\u001b[1;32m    335\u001b[0m     )\n",
      "\u001b[0;31mValueError\u001b[0m: Found input variables with inconsistent numbers of samples: [7239, 2999]"
     ]
    }
   ],
   "source": [
    "print(mean_absolute_error(y_test.values, KNeighborsRegressor_model_train_pred))\n",
    "print(mean_squared_log_error(y_test.values, KNeighborsRegressor_model_train_pred))\n",
    "print(r2_score(y_test, KNeighborsRegressor_model_train_pred))"
   ]
  },
  {
   "attachments": {},
   "cell_type": "markdown",
   "metadata": {},
   "source": [
    "Делаем предикт для тестировочных данных"
   ]
  },
  {
   "cell_type": "code",
   "execution_count": null,
   "metadata": {},
   "outputs": [
    {
     "data": {
      "text/html": [
       "<div>\n",
       "<style scoped>\n",
       "    .dataframe tbody tr th:only-of-type {\n",
       "        vertical-align: middle;\n",
       "    }\n",
       "\n",
       "    .dataframe tbody tr th {\n",
       "        vertical-align: top;\n",
       "    }\n",
       "\n",
       "    .dataframe thead th {\n",
       "        text-align: right;\n",
       "    }\n",
       "</style>\n",
       "<table border=\"1\" class=\"dataframe\">\n",
       "  <thead>\n",
       "    <tr style=\"text-align: right;\">\n",
       "      <th></th>\n",
       "      <th>Area</th>\n",
       "      <th>Min distance</th>\n",
       "      <th>Mean distance</th>\n",
       "      <th>Max distance</th>\n",
       "      <th>Standart deviation</th>\n",
       "    </tr>\n",
       "  </thead>\n",
       "  <tbody>\n",
       "    <tr>\n",
       "      <th>236</th>\n",
       "      <td>7.609163e+03</td>\n",
       "      <td>0</td>\n",
       "      <td>1.935780</td>\n",
       "      <td>5</td>\n",
       "      <td>1.485559</td>\n",
       "    </tr>\n",
       "    <tr>\n",
       "      <th>86</th>\n",
       "      <td>2.894077e+04</td>\n",
       "      <td>0</td>\n",
       "      <td>2.910377</td>\n",
       "      <td>5</td>\n",
       "      <td>1.594947</td>\n",
       "    </tr>\n",
       "    <tr>\n",
       "      <th>1926</th>\n",
       "      <td>2.224330e+05</td>\n",
       "      <td>0</td>\n",
       "      <td>4.933450</td>\n",
       "      <td>10</td>\n",
       "      <td>3.103433</td>\n",
       "    </tr>\n",
       "    <tr>\n",
       "      <th>2043</th>\n",
       "      <td>9.739154e+05</td>\n",
       "      <td>0</td>\n",
       "      <td>13.090226</td>\n",
       "      <td>26</td>\n",
       "      <td>5.904436</td>\n",
       "    </tr>\n",
       "    <tr>\n",
       "      <th>2837</th>\n",
       "      <td>3.268129e+05</td>\n",
       "      <td>0</td>\n",
       "      <td>11.644163</td>\n",
       "      <td>22</td>\n",
       "      <td>4.844556</td>\n",
       "    </tr>\n",
       "    <tr>\n",
       "      <th>...</th>\n",
       "      <td>...</td>\n",
       "      <td>...</td>\n",
       "      <td>...</td>\n",
       "      <td>...</td>\n",
       "      <td>...</td>\n",
       "    </tr>\n",
       "    <tr>\n",
       "      <th>401</th>\n",
       "      <td>1.274403e+05</td>\n",
       "      <td>0</td>\n",
       "      <td>4.736111</td>\n",
       "      <td>9</td>\n",
       "      <td>2.701987</td>\n",
       "    </tr>\n",
       "    <tr>\n",
       "      <th>2479</th>\n",
       "      <td>1.010677e+06</td>\n",
       "      <td>0</td>\n",
       "      <td>19.197017</td>\n",
       "      <td>50</td>\n",
       "      <td>10.211098</td>\n",
       "    </tr>\n",
       "    <tr>\n",
       "      <th>1275</th>\n",
       "      <td>9.657666e+04</td>\n",
       "      <td>0</td>\n",
       "      <td>4.033505</td>\n",
       "      <td>11</td>\n",
       "      <td>2.194513</td>\n",
       "    </tr>\n",
       "    <tr>\n",
       "      <th>2621</th>\n",
       "      <td>8.305083e+03</td>\n",
       "      <td>0</td>\n",
       "      <td>15.126667</td>\n",
       "      <td>28</td>\n",
       "      <td>6.282565</td>\n",
       "    </tr>\n",
       "    <tr>\n",
       "      <th>289</th>\n",
       "      <td>4.266724e+05</td>\n",
       "      <td>0</td>\n",
       "      <td>48.474973</td>\n",
       "      <td>74</td>\n",
       "      <td>16.096625</td>\n",
       "    </tr>\n",
       "  </tbody>\n",
       "</table>\n",
       "<p>3000 rows × 5 columns</p>\n",
       "</div>"
      ],
      "text/plain": [
       "              Area  Min distance  Mean distance  Max distance  \\\n",
       "236   7.609163e+03             0       1.935780             5   \n",
       "86    2.894077e+04             0       2.910377             5   \n",
       "1926  2.224330e+05             0       4.933450            10   \n",
       "2043  9.739154e+05             0      13.090226            26   \n",
       "2837  3.268129e+05             0      11.644163            22   \n",
       "...            ...           ...            ...           ...   \n",
       "401   1.274403e+05             0       4.736111             9   \n",
       "2479  1.010677e+06             0      19.197017            50   \n",
       "1275  9.657666e+04             0       4.033505            11   \n",
       "2621  8.305083e+03             0      15.126667            28   \n",
       "289   4.266724e+05             0      48.474973            74   \n",
       "\n",
       "      Standart deviation  \n",
       "236             1.485559  \n",
       "86              1.594947  \n",
       "1926            3.103433  \n",
       "2043            5.904436  \n",
       "2837            4.844556  \n",
       "...                  ...  \n",
       "401             2.701987  \n",
       "2479           10.211098  \n",
       "1275            2.194513  \n",
       "2621            6.282565  \n",
       "289            16.096625  \n",
       "\n",
       "[3000 rows x 5 columns]"
      ]
     },
     "execution_count": 71,
     "metadata": {},
     "output_type": "execute_result"
    }
   ],
   "source": [
    "X_test\n",
    "#KNeighborsRegressor_model_test_pred = KNeighborsRegressor_model.predict(X_test)"
   ]
  },
  {
   "attachments": {},
   "cell_type": "markdown",
   "metadata": {},
   "source": [
    "Выводим результаты для тестового предсказания"
   ]
  },
  {
   "cell_type": "code",
   "execution_count": null,
   "metadata": {},
   "outputs": [
    {
     "name": "stdout",
     "output_type": "stream",
     "text": [
      "29.5855\n",
      "2.1775621860981635\n",
      "-0.23533016743714352\n"
     ]
    }
   ],
   "source": [
    "print(mean_absolute_error(y_test.values, KNeighborsRegressor_model_test_pred))\n",
    "print(mean_squared_log_error(y_test.values, KNeighborsRegressor_model_test_pred))\n",
    "print(r2_score(y_test, KNeighborsRegressor_model_test_pred))"
   ]
  },
  {
   "attachments": {},
   "cell_type": "markdown",
   "metadata": {},
   "source": [
    "GradientBoostingRegressor"
   ]
  },
  {
   "cell_type": "markdown",
   "metadata": {},
   "source": [
    "Импорт библиотек\n"
   ]
  },
  {
   "cell_type": "code",
   "execution_count": null,
   "metadata": {},
   "outputs": [],
   "source": [
    "from sklearn.ensemble import GradientBoostingRegressor"
   ]
  },
  {
   "cell_type": "markdown",
   "metadata": {},
   "source": [
    "Заполнение моедли"
   ]
  },
  {
   "cell_type": "code",
   "execution_count": null,
   "metadata": {},
   "outputs": [
    {
     "data": {
      "text/html": [
       "<style>#sk-container-id-2 {color: black;background-color: white;}#sk-container-id-2 pre{padding: 0;}#sk-container-id-2 div.sk-toggleable {background-color: white;}#sk-container-id-2 label.sk-toggleable__label {cursor: pointer;display: block;width: 100%;margin-bottom: 0;padding: 0.3em;box-sizing: border-box;text-align: center;}#sk-container-id-2 label.sk-toggleable__label-arrow:before {content: \"▸\";float: left;margin-right: 0.25em;color: #696969;}#sk-container-id-2 label.sk-toggleable__label-arrow:hover:before {color: black;}#sk-container-id-2 div.sk-estimator:hover label.sk-toggleable__label-arrow:before {color: black;}#sk-container-id-2 div.sk-toggleable__content {max-height: 0;max-width: 0;overflow: hidden;text-align: left;background-color: #f0f8ff;}#sk-container-id-2 div.sk-toggleable__content pre {margin: 0.2em;color: black;border-radius: 0.25em;background-color: #f0f8ff;}#sk-container-id-2 input.sk-toggleable__control:checked~div.sk-toggleable__content {max-height: 200px;max-width: 100%;overflow: auto;}#sk-container-id-2 input.sk-toggleable__control:checked~label.sk-toggleable__label-arrow:before {content: \"▾\";}#sk-container-id-2 div.sk-estimator input.sk-toggleable__control:checked~label.sk-toggleable__label {background-color: #d4ebff;}#sk-container-id-2 div.sk-label input.sk-toggleable__control:checked~label.sk-toggleable__label {background-color: #d4ebff;}#sk-container-id-2 input.sk-hidden--visually {border: 0;clip: rect(1px 1px 1px 1px);clip: rect(1px, 1px, 1px, 1px);height: 1px;margin: -1px;overflow: hidden;padding: 0;position: absolute;width: 1px;}#sk-container-id-2 div.sk-estimator {font-family: monospace;background-color: #f0f8ff;border: 1px dotted black;border-radius: 0.25em;box-sizing: border-box;margin-bottom: 0.5em;}#sk-container-id-2 div.sk-estimator:hover {background-color: #d4ebff;}#sk-container-id-2 div.sk-parallel-item::after {content: \"\";width: 100%;border-bottom: 1px solid gray;flex-grow: 1;}#sk-container-id-2 div.sk-label:hover label.sk-toggleable__label {background-color: #d4ebff;}#sk-container-id-2 div.sk-serial::before {content: \"\";position: absolute;border-left: 1px solid gray;box-sizing: border-box;top: 0;bottom: 0;left: 50%;z-index: 0;}#sk-container-id-2 div.sk-serial {display: flex;flex-direction: column;align-items: center;background-color: white;padding-right: 0.2em;padding-left: 0.2em;position: relative;}#sk-container-id-2 div.sk-item {position: relative;z-index: 1;}#sk-container-id-2 div.sk-parallel {display: flex;align-items: stretch;justify-content: center;background-color: white;position: relative;}#sk-container-id-2 div.sk-item::before, #sk-container-id-2 div.sk-parallel-item::before {content: \"\";position: absolute;border-left: 1px solid gray;box-sizing: border-box;top: 0;bottom: 0;left: 50%;z-index: -1;}#sk-container-id-2 div.sk-parallel-item {display: flex;flex-direction: column;z-index: 1;position: relative;background-color: white;}#sk-container-id-2 div.sk-parallel-item:first-child::after {align-self: flex-end;width: 50%;}#sk-container-id-2 div.sk-parallel-item:last-child::after {align-self: flex-start;width: 50%;}#sk-container-id-2 div.sk-parallel-item:only-child::after {width: 0;}#sk-container-id-2 div.sk-dashed-wrapped {border: 1px dashed gray;margin: 0 0.4em 0.5em 0.4em;box-sizing: border-box;padding-bottom: 0.4em;background-color: white;}#sk-container-id-2 div.sk-label label {font-family: monospace;font-weight: bold;display: inline-block;line-height: 1.2em;}#sk-container-id-2 div.sk-label-container {text-align: center;}#sk-container-id-2 div.sk-container {/* jupyter's `normalize.less` sets `[hidden] { display: none; }` but bootstrap.min.css set `[hidden] { display: none !important; }` so we also need the `!important` here to be able to override the default hidden behavior on the sphinx rendered scikit-learn.org. See: https://github.com/scikit-learn/scikit-learn/issues/21755 */display: inline-block !important;position: relative;}#sk-container-id-2 div.sk-text-repr-fallback {display: none;}</style><div id=\"sk-container-id-2\" class=\"sk-top-container\"><div class=\"sk-text-repr-fallback\"><pre>GradientBoostingRegressor()</pre><b>In a Jupyter environment, please rerun this cell to show the HTML representation or trust the notebook. <br />On GitHub, the HTML representation is unable to render, please try loading this page with nbviewer.org.</b></div><div class=\"sk-container\" hidden><div class=\"sk-item\"><div class=\"sk-estimator sk-toggleable\"><input class=\"sk-toggleable__control sk-hidden--visually\" id=\"sk-estimator-id-2\" type=\"checkbox\" checked><label for=\"sk-estimator-id-2\" class=\"sk-toggleable__label sk-toggleable__label-arrow\">GradientBoostingRegressor</label><div class=\"sk-toggleable__content\"><pre>GradientBoostingRegressor()</pre></div></div></div></div></div>"
      ],
      "text/plain": [
       "GradientBoostingRegressor()"
      ]
     },
     "execution_count": 18,
     "metadata": {},
     "output_type": "execute_result"
    }
   ],
   "source": [
    "GradientBoostingRegressor_model = GradientBoostingRegressor()\n",
    "GradientBoostingRegressor_model.fit(X_train, y_train)"
   ]
  },
  {
   "cell_type": "markdown",
   "metadata": {},
   "source": [
    "Делаем предикт для тренировочных данных"
   ]
  },
  {
   "cell_type": "code",
   "execution_count": null,
   "metadata": {},
   "outputs": [],
   "source": [
    "GradientBoostingRegressor_model_train_pred = GradientBoostingRegressor_model.predict(X_train)"
   ]
  },
  {
   "cell_type": "markdown",
   "metadata": {},
   "source": [
    "Импорт библиотек"
   ]
  },
  {
   "cell_type": "code",
   "execution_count": null,
   "metadata": {},
   "outputs": [],
   "source": [
    "from sklearn.metrics import *"
   ]
  },
  {
   "cell_type": "markdown",
   "metadata": {},
   "source": [
    "Выводим результаты для тренировочного предсказания"
   ]
  },
  {
   "cell_type": "code",
   "execution_count": null,
   "metadata": {},
   "outputs": [
    {
     "name": "stdout",
     "output_type": "stream",
     "text": [
      "11.896246188221125\n",
      "0.7791118191718982\n"
     ]
    }
   ],
   "source": [
    "print(mean_absolute_error(y_train.values, GradientBoostingRegressor_model_train_pred))\n",
    "print(r2_score(y_train, GradientBoostingRegressor_model_train_pred))"
   ]
  },
  {
   "cell_type": "markdown",
   "metadata": {},
   "source": [
    "Делаем предикт для тестировочных данных"
   ]
  },
  {
   "cell_type": "code",
   "execution_count": null,
   "metadata": {},
   "outputs": [],
   "source": [
    "GradientBoostingRegressor_model_test_pred = GradientBoostingRegressor_model.predict(X_test)"
   ]
  },
  {
   "attachments": {},
   "cell_type": "markdown",
   "metadata": {},
   "source": [
    "Выводим результаты для тестового предсказания"
   ]
  },
  {
   "cell_type": "code",
   "execution_count": null,
   "metadata": {},
   "outputs": [
    {
     "name": "stdout",
     "output_type": "stream",
     "text": [
      "27.733010861402832\n",
      "-0.10742469935269239\n"
     ]
    }
   ],
   "source": [
    "print(mean_absolute_error(y_test.values, GradientBoostingRegressor_model_test_pred))\n",
    "print(r2_score(y_test, GradientBoostingRegressor_model_test_pred))"
   ]
  },
  {
   "attachments": {},
   "cell_type": "markdown",
   "metadata": {},
   "source": [
    "RandomForestRegressor"
   ]
  },
  {
   "cell_type": "markdown",
   "metadata": {},
   "source": [
    "Импорт библиотек"
   ]
  },
  {
   "cell_type": "code",
   "execution_count": null,
   "metadata": {},
   "outputs": [],
   "source": [
    "from sklearn.ensemble import RandomForestRegressor"
   ]
  },
  {
   "cell_type": "markdown",
   "metadata": {},
   "source": [
    "Заполнение моедли"
   ]
  },
  {
   "cell_type": "code",
   "execution_count": null,
   "metadata": {},
   "outputs": [
    {
     "data": {
      "text/html": [
       "<style>#sk-container-id-3 {color: black;background-color: white;}#sk-container-id-3 pre{padding: 0;}#sk-container-id-3 div.sk-toggleable {background-color: white;}#sk-container-id-3 label.sk-toggleable__label {cursor: pointer;display: block;width: 100%;margin-bottom: 0;padding: 0.3em;box-sizing: border-box;text-align: center;}#sk-container-id-3 label.sk-toggleable__label-arrow:before {content: \"▸\";float: left;margin-right: 0.25em;color: #696969;}#sk-container-id-3 label.sk-toggleable__label-arrow:hover:before {color: black;}#sk-container-id-3 div.sk-estimator:hover label.sk-toggleable__label-arrow:before {color: black;}#sk-container-id-3 div.sk-toggleable__content {max-height: 0;max-width: 0;overflow: hidden;text-align: left;background-color: #f0f8ff;}#sk-container-id-3 div.sk-toggleable__content pre {margin: 0.2em;color: black;border-radius: 0.25em;background-color: #f0f8ff;}#sk-container-id-3 input.sk-toggleable__control:checked~div.sk-toggleable__content {max-height: 200px;max-width: 100%;overflow: auto;}#sk-container-id-3 input.sk-toggleable__control:checked~label.sk-toggleable__label-arrow:before {content: \"▾\";}#sk-container-id-3 div.sk-estimator input.sk-toggleable__control:checked~label.sk-toggleable__label {background-color: #d4ebff;}#sk-container-id-3 div.sk-label input.sk-toggleable__control:checked~label.sk-toggleable__label {background-color: #d4ebff;}#sk-container-id-3 input.sk-hidden--visually {border: 0;clip: rect(1px 1px 1px 1px);clip: rect(1px, 1px, 1px, 1px);height: 1px;margin: -1px;overflow: hidden;padding: 0;position: absolute;width: 1px;}#sk-container-id-3 div.sk-estimator {font-family: monospace;background-color: #f0f8ff;border: 1px dotted black;border-radius: 0.25em;box-sizing: border-box;margin-bottom: 0.5em;}#sk-container-id-3 div.sk-estimator:hover {background-color: #d4ebff;}#sk-container-id-3 div.sk-parallel-item::after {content: \"\";width: 100%;border-bottom: 1px solid gray;flex-grow: 1;}#sk-container-id-3 div.sk-label:hover label.sk-toggleable__label {background-color: #d4ebff;}#sk-container-id-3 div.sk-serial::before {content: \"\";position: absolute;border-left: 1px solid gray;box-sizing: border-box;top: 0;bottom: 0;left: 50%;z-index: 0;}#sk-container-id-3 div.sk-serial {display: flex;flex-direction: column;align-items: center;background-color: white;padding-right: 0.2em;padding-left: 0.2em;position: relative;}#sk-container-id-3 div.sk-item {position: relative;z-index: 1;}#sk-container-id-3 div.sk-parallel {display: flex;align-items: stretch;justify-content: center;background-color: white;position: relative;}#sk-container-id-3 div.sk-item::before, #sk-container-id-3 div.sk-parallel-item::before {content: \"\";position: absolute;border-left: 1px solid gray;box-sizing: border-box;top: 0;bottom: 0;left: 50%;z-index: -1;}#sk-container-id-3 div.sk-parallel-item {display: flex;flex-direction: column;z-index: 1;position: relative;background-color: white;}#sk-container-id-3 div.sk-parallel-item:first-child::after {align-self: flex-end;width: 50%;}#sk-container-id-3 div.sk-parallel-item:last-child::after {align-self: flex-start;width: 50%;}#sk-container-id-3 div.sk-parallel-item:only-child::after {width: 0;}#sk-container-id-3 div.sk-dashed-wrapped {border: 1px dashed gray;margin: 0 0.4em 0.5em 0.4em;box-sizing: border-box;padding-bottom: 0.4em;background-color: white;}#sk-container-id-3 div.sk-label label {font-family: monospace;font-weight: bold;display: inline-block;line-height: 1.2em;}#sk-container-id-3 div.sk-label-container {text-align: center;}#sk-container-id-3 div.sk-container {/* jupyter's `normalize.less` sets `[hidden] { display: none; }` but bootstrap.min.css set `[hidden] { display: none !important; }` so we also need the `!important` here to be able to override the default hidden behavior on the sphinx rendered scikit-learn.org. See: https://github.com/scikit-learn/scikit-learn/issues/21755 */display: inline-block !important;position: relative;}#sk-container-id-3 div.sk-text-repr-fallback {display: none;}</style><div id=\"sk-container-id-3\" class=\"sk-top-container\"><div class=\"sk-text-repr-fallback\"><pre>RandomForestRegressor()</pre><b>In a Jupyter environment, please rerun this cell to show the HTML representation or trust the notebook. <br />On GitHub, the HTML representation is unable to render, please try loading this page with nbviewer.org.</b></div><div class=\"sk-container\" hidden><div class=\"sk-item\"><div class=\"sk-estimator sk-toggleable\"><input class=\"sk-toggleable__control sk-hidden--visually\" id=\"sk-estimator-id-3\" type=\"checkbox\" checked><label for=\"sk-estimator-id-3\" class=\"sk-toggleable__label sk-toggleable__label-arrow\">RandomForestRegressor</label><div class=\"sk-toggleable__content\"><pre>RandomForestRegressor()</pre></div></div></div></div></div>"
      ],
      "text/plain": [
       "RandomForestRegressor()"
      ]
     },
     "execution_count": 25,
     "metadata": {},
     "output_type": "execute_result"
    }
   ],
   "source": [
    "RandomForestRegressor_model = RandomForestRegressor()\n",
    "RandomForestRegressor_model.fit(X_train, y_train)"
   ]
  },
  {
   "cell_type": "markdown",
   "metadata": {},
   "source": [
    "Делаем предикт для тренировочных данных"
   ]
  },
  {
   "cell_type": "code",
   "execution_count": null,
   "metadata": {},
   "outputs": [],
   "source": [
    "RandomForestRegressor_model_train_pred = RandomForestRegressor_model.predict(X_train)"
   ]
  },
  {
   "cell_type": "markdown",
   "metadata": {},
   "source": [
    "Импорт библиотек"
   ]
  },
  {
   "cell_type": "code",
   "execution_count": null,
   "metadata": {},
   "outputs": [],
   "source": [
    "from sklearn.metrics import *"
   ]
  },
  {
   "cell_type": "markdown",
   "metadata": {},
   "source": [
    "Выводим результаты для тестового предсказания"
   ]
  },
  {
   "cell_type": "code",
   "execution_count": null,
   "metadata": {},
   "outputs": [
    {
     "name": "stdout",
     "output_type": "stream",
     "text": [
      "3.5646125155408206\n",
      "0.11029427960399824\n",
      "0.969431521259789\n"
     ]
    }
   ],
   "source": [
    "print(mean_absolute_error(y_train.values, RandomForestRegressor_model_train_pred))\n",
    "print(mean_squared_log_error(y_train.values, RandomForestRegressor_model_train_pred))\n",
    "print(r2_score(y_train, RandomForestRegressor_model_train_pred))"
   ]
  },
  {
   "cell_type": "markdown",
   "metadata": {},
   "source": [
    "Делаем предикт для тестировочных данных"
   ]
  },
  {
   "cell_type": "code",
   "execution_count": null,
   "metadata": {},
   "outputs": [],
   "source": [
    "RandomForestRegressor_model_test_pred = RandomForestRegressor_model.predict(X_test)"
   ]
  },
  {
   "cell_type": "markdown",
   "metadata": {},
   "source": [
    "Выводим результаты для тестового предсказания"
   ]
  },
  {
   "cell_type": "code",
   "execution_count": null,
   "metadata": {},
   "outputs": [
    {
     "name": "stdout",
     "output_type": "stream",
     "text": [
      "26.196338333333337\n",
      "2.066365053139692\n",
      "-0.1179996306600255\n"
     ]
    }
   ],
   "source": [
    "print(mean_absolute_error(y_test.values, RandomForestRegressor_model_test_pred))\n",
    "print(mean_squared_log_error(y_test.values, RandomForestRegressor_model_test_pred))\n",
    "print(r2_score(y_test, RandomForestRegressor_model_test_pred))"
   ]
  },
  {
   "attachments": {},
   "cell_type": "markdown",
   "metadata": {},
   "source": [
    "DecisionTreeRegressor"
   ]
  },
  {
   "cell_type": "markdown",
   "metadata": {},
   "source": [
    "Импорт библиотек"
   ]
  },
  {
   "cell_type": "code",
   "execution_count": null,
   "metadata": {},
   "outputs": [],
   "source": [
    "from sklearn.tree import DecisionTreeRegressor"
   ]
  },
  {
   "cell_type": "markdown",
   "metadata": {},
   "source": [
    "Заполнение моедли"
   ]
  },
  {
   "cell_type": "code",
   "execution_count": null,
   "metadata": {},
   "outputs": [
    {
     "data": {
      "text/html": [
       "<style>#sk-container-id-4 {color: black;background-color: white;}#sk-container-id-4 pre{padding: 0;}#sk-container-id-4 div.sk-toggleable {background-color: white;}#sk-container-id-4 label.sk-toggleable__label {cursor: pointer;display: block;width: 100%;margin-bottom: 0;padding: 0.3em;box-sizing: border-box;text-align: center;}#sk-container-id-4 label.sk-toggleable__label-arrow:before {content: \"▸\";float: left;margin-right: 0.25em;color: #696969;}#sk-container-id-4 label.sk-toggleable__label-arrow:hover:before {color: black;}#sk-container-id-4 div.sk-estimator:hover label.sk-toggleable__label-arrow:before {color: black;}#sk-container-id-4 div.sk-toggleable__content {max-height: 0;max-width: 0;overflow: hidden;text-align: left;background-color: #f0f8ff;}#sk-container-id-4 div.sk-toggleable__content pre {margin: 0.2em;color: black;border-radius: 0.25em;background-color: #f0f8ff;}#sk-container-id-4 input.sk-toggleable__control:checked~div.sk-toggleable__content {max-height: 200px;max-width: 100%;overflow: auto;}#sk-container-id-4 input.sk-toggleable__control:checked~label.sk-toggleable__label-arrow:before {content: \"▾\";}#sk-container-id-4 div.sk-estimator input.sk-toggleable__control:checked~label.sk-toggleable__label {background-color: #d4ebff;}#sk-container-id-4 div.sk-label input.sk-toggleable__control:checked~label.sk-toggleable__label {background-color: #d4ebff;}#sk-container-id-4 input.sk-hidden--visually {border: 0;clip: rect(1px 1px 1px 1px);clip: rect(1px, 1px, 1px, 1px);height: 1px;margin: -1px;overflow: hidden;padding: 0;position: absolute;width: 1px;}#sk-container-id-4 div.sk-estimator {font-family: monospace;background-color: #f0f8ff;border: 1px dotted black;border-radius: 0.25em;box-sizing: border-box;margin-bottom: 0.5em;}#sk-container-id-4 div.sk-estimator:hover {background-color: #d4ebff;}#sk-container-id-4 div.sk-parallel-item::after {content: \"\";width: 100%;border-bottom: 1px solid gray;flex-grow: 1;}#sk-container-id-4 div.sk-label:hover label.sk-toggleable__label {background-color: #d4ebff;}#sk-container-id-4 div.sk-serial::before {content: \"\";position: absolute;border-left: 1px solid gray;box-sizing: border-box;top: 0;bottom: 0;left: 50%;z-index: 0;}#sk-container-id-4 div.sk-serial {display: flex;flex-direction: column;align-items: center;background-color: white;padding-right: 0.2em;padding-left: 0.2em;position: relative;}#sk-container-id-4 div.sk-item {position: relative;z-index: 1;}#sk-container-id-4 div.sk-parallel {display: flex;align-items: stretch;justify-content: center;background-color: white;position: relative;}#sk-container-id-4 div.sk-item::before, #sk-container-id-4 div.sk-parallel-item::before {content: \"\";position: absolute;border-left: 1px solid gray;box-sizing: border-box;top: 0;bottom: 0;left: 50%;z-index: -1;}#sk-container-id-4 div.sk-parallel-item {display: flex;flex-direction: column;z-index: 1;position: relative;background-color: white;}#sk-container-id-4 div.sk-parallel-item:first-child::after {align-self: flex-end;width: 50%;}#sk-container-id-4 div.sk-parallel-item:last-child::after {align-self: flex-start;width: 50%;}#sk-container-id-4 div.sk-parallel-item:only-child::after {width: 0;}#sk-container-id-4 div.sk-dashed-wrapped {border: 1px dashed gray;margin: 0 0.4em 0.5em 0.4em;box-sizing: border-box;padding-bottom: 0.4em;background-color: white;}#sk-container-id-4 div.sk-label label {font-family: monospace;font-weight: bold;display: inline-block;line-height: 1.2em;}#sk-container-id-4 div.sk-label-container {text-align: center;}#sk-container-id-4 div.sk-container {/* jupyter's `normalize.less` sets `[hidden] { display: none; }` but bootstrap.min.css set `[hidden] { display: none !important; }` so we also need the `!important` here to be able to override the default hidden behavior on the sphinx rendered scikit-learn.org. See: https://github.com/scikit-learn/scikit-learn/issues/21755 */display: inline-block !important;position: relative;}#sk-container-id-4 div.sk-text-repr-fallback {display: none;}</style><div id=\"sk-container-id-4\" class=\"sk-top-container\"><div class=\"sk-text-repr-fallback\"><pre>DecisionTreeRegressor()</pre><b>In a Jupyter environment, please rerun this cell to show the HTML representation or trust the notebook. <br />On GitHub, the HTML representation is unable to render, please try loading this page with nbviewer.org.</b></div><div class=\"sk-container\" hidden><div class=\"sk-item\"><div class=\"sk-estimator sk-toggleable\"><input class=\"sk-toggleable__control sk-hidden--visually\" id=\"sk-estimator-id-4\" type=\"checkbox\" checked><label for=\"sk-estimator-id-4\" class=\"sk-toggleable__label sk-toggleable__label-arrow\">DecisionTreeRegressor</label><div class=\"sk-toggleable__content\"><pre>DecisionTreeRegressor()</pre></div></div></div></div></div>"
      ],
      "text/plain": [
       "DecisionTreeRegressor()"
      ]
     },
     "execution_count": 32,
     "metadata": {},
     "output_type": "execute_result"
    }
   ],
   "source": [
    "DecisionTreeRegressor_model = DecisionTreeRegressor()\n",
    "DecisionTreeRegressor_model.fit(X_train, y_train)"
   ]
  },
  {
   "cell_type": "markdown",
   "metadata": {},
   "source": [
    "Делаем предикт для тренировочных данных"
   ]
  },
  {
   "cell_type": "code",
   "execution_count": null,
   "metadata": {},
   "outputs": [],
   "source": [
    "DecisionTreeRegressor_model_train_pred = DecisionTreeRegressor_model.predict(X_train)"
   ]
  },
  {
   "cell_type": "markdown",
   "metadata": {},
   "source": [
    "Импорт библиотек"
   ]
  },
  {
   "cell_type": "code",
   "execution_count": null,
   "metadata": {},
   "outputs": [],
   "source": [
    "from sklearn.metrics import *"
   ]
  },
  {
   "cell_type": "markdown",
   "metadata": {},
   "source": [
    "Выводим результаты для тестового предсказания"
   ]
  },
  {
   "cell_type": "code",
   "execution_count": null,
   "metadata": {},
   "outputs": [
    {
     "name": "stdout",
     "output_type": "stream",
     "text": [
      "0.0\n",
      "0.0\n",
      "1.0\n"
     ]
    }
   ],
   "source": [
    "print(mean_absolute_error(y_train.values, DecisionTreeRegressor_model_train_pred))\n",
    "print(mean_squared_log_error(y_train.values, DecisionTreeRegressor_model_train_pred))\n",
    "print(r2_score(y_train, DecisionTreeRegressor_model_train_pred))"
   ]
  },
  {
   "cell_type": "markdown",
   "metadata": {},
   "source": [
    "Делаем предикт для тестировочных данных"
   ]
  },
  {
   "cell_type": "code",
   "execution_count": null,
   "metadata": {},
   "outputs": [],
   "source": [
    "DecisionTreeRegressor_model_test_pred = DecisionTreeRegressor_model.predict(X_test)"
   ]
  },
  {
   "cell_type": "markdown",
   "metadata": {},
   "source": [
    "Выводим результаты для тестового предсказания"
   ]
  },
  {
   "cell_type": "code",
   "execution_count": null,
   "metadata": {},
   "outputs": [
    {
     "name": "stdout",
     "output_type": "stream",
     "text": [
      "27.019\n",
      "2.193867383326021\n",
      "-0.4107015180888185\n"
     ]
    }
   ],
   "source": [
    "print(mean_absolute_error(y_test.values, DecisionTreeRegressor_model_test_pred))\n",
    "print(mean_squared_log_error(y_test.values, DecisionTreeRegressor_model_test_pred))\n",
    "print(r2_score(y_test, DecisionTreeRegressor_model_test_pred))"
   ]
  },
  {
   "attachments": {},
   "cell_type": "markdown",
   "metadata": {},
   "source": [
    "MLPRegressor"
   ]
  },
  {
   "cell_type": "markdown",
   "metadata": {},
   "source": [
    "Импорт библиотек"
   ]
  },
  {
   "cell_type": "code",
   "execution_count": null,
   "metadata": {},
   "outputs": [],
   "source": [
    "from sklearn.neural_network import MLPRegressor"
   ]
  },
  {
   "cell_type": "markdown",
   "metadata": {},
   "source": [
    "Заполнение моедли"
   ]
  },
  {
   "cell_type": "code",
   "execution_count": null,
   "metadata": {},
   "outputs": [
    {
     "data": {
      "text/html": [
       "<style>#sk-container-id-5 {color: black;background-color: white;}#sk-container-id-5 pre{padding: 0;}#sk-container-id-5 div.sk-toggleable {background-color: white;}#sk-container-id-5 label.sk-toggleable__label {cursor: pointer;display: block;width: 100%;margin-bottom: 0;padding: 0.3em;box-sizing: border-box;text-align: center;}#sk-container-id-5 label.sk-toggleable__label-arrow:before {content: \"▸\";float: left;margin-right: 0.25em;color: #696969;}#sk-container-id-5 label.sk-toggleable__label-arrow:hover:before {color: black;}#sk-container-id-5 div.sk-estimator:hover label.sk-toggleable__label-arrow:before {color: black;}#sk-container-id-5 div.sk-toggleable__content {max-height: 0;max-width: 0;overflow: hidden;text-align: left;background-color: #f0f8ff;}#sk-container-id-5 div.sk-toggleable__content pre {margin: 0.2em;color: black;border-radius: 0.25em;background-color: #f0f8ff;}#sk-container-id-5 input.sk-toggleable__control:checked~div.sk-toggleable__content {max-height: 200px;max-width: 100%;overflow: auto;}#sk-container-id-5 input.sk-toggleable__control:checked~label.sk-toggleable__label-arrow:before {content: \"▾\";}#sk-container-id-5 div.sk-estimator input.sk-toggleable__control:checked~label.sk-toggleable__label {background-color: #d4ebff;}#sk-container-id-5 div.sk-label input.sk-toggleable__control:checked~label.sk-toggleable__label {background-color: #d4ebff;}#sk-container-id-5 input.sk-hidden--visually {border: 0;clip: rect(1px 1px 1px 1px);clip: rect(1px, 1px, 1px, 1px);height: 1px;margin: -1px;overflow: hidden;padding: 0;position: absolute;width: 1px;}#sk-container-id-5 div.sk-estimator {font-family: monospace;background-color: #f0f8ff;border: 1px dotted black;border-radius: 0.25em;box-sizing: border-box;margin-bottom: 0.5em;}#sk-container-id-5 div.sk-estimator:hover {background-color: #d4ebff;}#sk-container-id-5 div.sk-parallel-item::after {content: \"\";width: 100%;border-bottom: 1px solid gray;flex-grow: 1;}#sk-container-id-5 div.sk-label:hover label.sk-toggleable__label {background-color: #d4ebff;}#sk-container-id-5 div.sk-serial::before {content: \"\";position: absolute;border-left: 1px solid gray;box-sizing: border-box;top: 0;bottom: 0;left: 50%;z-index: 0;}#sk-container-id-5 div.sk-serial {display: flex;flex-direction: column;align-items: center;background-color: white;padding-right: 0.2em;padding-left: 0.2em;position: relative;}#sk-container-id-5 div.sk-item {position: relative;z-index: 1;}#sk-container-id-5 div.sk-parallel {display: flex;align-items: stretch;justify-content: center;background-color: white;position: relative;}#sk-container-id-5 div.sk-item::before, #sk-container-id-5 div.sk-parallel-item::before {content: \"\";position: absolute;border-left: 1px solid gray;box-sizing: border-box;top: 0;bottom: 0;left: 50%;z-index: -1;}#sk-container-id-5 div.sk-parallel-item {display: flex;flex-direction: column;z-index: 1;position: relative;background-color: white;}#sk-container-id-5 div.sk-parallel-item:first-child::after {align-self: flex-end;width: 50%;}#sk-container-id-5 div.sk-parallel-item:last-child::after {align-self: flex-start;width: 50%;}#sk-container-id-5 div.sk-parallel-item:only-child::after {width: 0;}#sk-container-id-5 div.sk-dashed-wrapped {border: 1px dashed gray;margin: 0 0.4em 0.5em 0.4em;box-sizing: border-box;padding-bottom: 0.4em;background-color: white;}#sk-container-id-5 div.sk-label label {font-family: monospace;font-weight: bold;display: inline-block;line-height: 1.2em;}#sk-container-id-5 div.sk-label-container {text-align: center;}#sk-container-id-5 div.sk-container {/* jupyter's `normalize.less` sets `[hidden] { display: none; }` but bootstrap.min.css set `[hidden] { display: none !important; }` so we also need the `!important` here to be able to override the default hidden behavior on the sphinx rendered scikit-learn.org. See: https://github.com/scikit-learn/scikit-learn/issues/21755 */display: inline-block !important;position: relative;}#sk-container-id-5 div.sk-text-repr-fallback {display: none;}</style><div id=\"sk-container-id-5\" class=\"sk-top-container\"><div class=\"sk-text-repr-fallback\"><pre>MLPRegressor()</pre><b>In a Jupyter environment, please rerun this cell to show the HTML representation or trust the notebook. <br />On GitHub, the HTML representation is unable to render, please try loading this page with nbviewer.org.</b></div><div class=\"sk-container\" hidden><div class=\"sk-item\"><div class=\"sk-estimator sk-toggleable\"><input class=\"sk-toggleable__control sk-hidden--visually\" id=\"sk-estimator-id-5\" type=\"checkbox\" checked><label for=\"sk-estimator-id-5\" class=\"sk-toggleable__label sk-toggleable__label-arrow\">MLPRegressor</label><div class=\"sk-toggleable__content\"><pre>MLPRegressor()</pre></div></div></div></div></div>"
      ],
      "text/plain": [
       "MLPRegressor()"
      ]
     },
     "execution_count": 39,
     "metadata": {},
     "output_type": "execute_result"
    }
   ],
   "source": [
    "MLPRegressor_model = MLPRegressor()\n",
    "MLPRegressor_model.fit(X_train, y_train)"
   ]
  },
  {
   "cell_type": "markdown",
   "metadata": {},
   "source": [
    "Делаем предикт для тренировочных данных"
   ]
  },
  {
   "cell_type": "code",
   "execution_count": null,
   "metadata": {},
   "outputs": [],
   "source": [
    "MLPRegressor_model_train_pred = MLPRegressor_model.predict(X_train)"
   ]
  },
  {
   "cell_type": "markdown",
   "metadata": {},
   "source": [
    "Импорт библиотек"
   ]
  },
  {
   "cell_type": "code",
   "execution_count": null,
   "metadata": {},
   "outputs": [],
   "source": [
    "from sklearn.metrics import *"
   ]
  },
  {
   "cell_type": "markdown",
   "metadata": {},
   "source": [
    "Выводим результаты для тестового предсказания"
   ]
  },
  {
   "cell_type": "code",
   "execution_count": null,
   "metadata": {},
   "outputs": [
    {
     "name": "stdout",
     "output_type": "stream",
     "text": [
      "43.96731974699091\n",
      "3.5894287182497133\n",
      "-1.0378553692148946\n"
     ]
    }
   ],
   "source": [
    "print(mean_absolute_error(y_train.values, MLPRegressor_model_train_pred))\n",
    "print(mean_squared_log_error(y_train.values, MLPRegressor_model_train_pred))\n",
    "print(r2_score(y_train, MLPRegressor_model_train_pred))"
   ]
  },
  {
   "cell_type": "markdown",
   "metadata": {},
   "source": [
    "Делаем предикт для тестировочных данных"
   ]
  },
  {
   "cell_type": "code",
   "execution_count": null,
   "metadata": {},
   "outputs": [
    {
     "name": "stdout",
     "output_type": "stream",
     "text": [
      "               Area  Min distance  Mean distance  Max distance  \\\n",
      "656   154701.347786             0      12.834783            20   \n",
      "1196  386686.653005             0      30.180328            57   \n",
      "2628   26508.982850             0      24.657407            47   \n",
      "2710   55843.381665             0      35.961686            71   \n",
      "1184  127313.740211             0       5.472036            14   \n",
      "...             ...           ...            ...           ...   \n",
      "1450   99049.051599             0       4.043147            13   \n",
      "399       42.818114             0       0.500000             1   \n",
      "1049  476829.500128             0      11.456946            20   \n",
      "2269   61892.277187             0       7.521739            14   \n",
      "1191  383485.449680             0      24.944771            47   \n",
      "\n",
      "      Standart deviation  \n",
      "656             3.750781  \n",
      "1196           10.001345  \n",
      "2628           11.352513  \n",
      "2710           16.192404  \n",
      "1184            3.273991  \n",
      "...                  ...  \n",
      "1450            2.405718  \n",
      "399             0.500000  \n",
      "1049            4.086625  \n",
      "2269            3.561504  \n",
      "1191           11.632969  \n",
      "\n",
      "[3000 rows x 5 columns]\n",
      "656     25.0\n",
      "1196    12.5\n",
      "2628    96.0\n",
      "2710    96.0\n",
      "1184    12.5\n",
      "        ... \n",
      "1450    12.5\n",
      "399     50.0\n",
      "1049    12.5\n",
      "2269     0.0\n",
      "1191    12.5\n",
      "Name: Concentration, Length: 3000, dtype: float64\n"
     ]
    }
   ],
   "source": [
    "MLPRegressor_model_test_pred = MLPRegressor_model.predict(X_test)\n",
    "print(X_test)\n"
   ]
  },
  {
   "cell_type": "code",
   "execution_count": null,
   "metadata": {},
   "outputs": [
    {
     "name": "stdout",
     "output_type": "stream",
     "text": [
      "656     25.0\n",
      "1196    12.5\n",
      "2628    96.0\n",
      "2710    96.0\n",
      "1184    12.5\n",
      "        ... \n",
      "1450    12.5\n",
      "399     50.0\n",
      "1049    12.5\n",
      "2269     0.0\n",
      "1191    12.5\n",
      "Name: Concentration, Length: 3000, dtype: float64\n"
     ]
    }
   ],
   "source": [
    "print(y_test)"
   ]
  },
  {
   "cell_type": "markdown",
   "metadata": {},
   "source": [
    "Выводим результаты для тестового предсказания"
   ]
  },
  {
   "cell_type": "code",
   "execution_count": null,
   "metadata": {},
   "outputs": [
    {
     "name": "stdout",
     "output_type": "stream",
     "text": [
      "40.23080554995802\n",
      "4.08167690361798\n",
      "-1.0182589150575723\n"
     ]
    }
   ],
   "source": [
    "print(mean_absolute_error(y_test.values, MLPRegressor_model_test_pred))\n",
    "print(mean_squared_log_error(y_test.values, MLPRegressor_model_test_pred))\n",
    "print(r2_score(y_test, MLPRegressor_model_test_pred))"
   ]
  },
  {
   "cell_type": "code",
   "execution_count": null,
   "metadata": {},
   "outputs": [],
   "source": [
    "import matplotlib.pyplot as plt"
   ]
  },
  {
   "cell_type": "code",
   "execution_count": null,
   "metadata": {},
   "outputs": [
    {
     "data": {
      "image/png": "[encoded data removed]",
      "text/plain": [
       "<Figure size 640x480 with 1 Axes>"
      ]
     },
     "metadata": {},
     "output_type": "display_data"
    }
   ],
   "source": [
    "plt.scatter(y_test, RandomForestRegressor_model_test_pred)\n",
    "plt.xlabel(\"Actual Concentration\")\n",
    "plt.ylabel(\"Predicted Concentration\")\n",
    "plt.title(\"Actual Concentration vs Predicted Concentration: RandomForest Regression testing_data\")\n",
    "plt.show()"
   ]
  },
  {
   "cell_type": "code",
   "execution_count": null,
   "metadata": {},
   "outputs": [
    {
     "data": {
      "image/png": "[encoded data removed]",
      "text/plain": [
       "<Figure size 640x480 with 1 Axes>"
      ]
     },
     "metadata": {},
     "output_type": "display_data"
    }
   ],
   "source": [
    "plt.scatter(y_train, RandomForestRegressor_model_train_pred)\n",
    "plt.xlabel(\"Actual Concentration\")\n",
    "plt.ylabel(\"Predicted Concentration\")\n",
    "plt.title(\"Actual Concentration vs Predicted Concentration: RandomForest Regression training_data\")\n",
    "plt.show()"
   ]
  },
  {
   "cell_type": "code",
   "execution_count": null,
   "metadata": {},
   "outputs": [
    {
     "data": {
      "image/png": "[encoded data removed]",
      "text/plain": [
       "<Figure size 640x480 with 1 Axes>"
      ]
     },
     "metadata": {},
     "output_type": "display_data"
    }
   ],
   "source": [
    "plt.scatter(y_train, KNeighborsRegressor_model_train_pred)\n",
    "plt.xlabel(\"Actual Concentration\")\n",
    "plt.ylabel(\"Predicted Concentration\")\n",
    "plt.title(\"Actual Concentration vs Predicted Concentration: KNeighbors Regression training_data\")\n",
    "plt.show()"
   ]
  },
  {
   "cell_type": "code",
   "execution_count": null,
   "metadata": {},
   "outputs": [
    {
     "data": {
      "image/png": "[encoded data removed]",
      "text/plain": [
       "<Figure size 640x480 with 1 Axes>"
      ]
     },
     "metadata": {},
     "output_type": "display_data"
    }
   ],
   "source": [
    "plt.scatter(y_test, KNeighborsRegressor_model_test_pred)\n",
    "plt.xlabel(\"Actual Concentration\")\n",
    "plt.ylabel(\"Predicted Concentration\")\n",
    "plt.title(\"Actual Concentration vs Predicted Concentration: KNeighbors Regression testing_data\")\n",
    "plt.show()"
   ]
  },
  {
   "cell_type": "code",
   "execution_count": null,
   "metadata": {},
   "outputs": [
    {
     "data": {
      "image/png": "[encoded data removed]",
      "text/plain": [
       "<Figure size 640x480 with 1 Axes>"
      ]
     },
     "metadata": {},
     "output_type": "display_data"
    }
   ],
   "source": [
    "plt.scatter(y_train, GradientBoostingRegressor_model_train_pred)\n",
    "plt.xlabel(\"Actual Concentration\")\n",
    "plt.ylabel(\"Predicted Concentration\")\n",
    "plt.title(\"Actual Concentration vs Predicted Concentration: GradientBoosting Regression training_data\")\n",
    "plt.show()"
   ]
  },
  {
   "cell_type": "code",
   "execution_count": null,
   "metadata": {},
   "outputs": [
    {
     "data": {
      "image/png": "[encoded data removed]",
      "text/plain": [
       "<Figure size 640x480 with 1 Axes>"
      ]
     },
     "metadata": {},
     "output_type": "display_data"
    }
   ],
   "source": [
    "plt.scatter(y_test, GradientBoostingRegressor_model_test_pred)\n",
    "plt.xlabel(\"Actual Concentration\")\n",
    "plt.ylabel(\"Predicted Concentration\")\n",
    "plt.title(\"Actual Concentration vs Predicted Concentration: GradientBoosting Regression testing_data\")\n",
    "plt.show()"
   ]
  }
 ],
 "metadata": {
  "kernelspec": {
   "display_name": "itmo_venv",
   "language": "python",
   "name": "python3"
  },
  "language_info": {
   "codemirror_mode": {
    "name": "ipython",
    "version": 3
   },
   "file_extension": ".py",
   "mimetype": "text/x-python",
   "name": "python",
   "nbconvert_exporter": "python",
   "pygments_lexer": "ipython3",
   "version": "3.9.7"
  },
  "orig_nbformat": 4,
  "vscode": {
   "interpreter": {
    "hash": "e9e089969cca1f64f9c2b1539c1dd684400aa781c362d389229072c8af671812"
   }
  }
 },
 "nbformat": 4,
 "nbformat_minor": 2
}
